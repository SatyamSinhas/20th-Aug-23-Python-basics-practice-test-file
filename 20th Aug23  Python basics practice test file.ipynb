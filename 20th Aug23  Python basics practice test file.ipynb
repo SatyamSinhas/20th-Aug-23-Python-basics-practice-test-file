{
 "cells": [
  {
   "cell_type": "code",
   "execution_count": 4,
   "id": "9ef5b8c3-ea93-4c62-bd37-20b6c7b48aba",
   "metadata": {},
   "outputs": [],
   "source": [
    "#Tuple Based Practice Problem "
   ]
  },
  {
   "cell_type": "code",
   "execution_count": null,
   "id": "19d5d4a6-d32b-43c3-9297-a89edbae986c",
   "metadata": {},
   "outputs": [],
   "source": [
    "#Q1"
   ]
  },
  {
   "cell_type": "code",
   "execution_count": 52,
   "id": "759f2ff0-242a-4b04-951b-171c212991cb",
   "metadata": {},
   "outputs": [],
   "source": [
    "tu = (1,2,3,4,5)"
   ]
  },
  {
   "cell_type": "code",
   "execution_count": 53,
   "id": "f84b72e5-e8a6-4ed9-b365-89c447ed32ca",
   "metadata": {},
   "outputs": [
    {
     "data": {
      "text/plain": [
       "(1, 2, 3, 4, 5)"
      ]
     },
     "execution_count": 53,
     "metadata": {},
     "output_type": "execute_result"
    }
   ],
   "source": [
    "tu"
   ]
  },
  {
   "cell_type": "code",
   "execution_count": 54,
   "id": "bf9a692c-e6c8-43a4-b514-112c509b5275",
   "metadata": {},
   "outputs": [
    {
     "data": {
      "text/plain": [
       "tuple"
      ]
     },
     "execution_count": 54,
     "metadata": {},
     "output_type": "execute_result"
    }
   ],
   "source": [
    "type(tu)"
   ]
  },
  {
   "cell_type": "code",
   "execution_count": 55,
   "id": "3f9f13b0-1e27-4e50-912e-3b094701868e",
   "metadata": {},
   "outputs": [],
   "source": [
    "#Q2 \n",
    "third = tu[2]"
   ]
  },
  {
   "cell_type": "code",
   "execution_count": 62,
   "id": "df787d9d-224d-4748-8c83-8cf21b28ad45",
   "metadata": {},
   "outputs": [
    {
     "name": "stdout",
     "output_type": "stream",
     "text": [
      "The third element of the tuple is: 3\n"
     ]
    }
   ],
   "source": [
    "print(\"The third element of the tuple is:\", third)"
   ]
  },
  {
   "cell_type": "code",
   "execution_count": 63,
   "id": "005d0933-6b26-4a83-9e6b-f48d5a24f47a",
   "metadata": {},
   "outputs": [],
   "source": [
    "count = 0   #Q3"
   ]
  },
  {
   "cell_type": "code",
   "execution_count": 65,
   "id": "56516b0c-b4b4-4819-9f30-2a727e64566e",
   "metadata": {},
   "outputs": [],
   "source": [
    "for _ in tu:\n",
    "    count+=1\n",
    "    "
   ]
  },
  {
   "cell_type": "code",
   "execution_count": 66,
   "id": "c92b0fe9-4a12-4bd0-bee7-72870f078117",
   "metadata": {},
   "outputs": [
    {
     "name": "stdout",
     "output_type": "stream",
     "text": [
      "The length of the tuple is: 5\n"
     ]
    }
   ],
   "source": [
    "print(\"The length of the tuple is:\", count)"
   ]
  },
  {
   "cell_type": "code",
   "execution_count": 40,
   "id": "3659df9d-5be1-493f-9de7-4531fa965ea7",
   "metadata": {},
   "outputs": [],
   "source": [
    "Tuple = (1,2,4,5,6,5,8,5,6,9)   #q4\n",
    "\n"
   ]
  },
  {
   "cell_type": "code",
   "execution_count": 41,
   "id": "5af58206-0ad3-4cef-af13-1823c5736ad0",
   "metadata": {},
   "outputs": [
    {
     "data": {
      "text/plain": [
       "(1, 2, 4, 5, 6, 5, 8, 5, 6, 9)"
      ]
     },
     "execution_count": 41,
     "metadata": {},
     "output_type": "execute_result"
    }
   ],
   "source": [
    "Tuple"
   ]
  },
  {
   "cell_type": "code",
   "execution_count": 42,
   "id": "604ef2f8-17be-4319-a20b-3c8ba447126b",
   "metadata": {},
   "outputs": [],
   "source": [
    "ele = 5\n",
    "\n",
    "count = 0"
   ]
  },
  {
   "cell_type": "code",
   "execution_count": 43,
   "id": "87b679b9-ed1e-435f-9112-13c2bf43ed34",
   "metadata": {},
   "outputs": [],
   "source": [
    "for rep in Tuple:\n",
    "    if rep == ele:\n",
    "        count += 1\n",
    "    \n",
    "    \n",
    "    "
   ]
  },
  {
   "cell_type": "code",
   "execution_count": 44,
   "id": "a954e324-d82a-469e-aa7d-f04e2e254f59",
   "metadata": {},
   "outputs": [
    {
     "name": "stdout",
     "output_type": "stream",
     "text": [
      "The element 5 appears 3 times in the tuple.\n"
     ]
    }
   ],
   "source": [
    "print(f\"The element {ele} appears {count} times in the tuple.\") "
   ]
  },
  {
   "cell_type": "code",
   "execution_count": 45,
   "id": "2518ebe3-a5ac-4a69-953c-26978e1b5a88",
   "metadata": {},
   "outputs": [],
   "source": [
    "#qc5"
   ]
  },
  {
   "cell_type": "code",
   "execution_count": 46,
   "id": "e462640c-4c41-4445-8710-ffa597ed2ddd",
   "metadata": {},
   "outputs": [],
   "source": [
    "index = 0"
   ]
  },
  {
   "cell_type": "code",
   "execution_count": 47,
   "id": "45024a98-7c9c-4c61-aff5-fbefd892965d",
   "metadata": {},
   "outputs": [],
   "source": [
    "index = Tuple.index(4)"
   ]
  },
  {
   "cell_type": "code",
   "execution_count": 48,
   "id": "db911269-5df7-4aa8-9a86-037c92bdc667",
   "metadata": {},
   "outputs": [
    {
     "name": "stdout",
     "output_type": "stream",
     "text": [
      "Index of 4 is:  2\n"
     ]
    }
   ],
   "source": [
    "print(\"Index of 4 is: \",index)  "
   ]
  },
  {
   "cell_type": "code",
   "execution_count": 66,
   "id": "663b6dbe-fbeb-45ba-8b4c-4b32d6cf4412",
   "metadata": {},
   "outputs": [
    {
     "name": "stdout",
     "output_type": "stream",
     "text": [
      " Element present \n"
     ]
    }
   ],
   "source": [
    "pre = 5                                      #q6\n",
    "\n",
    "if pre in Tuple:\n",
    "    print(\" Element present \")\n",
    "else: \n",
    "    print(\" Element Not presesnt \")\n",
    "    \n",
    "    "
   ]
  },
  {
   "cell_type": "code",
   "execution_count": 1,
   "id": "0eb9e735-3bc0-4006-8aa7-f2ab14da0bb2",
   "metadata": {},
   "outputs": [],
   "source": [
    "#q7"
   ]
  },
  {
   "cell_type": "code",
   "execution_count": 16,
   "id": "cf3ea301-5d28-416f-b91b-9b6d0038f0b6",
   "metadata": {},
   "outputs": [],
   "source": [
    "tup = (1,2,3,4,5)\n"
   ]
  },
  {
   "cell_type": "code",
   "execution_count": 17,
   "id": "35a43d24-5f1b-40fc-8f4f-12f100fc9dcb",
   "metadata": {},
   "outputs": [
    {
     "data": {
      "text/plain": [
       "(1, 2, 3, 4, 5)"
      ]
     },
     "execution_count": 17,
     "metadata": {},
     "output_type": "execute_result"
    }
   ],
   "source": [
    "tup"
   ]
  },
  {
   "cell_type": "code",
   "execution_count": 18,
   "id": "5398f0f2-0404-4c0d-a320-2d48f7852c19",
   "metadata": {},
   "outputs": [
    {
     "data": {
      "text/plain": [
       "tuple"
      ]
     },
     "execution_count": 18,
     "metadata": {},
     "output_type": "execute_result"
    }
   ],
   "source": [
    "type(tup)"
   ]
  },
  {
   "cell_type": "code",
   "execution_count": 19,
   "id": "0d60d980-0603-461b-aeb2-c81bf3779074",
   "metadata": {},
   "outputs": [],
   "source": [
    "list1 = [tup]\n"
   ]
  },
  {
   "cell_type": "code",
   "execution_count": 20,
   "id": "24c41cad-0694-45b9-ba70-6c6a90619e7d",
   "metadata": {},
   "outputs": [
    {
     "name": "stdout",
     "output_type": "stream",
     "text": [
      "Tuple: (1, 2, 3, 4, 5)\n",
      "List: [(1, 2, 3, 4, 5)]\n"
     ]
    }
   ],
   "source": [
    "print(\"Tuple:\", tup)\n",
    "print(\"List:\", list1)"
   ]
  },
  {
   "cell_type": "code",
   "execution_count": 21,
   "id": "091f1f4c-3c64-45c1-8867-2dcc6ceea5c0",
   "metadata": {},
   "outputs": [],
   "source": [
    "#qus8"
   ]
  },
  {
   "cell_type": "code",
   "execution_count": 35,
   "id": "ca4f87f3-e80f-41c5-bf39-26f324eb10c6",
   "metadata": {},
   "outputs": [],
   "source": [
    "Tup1 = tuple(list1)\n",
    "\n"
   ]
  },
  {
   "cell_type": "code",
   "execution_count": 36,
   "id": "d7601081-4574-41ca-984b-d0c2f05b4184",
   "metadata": {},
   "outputs": [
    {
     "name": "stdout",
     "output_type": "stream",
     "text": [
      "Tuple: ((1, 2, 3, 4, 5),)\n"
     ]
    }
   ],
   "source": [
    "print(\"Tuple:\", Tup1)"
   ]
  },
  {
   "cell_type": "code",
   "execution_count": 37,
   "id": "e4be1883-051d-4b79-9cf5-9a00c463e5a8",
   "metadata": {},
   "outputs": [],
   "source": [
    "#ques 9"
   ]
  },
  {
   "cell_type": "code",
   "execution_count": 1,
   "id": "11f893cd-7d7d-4cd5-b183-269c6559e6a6",
   "metadata": {},
   "outputs": [],
   "source": [
    "Tup = (20,30,40,50)\n"
   ]
  },
  {
   "cell_type": "code",
   "execution_count": 3,
   "id": "06391bcc-138a-45eb-8753-a016c6718e69",
   "metadata": {},
   "outputs": [],
   "source": [
    "v1,v2,v3,v4 = Tup\n"
   ]
  },
  {
   "cell_type": "code",
   "execution_count": 7,
   "id": "fdaec110-b2fc-4f37-acbf-71e70cfed1bb",
   "metadata": {},
   "outputs": [
    {
     "name": "stdout",
     "output_type": "stream",
     "text": [
      "Var 1= 20\n",
      "Var 2= 30\n",
      "Var 3= 40\n",
      "Var 4= 50\n"
     ]
    }
   ],
   "source": [
    "print(\"Var 1=\",v1)\n",
    "print(\"Var 2=\",v2)\n",
    "print(\"Var 3=\",v3)\n",
    "print(\"Var 4=\",v4)"
   ]
  },
  {
   "cell_type": "code",
   "execution_count": 9,
   "id": "0c8109b9-85d4-4458-b441-f8a423a2c43d",
   "metadata": {},
   "outputs": [],
   "source": [
    "#ques 10"
   ]
  },
  {
   "cell_type": "code",
   "execution_count": 84,
   "id": "e79f2e3e-992a-4fca-a73c-8f72c8736530",
   "metadata": {},
   "outputs": [],
   "source": [
    "Even = [x*1 for x in range(1, 11) if x%2==0]\n",
    "\n"
   ]
  },
  {
   "cell_type": "code",
   "execution_count": 85,
   "id": "7151ea25-1c0e-4241-91b9-68303a22bf49",
   "metadata": {},
   "outputs": [
    {
     "name": "stdout",
     "output_type": "stream",
     "text": [
      "Even Numbers = [2, 4, 6, 8, 10]\n"
     ]
    }
   ],
   "source": [
    "print(\"Even Numbers =\", Even)"
   ]
  },
  {
   "cell_type": "code",
   "execution_count": 88,
   "id": "3c3cf1d7-1e2c-453b-b3b2-b4a702d32303",
   "metadata": {},
   "outputs": [],
   "source": [
    " Odd = [x for x in range(10) if x%2!=0]\n",
    "#ques11"
   ]
  },
  {
   "cell_type": "code",
   "execution_count": 89,
   "id": "2836409b-5dfe-4e46-a102-4c094f5d205e",
   "metadata": {},
   "outputs": [
    {
     "name": "stdout",
     "output_type": "stream",
     "text": [
      "Odd Numbers = [1, 3, 5, 7, 9]\n"
     ]
    }
   ],
   "source": [
    "print(\"Odd Numbers =\", Odd)"
   ]
  },
  {
   "cell_type": "code",
   "execution_count": 1,
   "id": "6e4c7a55-9826-4093-8c28-a4e62ae047ee",
   "metadata": {},
   "outputs": [],
   "source": [
    "tup1 = (1,2,3)\n",
    "#ques12"
   ]
  },
  {
   "cell_type": "code",
   "execution_count": 2,
   "id": "61f68cec-afb7-4687-bdde-96132836c3a7",
   "metadata": {},
   "outputs": [],
   "source": [
    "tup2 = (4,5,6)"
   ]
  },
  {
   "cell_type": "code",
   "execution_count": 3,
   "id": "957fb831-7780-429e-b89b-1b6e9cae8361",
   "metadata": {},
   "outputs": [],
   "source": [
    "conc = tup1 + tup2"
   ]
  },
  {
   "cell_type": "code",
   "execution_count": 4,
   "id": "1def235e-dd47-4c17-a120-f21270b0d12e",
   "metadata": {},
   "outputs": [
    {
     "name": "stdout",
     "output_type": "stream",
     "text": [
      "Concatenated tuple: (1, 2, 3, 4, 5, 6)\n"
     ]
    }
   ],
   "source": [
    "print(\"Concatenated tuple:\", conc)"
   ]
  },
  {
   "cell_type": "code",
   "execution_count": 5,
   "id": "b9fd11c3-9663-45b7-adbd-ad9d8cbb9ddd",
   "metadata": {},
   "outputs": [],
   "source": [
    "#ques13"
   ]
  },
  {
   "cell_type": "code",
   "execution_count": 6,
   "id": "bb8660b4-32a4-40b8-939f-65d3cb366b18",
   "metadata": {},
   "outputs": [],
   "source": [
    "tu1 =(1,2,3)\n"
   ]
  },
  {
   "cell_type": "code",
   "execution_count": 7,
   "id": "19eb3904-d877-415f-b30d-22f7c1c40f45",
   "metadata": {},
   "outputs": [],
   "source": [
    "Repeat = tu1 * 3"
   ]
  },
  {
   "cell_type": "code",
   "execution_count": 8,
   "id": "684a9e19-31b4-42c3-a4ac-45033ff84244",
   "metadata": {},
   "outputs": [
    {
     "name": "stdout",
     "output_type": "stream",
     "text": [
      "Repeated tuple: (1, 2, 3, 1, 2, 3, 1, 2, 3)\n"
     ]
    }
   ],
   "source": [
    "print(\"Repeated tuple:\", Repeat)"
   ]
  },
  {
   "cell_type": "code",
   "execution_count": 1,
   "id": "31e28f78-25be-4894-a2fb-5688344984e4",
   "metadata": {},
   "outputs": [],
   "source": [
    "#ques14"
   ]
  },
  {
   "cell_type": "code",
   "execution_count": 29,
   "id": "a8a09246-ab25-4ccf-b716-2f4fc0d7ae0c",
   "metadata": {},
   "outputs": [],
   "source": [
    "A = (1,2,3)\n",
    "B = ()\n",
    "\n"
   ]
  },
  {
   "cell_type": "code",
   "execution_count": 30,
   "id": "87997e5a-42b6-4e5e-988e-3d0aa2c3cc45",
   "metadata": {},
   "outputs": [
    {
     "name": "stdout",
     "output_type": "stream",
     "text": [
      "B is empty\n",
      "A is not empty\n"
     ]
    }
   ],
   "source": [
    "if not B:\n",
    "   print(\"B is empty\")\n",
    "else:\n",
    "   print(\"B is not empty\")\n",
    "if not A:\n",
    "   print(\"A is empty\")\n",
    "else:\n",
    "   print(\"A is not empty\")"
   ]
  },
  {
   "cell_type": "code",
   "execution_count": 12,
   "id": "06ae076c-304d-46ac-9194-225a3ae71a3f",
   "metadata": {},
   "outputs": [],
   "source": [
    "#QUES15"
   ]
  },
  {
   "cell_type": "code",
   "execution_count": 13,
   "id": "60cbb4be-27d2-4a76-9867-127a8d8275cd",
   "metadata": {},
   "outputs": [],
   "source": [
    "nested = ((1, 2, 3), ('a', 'b', 'c'))\n"
   ]
  },
  {
   "cell_type": "code",
   "execution_count": 14,
   "id": "67891ffd-6222-47d6-88a0-eca268df4546",
   "metadata": {},
   "outputs": [
    {
     "name": "stdout",
     "output_type": "stream",
     "text": [
      "Nested tuple: ((1, 2, 3), ('a', 'b', 'c'))\n"
     ]
    }
   ],
   "source": [
    "print(\"Nested tuple:\", nested)"
   ]
  },
  {
   "cell_type": "code",
   "execution_count": 15,
   "id": "497da43c-a302-4bfe-94e9-b701398994c4",
   "metadata": {},
   "outputs": [],
   "source": [
    "#QUES16"
   ]
  },
  {
   "cell_type": "code",
   "execution_count": 17,
   "id": "a5d6dc92-7298-4f4b-b658-54ab26268cc7",
   "metadata": {},
   "outputs": [],
   "source": [
    "W = nested[0]"
   ]
  },
  {
   "cell_type": "code",
   "execution_count": 18,
   "id": "442a74e0-1db4-4114-a44c-0b8543c6e629",
   "metadata": {},
   "outputs": [
    {
     "name": "stdout",
     "output_type": "stream",
     "text": [
      "First element of the nested tuple: (1, 2, 3)\n"
     ]
    }
   ],
   "source": [
    "print(\"First element of the nested tuple:\", W)"
   ]
  },
  {
   "cell_type": "code",
   "execution_count": 31,
   "id": "dd85a3a0-ca86-450b-9bdc-9a46b1902994",
   "metadata": {},
   "outputs": [],
   "source": [
    "#QUES17"
   ]
  },
  {
   "cell_type": "code",
   "execution_count": 32,
   "id": "a95c9dac-c70c-4ce7-8738-b3179632e598",
   "metadata": {},
   "outputs": [],
   "source": [
    "single = (42)"
   ]
  },
  {
   "cell_type": "code",
   "execution_count": 33,
   "id": "a1499594-ea36-4354-8ed4-5553e216fbfa",
   "metadata": {},
   "outputs": [
    {
     "name": "stdout",
     "output_type": "stream",
     "text": [
      "Single element tuple: 42\n"
     ]
    }
   ],
   "source": [
    "print(\"Single element tuple:\", single)"
   ]
  },
  {
   "cell_type": "code",
   "execution_count": 1,
   "id": "8993c8b0-1921-46c6-a86b-9adb77e00778",
   "metadata": {},
   "outputs": [],
   "source": [
    "#QUES18"
   ]
  },
  {
   "cell_type": "code",
   "execution_count": 5,
   "id": "1c7782a3-3fa3-45ac-822c-7383a832bf26",
   "metadata": {},
   "outputs": [],
   "source": [
    "tup1 = (1, 2, 3)\n",
    "tup2 = (1, 2, 4)"
   ]
  },
  {
   "cell_type": "code",
   "execution_count": 6,
   "id": "c6b2b006-0575-4648-93b3-5baeda7515a4",
   "metadata": {},
   "outputs": [
    {
     "name": "stdout",
     "output_type": "stream",
     "text": [
      "tuple1 == tuple2: False\n",
      "tuple1 != tuple2: True\n",
      "tuple1 < tuple2: True\n",
      "tuple1 <= tuple2: True\n",
      "tuple1 > tuple2: False\n",
      "tuple1 >= tuple2: False\n"
     ]
    }
   ],
   "source": [
    "print(\"tuple1 == tuple2:\", tup1 == tup2)  \n",
    "print(\"tuple1 != tuple2:\", tup1 != tup2)  \n",
    "print(\"tuple1 < tuple2:\", tup1 < tup2)    \n",
    "print(\"tuple1 <= tuple2:\", tup1 <= tup2)  \n",
    "print(\"tuple1 > tuple2:\", tup1 > tup2)    \n",
    "print(\"tuple1 >= tuple2:\", tup1 >= tup2)"
   ]
  },
  {
   "cell_type": "code",
   "execution_count": 7,
   "id": "c3fcbd62-2688-4b0b-b92d-0f03d7f5e900",
   "metadata": {},
   "outputs": [],
   "source": [
    "#QUES19"
   ]
  },
  {
   "cell_type": "code",
   "execution_count": 11,
   "id": "864162fb-374f-4792-a8f2-41dd6b849684",
   "metadata": {},
   "outputs": [],
   "source": [
    "tup1 = (1, 2, 3)\n"
   ]
  },
  {
   "cell_type": "code",
   "execution_count": 12,
   "id": "7dcfe11d-27a3-4d71-8b9e-ab7741c0027b",
   "metadata": {},
   "outputs": [
    {
     "data": {
      "text/plain": [
       "(1, 2, 3)"
      ]
     },
     "execution_count": 12,
     "metadata": {},
     "output_type": "execute_result"
    }
   ],
   "source": [
    "tup1"
   ]
  },
  {
   "cell_type": "code",
   "execution_count": 13,
   "id": "dc9aad98-fd62-4c51-b2dc-fbb071022137",
   "metadata": {},
   "outputs": [],
   "source": [
    "del(tup1)"
   ]
  },
  {
   "cell_type": "code",
   "execution_count": 16,
   "id": "08fdf4eb-3e69-4b5a-80ec-f57d824b574b",
   "metadata": {},
   "outputs": [
    {
     "ename": "NameError",
     "evalue": "name 'tup1' is not defined",
     "output_type": "error",
     "traceback": [
      "\u001b[0;31m---------------------------------------------------------------------------\u001b[0m",
      "\u001b[0;31mNameError\u001b[0m                                 Traceback (most recent call last)",
      "Cell \u001b[0;32mIn[16], line 1\u001b[0m\n\u001b[0;32m----> 1\u001b[0m \u001b[43mtup1\u001b[49m\n",
      "\u001b[0;31mNameError\u001b[0m: name 'tup1' is not defined"
     ]
    }
   ],
   "source": [
    "tup1"
   ]
  },
  {
   "cell_type": "code",
   "execution_count": 17,
   "id": "93538d96-6bfb-41cb-8b84-0d77bb44f05f",
   "metadata": {},
   "outputs": [],
   "source": [
    "#name 'tup1' is not defined"
   ]
  },
  {
   "cell_type": "code",
   "execution_count": 18,
   "id": "31760dc8-a324-43ad-b03e-f01e5bfb2dde",
   "metadata": {},
   "outputs": [],
   "source": [
    "#QUES20"
   ]
  },
  {
   "cell_type": "code",
   "execution_count": 19,
   "id": "6dc27973-aa95-4cbc-9805-0de0c63a3aa0",
   "metadata": {},
   "outputs": [],
   "source": [
    "tuple = (1, 2, 3, 4, 5, 6, 7, 8, 9, 10)\n"
   ]
  },
  {
   "cell_type": "code",
   "execution_count": 20,
   "id": "b058840a-78db-4aad-bfd6-390d09e6b845",
   "metadata": {},
   "outputs": [],
   "source": [
    "slice = tuple[4:8]\n"
   ]
  },
  {
   "cell_type": "code",
   "execution_count": 21,
   "id": "cc50b11f-1fd2-4944-9db0-7d265fc5e24f",
   "metadata": {},
   "outputs": [
    {
     "name": "stdout",
     "output_type": "stream",
     "text": [
      "Sliced tuple: (5, 6, 7, 8)\n"
     ]
    }
   ],
   "source": [
    "print(\"Sliced tuple:\", slice)"
   ]
  },
  {
   "cell_type": "code",
   "execution_count": 22,
   "id": "40428754-427d-4f1b-b17d-41ed9b368588",
   "metadata": {},
   "outputs": [],
   "source": [
    "#QUES21"
   ]
  },
  {
   "cell_type": "code",
   "execution_count": 1,
   "id": "ffe3fdee-b586-4696-9920-3daec624b20f",
   "metadata": {},
   "outputs": [],
   "source": [
    "Tuple = (3,5,7,9)"
   ]
  },
  {
   "cell_type": "code",
   "execution_count": 2,
   "id": "e76f456f-b3cf-4abd-851b-c0cede80ca3e",
   "metadata": {},
   "outputs": [],
   "source": [
    "Max = max(Tuple)"
   ]
  },
  {
   "cell_type": "code",
   "execution_count": 6,
   "id": "b072aee8-40d3-4d7c-99e0-2e1e2d31660b",
   "metadata": {},
   "outputs": [
    {
     "name": "stdout",
     "output_type": "stream",
     "text": [
      "Maximum Number= 9\n"
     ]
    }
   ],
   "source": [
    "print(\"Maximum Number=\",Max)\n"
   ]
  },
  {
   "cell_type": "code",
   "execution_count": 8,
   "id": "23a25d57-4080-4272-9b64-af3abb961853",
   "metadata": {},
   "outputs": [],
   "source": [
    "#QUES22"
   ]
  },
  {
   "cell_type": "code",
   "execution_count": 9,
   "id": "5dc14040-8d43-4bb1-9ad6-0cb2bdb65188",
   "metadata": {},
   "outputs": [],
   "source": [
    "Min = min(Tuple)"
   ]
  },
  {
   "cell_type": "code",
   "execution_count": 10,
   "id": "f462a65a-6879-4219-b156-41426cfdd19a",
   "metadata": {},
   "outputs": [
    {
     "name": "stdout",
     "output_type": "stream",
     "text": [
      "Minimum Number= 3\n"
     ]
    }
   ],
   "source": [
    "print(\"Minimum Number=\",Min)\n",
    "\n"
   ]
  },
  {
   "cell_type": "code",
   "execution_count": 11,
   "id": "9749a629-47b1-4330-ae05-266b439b80c8",
   "metadata": {},
   "outputs": [],
   "source": [
    "#QUES23\n"
   ]
  },
  {
   "cell_type": "code",
   "execution_count": 13,
   "id": "efea12e3-7786-4661-b226-372fe1a2812e",
   "metadata": {},
   "outputs": [],
   "source": [
    "string = \"My Name is Satyam\""
   ]
  },
  {
   "cell_type": "code",
   "execution_count": 17,
   "id": "640b330a-d0ff-47df-963b-208650a94d01",
   "metadata": {},
   "outputs": [],
   "source": [
    "Tup = tuple(string)"
   ]
  },
  {
   "cell_type": "code",
   "execution_count": 18,
   "id": "17e07cdb-241f-46a8-a92f-7bf571ee4581",
   "metadata": {},
   "outputs": [
    {
     "name": "stdout",
     "output_type": "stream",
     "text": [
      "String to a tuple of characters: ('M', 'y', ' ', 'N', 'a', 'm', 'e', ' ', 'i', 's', ' ', 'S', 'a', 't', 'y', 'a', 'm')\n"
     ]
    }
   ],
   "source": [
    "print(\"String to a tuple of characters:\",Tup)\n"
   ]
  },
  {
   "cell_type": "code",
   "execution_count": 19,
   "id": "de9e3f90-53ad-40ff-905d-ccada9aa8666",
   "metadata": {},
   "outputs": [],
   "source": [
    "#QUES24\n"
   ]
  },
  {
   "cell_type": "code",
   "execution_count": 20,
   "id": "6664a520-25f5-4685-badf-31e3a3db3a9d",
   "metadata": {},
   "outputs": [
    {
     "data": {
      "text/plain": [
       "('M',\n",
       " 'y',\n",
       " ' ',\n",
       " 'N',\n",
       " 'a',\n",
       " 'm',\n",
       " 'e',\n",
       " ' ',\n",
       " 'i',\n",
       " 's',\n",
       " ' ',\n",
       " 'S',\n",
       " 'a',\n",
       " 't',\n",
       " 'y',\n",
       " 'a',\n",
       " 'm')"
      ]
     },
     "execution_count": 20,
     "metadata": {},
     "output_type": "execute_result"
    }
   ],
   "source": [
    "Tup = "
   ]
  },
  {
   "cell_type": "code",
   "execution_count": 24,
   "id": "1375d44a-2008-44de-ba9d-145e35a77793",
   "metadata": {},
   "outputs": [],
   "source": [
    "String = \"\".join(Tup)\n"
   ]
  },
  {
   "cell_type": "code",
   "execution_count": 25,
   "id": "d10e4182-d34b-43b3-a28c-c01edd998d68",
   "metadata": {},
   "outputs": [
    {
     "name": "stdout",
     "output_type": "stream",
     "text": [
      "Tuple of characters to a String: My Name is Satyam\n"
     ]
    }
   ],
   "source": [
    "print(\"Tuple of characters to a String:\",String)"
   ]
  },
  {
   "cell_type": "code",
   "execution_count": 26,
   "id": "d7f25a44-71fa-4b0a-a6dc-40b684c225a9",
   "metadata": {},
   "outputs": [],
   "source": [
    "#QUES25\n"
   ]
  },
  {
   "cell_type": "code",
   "execution_count": 27,
   "id": "74fd111d-a13a-42d4-b2a0-7a09628a1c27",
   "metadata": {},
   "outputs": [],
   "source": [
    "Mixed = (1, \"satyam\", True, 7.7)"
   ]
  },
  {
   "cell_type": "code",
   "execution_count": 28,
   "id": "4be3bd85-505e-4558-b6ee-3bd81c136c1f",
   "metadata": {},
   "outputs": [
    {
     "name": "stdout",
     "output_type": "stream",
     "text": [
      "Tuple from multiple data types: (1, 'satyam', True, 7.7)\n"
     ]
    }
   ],
   "source": [
    "print(\"Tuple from multiple data types:\",Mixed)"
   ]
  },
  {
   "cell_type": "code",
   "execution_count": 30,
   "id": "25644b1e-43f7-47a8-819b-81bc45ec4b5c",
   "metadata": {},
   "outputs": [],
   "source": [
    "#QUES26"
   ]
  },
  {
   "cell_type": "code",
   "execution_count": 31,
   "id": "62645f85-cde3-446a-afb4-2d7e8cdbbafb",
   "metadata": {},
   "outputs": [],
   "source": [
    "tuple1 = (8, 9, 3)\n",
    "tuple2 = (8, 9, 3)\n",
    "tuple3 = (9, 9, 6)"
   ]
  },
  {
   "cell_type": "code",
   "execution_count": 35,
   "id": "cba8f1dc-df5d-4002-a32d-dabd9d10f10f",
   "metadata": {},
   "outputs": [
    {
     "name": "stdout",
     "output_type": "stream",
     "text": [
      "Tuple1 and tuple2 are identical\n",
      "Tuple2 and tuple3 are non identical\n",
      "Tuple1 and tuple3 are non identical\n"
     ]
    }
   ],
   "source": [
    "if (tuple1==tuple2):\n",
    "    print(\"Tuple1 and tuple2 are identical\")\n",
    "else:\n",
    "    print(\"Tuple1 and tuple2 are non identical\")\n",
    "if (tuple2==tuple3):\n",
    "    print(\"Tuple2 and tuple3 are identical\")\n",
    "else:\n",
    "    print(\"Tuple2 and tuple3 are non identical\")\n",
    "if (tuple1==tuple3):\n",
    "    print(\"Tuple1 and tuple3 are identical\")\n",
    "else:\n",
    "    print(\"Tuple1 and tuple3 are non identical\")"
   ]
  },
  {
   "cell_type": "code",
   "execution_count": 36,
   "id": "d325183b-8379-435a-9337-de8f2fa188b0",
   "metadata": {},
   "outputs": [],
   "source": [
    "#QUES27"
   ]
  },
  {
   "cell_type": "code",
   "execution_count": 38,
   "id": "ab0113f8-df6c-4673-88f1-5d51e18133cc",
   "metadata": {},
   "outputs": [],
   "source": [
    "Tup = (3,7,2,1,9)"
   ]
  },
  {
   "cell_type": "code",
   "execution_count": 39,
   "id": "d87eec33-5737-400f-aa1c-ebe4adbdfdfe",
   "metadata": {},
   "outputs": [],
   "source": [
    "sort = sorted(Tup)"
   ]
  },
  {
   "cell_type": "code",
   "execution_count": 40,
   "id": "f0f3372e-2a08-4da8-a68e-1241756b03d2",
   "metadata": {},
   "outputs": [
    {
     "name": "stdout",
     "output_type": "stream",
     "text": [
      "Sorted Numbers= [1, 2, 3, 7, 9]\n"
     ]
    }
   ],
   "source": [
    "print(\"Sorted Numbers=\", sort)"
   ]
  },
  {
   "cell_type": "code",
   "execution_count": 46,
   "id": "e0fd0daf-f1dc-4844-8339-44f57c59ee02",
   "metadata": {},
   "outputs": [],
   "source": [
    "#QUES28"
   ]
  },
  {
   "cell_type": "code",
   "execution_count": 47,
   "id": "c669ae49-c973-4f9a-9f81-0b1b7608ce9a",
   "metadata": {},
   "outputs": [],
   "source": [
    "Tup = (3,7,2,1,9)"
   ]
  },
  {
   "cell_type": "code",
   "execution_count": 50,
   "id": "d5c29f16-ed63-42e1-8a4d-80b516b15af3",
   "metadata": {},
   "outputs": [],
   "source": [
    "strtup =  tuple(str(alls) for alls in Tup)"
   ]
  },
  {
   "cell_type": "code",
   "execution_count": 60,
   "id": "6925e685-e3b9-4ca8-bf5f-8ba771240a90",
   "metadata": {},
   "outputs": [
    {
     "name": "stdout",
     "output_type": "stream",
     "text": [
      "Tuple of strings: ('3', '7', '2', '1', '9')\n"
     ]
    }
   ],
   "source": [
    "print(\"Tuple of strings:\",strtup)"
   ]
  },
  {
   "cell_type": "code",
   "execution_count": 62,
   "id": "a2bdada1-6441-4add-a91b-18f6749b326c",
   "metadata": {},
   "outputs": [],
   "source": [
    "#Convert a tuple of strings to a tuple of integers.\n",
    "\n"
   ]
  },
  {
   "cell_type": "code",
   "execution_count": 2,
   "id": "a45ef9af-b770-4ec1-b9b2-adfdf7ed6da9",
   "metadata": {},
   "outputs": [],
   "source": [
    "strtup = ('3', '7', '2', '1', '9')"
   ]
  },
  {
   "cell_type": "code",
   "execution_count": 4,
   "id": "f2066abd-0404-4aab-8f2c-9aa65570ad39",
   "metadata": {},
   "outputs": [],
   "source": [
    "Inte = tuple(int(tup) for tup in strtup)"
   ]
  },
  {
   "cell_type": "code",
   "execution_count": 5,
   "id": "bb2981d3-71ad-4ba9-acff-02ad1f1728ee",
   "metadata": {},
   "outputs": [
    {
     "name": "stdout",
     "output_type": "stream",
     "text": [
      "Tuple of integers: (3, 7, 2, 1, 9)\n"
     ]
    }
   ],
   "source": [
    "print(\"Tuple of integers:\",Inte)"
   ]
  },
  {
   "cell_type": "code",
   "execution_count": 6,
   "id": "f73cf716-0ec0-4300-b4df-bd7478dd4423",
   "metadata": {},
   "outputs": [],
   "source": [
    "#Merge two tuples"
   ]
  },
  {
   "cell_type": "code",
   "execution_count": 7,
   "id": "fd6ed8e1-74a5-4cc3-9d71-7cdc4359f5af",
   "metadata": {},
   "outputs": [],
   "source": [
    "tuple1 = (8, 9, 3)\n",
    "tuple2 = (8, 9, 3)"
   ]
  },
  {
   "cell_type": "code",
   "execution_count": 8,
   "id": "20944a14-919b-4176-9752-22ef8d4a9be9",
   "metadata": {},
   "outputs": [],
   "source": [
    "Mer = tuple1 + tuple2"
   ]
  },
  {
   "cell_type": "code",
   "execution_count": 9,
   "id": "695bef50-ae7c-4e2b-8f36-6a0838dc47a5",
   "metadata": {},
   "outputs": [
    {
     "name": "stdout",
     "output_type": "stream",
     "text": [
      "Merge of tuples: (8, 9, 3, 8, 9, 3)\n"
     ]
    }
   ],
   "source": [
    "print(\"Merge of tuples:\",Mer)"
   ]
  },
  {
   "cell_type": "code",
   "execution_count": 10,
   "id": "edf917dd-778d-4fdb-a9c9-a9f8c4c76113",
   "metadata": {},
   "outputs": [],
   "source": [
    "#31. Flatten a nested tuple."
   ]
  },
  {
   "cell_type": "code",
   "execution_count": 21,
   "id": "283a60a3-11f2-4e08-aa4a-f6c4db442a2f",
   "metadata": {},
   "outputs": [],
   "source": [
    "def flatten(nested):\n",
    "    flattened = []\n",
    "    for item in nested:\n",
    "        if isinstance(item, tuple):\n",
    "            flattened.extend(flatten(item))\n",
    "        else:\n",
    "            flattened.append(item)\n",
    "    return flattened"
   ]
  },
  {
   "cell_type": "code",
   "execution_count": 22,
   "id": "435f22b7-f10d-4c61-b147-cd1dbb71f74c",
   "metadata": {},
   "outputs": [],
   "source": [
    "nested = ((4, 5), ((4, 7), (8, 9), (10, 11)), (((9, 10), (3, 4))))\n"
   ]
  },
  {
   "cell_type": "code",
   "execution_count": 23,
   "id": "a7b1199f-abc3-49ee-9dc6-99f575bd1026",
   "metadata": {},
   "outputs": [],
   "source": [
    "flattened = tuple(flatten(nested))\n"
   ]
  },
  {
   "cell_type": "code",
   "execution_count": 24,
   "id": "c5f8b501-96e5-43fd-bdea-1cb0a2c3b9e9",
   "metadata": {},
   "outputs": [
    {
     "name": "stdout",
     "output_type": "stream",
     "text": [
      "Flattened tuple: (4, 5, 4, 7, 8, 9, 10, 11, 9, 10, 3, 4)\n"
     ]
    }
   ],
   "source": [
    "print(\"Flattened tuple:\", flattened)"
   ]
  },
  {
   "cell_type": "code",
   "execution_count": 25,
   "id": "9413aedd-9903-4121-97f1-03f4883b464c",
   "metadata": {},
   "outputs": [],
   "source": [
    "#32. Create a tuple of the first 5 prime numbers."
   ]
  },
  {
   "cell_type": "code",
   "execution_count": 26,
   "id": "0587db0d-2124-442d-b8eb-450c4bd51ae2",
   "metadata": {},
   "outputs": [],
   "source": [
    "def prime(num):\n",
    "    if num <= 1:\n",
    "        return False\n",
    "    for i in range(2, int(num ** 0.5) + 1):\n",
    "        if num % i == 0:\n",
    "            return False\n",
    "    return True"
   ]
  },
  {
   "cell_type": "code",
   "execution_count": 27,
   "id": "3bc7993a-aff5-4b68-ba43-383de335539f",
   "metadata": {},
   "outputs": [],
   "source": [
    "primelist = [num for num in range(2, 100) if prime(num)][:5]"
   ]
  },
  {
   "cell_type": "code",
   "execution_count": 28,
   "id": "27407ed3-aba4-46e0-8d0a-326d3dcec0c9",
   "metadata": {},
   "outputs": [],
   "source": [
    "primetuple = tuple(primelist)"
   ]
  },
  {
   "cell_type": "code",
   "execution_count": 29,
   "id": "50c3a22e-80e1-49f4-bdb6-830ab9ee6c74",
   "metadata": {},
   "outputs": [
    {
     "name": "stdout",
     "output_type": "stream",
     "text": [
      "Tuple of the first 5 prime numbers: (2, 3, 5, 7, 11)\n"
     ]
    }
   ],
   "source": [
    "print(\"Tuple of the first 5 prime numbers:\", primetuple)"
   ]
  },
  {
   "cell_type": "code",
   "execution_count": 38,
   "id": "fd1c4951-8381-4cdf-a2a4-f492a51a7569",
   "metadata": {},
   "outputs": [],
   "source": [
    "#33. Check if a tuple is a palindrome."
   ]
  },
  {
   "cell_type": "code",
   "execution_count": 14,
   "id": "7b009d74-364f-4273-9bfa-68e3611c8e91",
   "metadata": {},
   "outputs": [],
   "source": [
    "tup = (1,3,1)    "
   ]
  },
  {
   "cell_type": "code",
   "execution_count": 15,
   "id": "55639a05-b188-4f95-9b97-8ff7b57db3c7",
   "metadata": {},
   "outputs": [
    {
     "name": "stdout",
     "output_type": "stream",
     "text": [
      "The Tuple is a palindrome\n"
     ]
    }
   ],
   "source": [
    "if (tup == tup[::-1]):\n",
    "    print (\"The Tuple is a palindrome\")\n",
    "else: \n",
    "    print (\"The Tuple is not a palindrome\")"
   ]
  },
  {
   "cell_type": "code",
   "execution_count": 1,
   "id": "54d30c45-c027-4b89-8c04-04b0a43ab263",
   "metadata": {},
   "outputs": [],
   "source": [
    "#34. Create a tuple of squares of numbers from 1 to 5."
   ]
  },
  {
   "cell_type": "code",
   "execution_count": 5,
   "id": "81f12442-41d4-4436-83e5-37392e6a1e96",
   "metadata": {},
   "outputs": [],
   "source": [
    "st = tuple(x ** 2 for x in range(1,6))"
   ]
  },
  {
   "cell_type": "code",
   "execution_count": 6,
   "id": "c6c7d4fd-e272-4197-b512-336d9c63c832",
   "metadata": {},
   "outputs": [
    {
     "name": "stdout",
     "output_type": "stream",
     "text": [
      "tuple of squares: (1, 4, 9, 16, 25)\n"
     ]
    }
   ],
   "source": [
    "print(\"Tuple of squares:\", st)"
   ]
  },
  {
   "cell_type": "code",
   "execution_count": 7,
   "id": "4279707d-7cfb-47f4-bdb5-e34b4bb32b51",
   "metadata": {},
   "outputs": [],
   "source": [
    "#35. Filter out all even numbers from a tuple.\n"
   ]
  },
  {
   "cell_type": "code",
   "execution_count": 1,
   "id": "4be774c8-3a52-4727-9c03-f298f835b4f5",
   "metadata": {},
   "outputs": [],
   "source": [
    "tu = (1,4,3,6,8,9)"
   ]
  },
  {
   "cell_type": "code",
   "execution_count": 4,
   "id": "de304d39-ea5b-43ae-9d7a-14e79a8d0a6a",
   "metadata": {},
   "outputs": [
    {
     "name": "stdout",
     "output_type": "stream",
     "text": [
      "Even Numbers: (4, 6, 8)\n"
     ]
    }
   ],
   "source": [
    "Even = tuple(n for n in tu if n%2==0)\n",
    "\n",
    "print(\"Even Numbers:\",Even)\n"
   ]
  },
  {
   "cell_type": "code",
   "execution_count": 2,
   "id": "b5897fc1-03e8-4b44-bc5e-514a3bb40a81",
   "metadata": {},
   "outputs": [],
   "source": [
    "tu = (1,4,3,6,8,9)"
   ]
  },
  {
   "cell_type": "code",
   "execution_count": 6,
   "id": "319c5177-7b0f-4cbf-8fda-eae270e62186",
   "metadata": {},
   "outputs": [],
   "source": [
    "Multi = tuple(n*2 for n in tu)\n"
   ]
  },
  {
   "cell_type": "code",
   "execution_count": 8,
   "id": "421fff92-ff95-4086-8e62-18075a8974d4",
   "metadata": {},
   "outputs": [
    {
     "name": "stdout",
     "output_type": "stream",
     "text": [
      "Multi Numbers: (2, 8, 6, 12, 16, 18)\n"
     ]
    }
   ],
   "source": [
    "print(\"Multi Numbers:\",Multi)"
   ]
  },
  {
   "cell_type": "code",
   "execution_count": 1,
   "id": "fb07fd01-909f-4ee5-aae9-f760461901eb",
   "metadata": {},
   "outputs": [],
   "source": [
    "#37. Create a tuple of random numbers."
   ]
  },
  {
   "cell_type": "code",
   "execution_count": 2,
   "id": "32c301d7-2e8a-4efa-a62e-6d6dcdbcf621",
   "metadata": {},
   "outputs": [],
   "source": [
    "import random"
   ]
  },
  {
   "cell_type": "code",
   "execution_count": 7,
   "id": "6a9c61d5-6cc0-4e80-aa73-bf65b957f4de",
   "metadata": {},
   "outputs": [],
   "source": [
    "randomtu = tuple(random.randint(1,100) for _ in range(10))"
   ]
  },
  {
   "cell_type": "code",
   "execution_count": 8,
   "id": "7d1f61ff-90b6-4425-ab44-eb6b11d2bf65",
   "metadata": {},
   "outputs": [
    {
     "name": "stdout",
     "output_type": "stream",
     "text": [
      "Random Numbers: (53, 4, 55, 52, 97, 46, 20, 83, 56, 90)\n"
     ]
    }
   ],
   "source": [
    "print(\"Random Numbers:\",randomtu)"
   ]
  },
  {
   "cell_type": "code",
   "execution_count": 10,
   "id": "ae663dc3-4c98-404a-95b1-11dd3bf413a4",
   "metadata": {},
   "outputs": [],
   "source": [
    "#38 Check if a tuple is sorted."
   ]
  },
  {
   "cell_type": "code",
   "execution_count": 30,
   "id": "46c0d5c1-4489-46cb-ae0b-38bdff20fd82",
   "metadata": {},
   "outputs": [],
   "source": [
    "def isorted(t):\n",
    "    if tuple(sorted(t)) == t:\n",
    "        return 'ascending'\n",
    "    if tuple(sorted(t, reverse=True)) == t:\n",
    "        return 'descending'\n",
    "    return 'out-of-order'"
   ]
  },
  {
   "cell_type": "code",
   "execution_count": 31,
   "id": "ac605a77-d56a-44c0-ad28-efe818b35a47",
   "metadata": {},
   "outputs": [],
   "source": [
    "sortedd = (9, 10, 11, 12, 13)\n",
    "unsorted = (6, 5, 4\n",
    "            , 3, 2)\n",
    "outoforder = (4,7,2,8,9,34)"
   ]
  },
  {
   "cell_type": "code",
   "execution_count": 32,
   "id": "3e41ca9b-1318-410c-b651-38b40452b204",
   "metadata": {},
   "outputs": [],
   "source": [
    "is_sorted1 = isorted(sortedd)\n",
    "is_sorted2 = isorted(unsorted)\n",
    "is_sorted3 = isorted(outoforder)"
   ]
  },
  {
   "cell_type": "code",
   "execution_count": 33,
   "id": "8f234b31-1a21-4dc6-affd-67f07af8c6f1",
   "metadata": {},
   "outputs": [
    {
     "name": "stdout",
     "output_type": "stream",
     "text": [
      "sorted_tuple is sorted: ascending\n",
      "unsorted_tuple is sorted: descending\n",
      "unsorted_tuple is sorted: out-of-order\n"
     ]
    }
   ],
   "source": [
    "\n",
    "print(\"sorted_tuple is sorted:\", is_sorted1)\n",
    "print(\"unsorted_tuple is sorted:\", is_sorted2)\n",
    "print(\"unsorted_tuple is sorted:\", is_sorted3)\n"
   ]
  },
  {
   "cell_type": "code",
   "execution_count": 12,
   "id": "bee7ddaf-8d87-4280-b9d6-456e9ef5be28",
   "metadata": {},
   "outputs": [],
   "source": [
    "#39. Rotate a tuple to the left by `n` positions."
   ]
  },
  {
   "cell_type": "code",
   "execution_count": 34,
   "id": "f9c264b2-ad12-41f7-85c9-b5690c943498",
   "metadata": {},
   "outputs": [],
   "source": [
    "def rotateleft(tup, n):\n",
    "    n = n % len(tup)  \n",
    "    rotated_tuple = tup[n:] + tup[:n]\n",
    "    return rotated_tuple"
   ]
  },
  {
   "cell_type": "code",
   "execution_count": 35,
   "id": "0e8b6edb-7865-4015-bfab-d1f6ff5473a0",
   "metadata": {},
   "outputs": [
    {
     "name": "stdout",
     "output_type": "stream",
     "text": [
      "(4, 5, 1, 2, 3)\n"
     ]
    }
   ],
   "source": [
    "my_tuple = (1, 2, 3, 4, 5)\n",
    "n_positions = 3\n",
    "result = rotateleft(my_tuple, n_positions)\n",
    "print(result)"
   ]
  },
  {
   "cell_type": "code",
   "execution_count": 36,
   "id": "5b45674c-854b-4331-b26f-5217783294f8",
   "metadata": {},
   "outputs": [],
   "source": [
    "#40. Rotate a tuple to the right by `n` positions."
   ]
  },
  {
   "cell_type": "code",
   "execution_count": 37,
   "id": "c00a0fc1-d9aa-400c-9c22-0ff8eccf6445",
   "metadata": {},
   "outputs": [],
   "source": [
    "def rotateright(tup, n):\n",
    "    n = n % len(tup)  \n",
    "    rotated_tuple = tup[-n:] + tup[:-n]\n",
    "    return rotated_tuple"
   ]
  },
  {
   "cell_type": "code",
   "execution_count": 38,
   "id": "3c40090f-0477-40bb-afa6-4dd0d87fd1f6",
   "metadata": {},
   "outputs": [
    {
     "name": "stdout",
     "output_type": "stream",
     "text": [
      "(5, 1, 2, 3, 4)\n"
     ]
    }
   ],
   "source": [
    "my_tuple = (1, 2, 3, 4, 5)\n",
    "n_positions = 1\n",
    "result = rotateright(my_tuple, n_positions)\n",
    "print(result)"
   ]
  },
  {
   "cell_type": "code",
   "execution_count": 39,
   "id": "477683c2-fbb1-4743-9b3f-4ca45fd9313e",
   "metadata": {},
   "outputs": [],
   "source": [
    "#41. Create a tuple of the first 5 Fibonacci numbers."
   ]
  },
  {
   "cell_type": "code",
   "execution_count": 24,
   "id": "5cbe178f-1a7d-49b1-b362-91801636c14b",
   "metadata": {},
   "outputs": [],
   "source": [
    "def make_fibonacci(n):\n",
    "    fib = [0,1]\n",
    "    while len(fib) < n:\n",
    "        next = fib[-1] + fib[-2]\n",
    "        fib.append(next)\n",
    "    return tuple(fib)\n",
    "    "
   ]
  },
  {
   "cell_type": "code",
   "execution_count": 26,
   "id": "bea86ce1-3438-4a14-9389-b64801f0b46c",
   "metadata": {},
   "outputs": [],
   "source": [
    "fibonacci_tuple = make_fibonacci(5)"
   ]
  },
  {
   "cell_type": "code",
   "execution_count": 27,
   "id": "e0c3e342-a8d8-4b31-aa75-191254f959f9",
   "metadata": {},
   "outputs": [
    {
     "name": "stdout",
     "output_type": "stream",
     "text": [
      "Fibonacci Tuple: (0, 1, 1, 2, 3)\n"
     ]
    }
   ],
   "source": [
    "print(\"Fibonacci Tuple:\",fibonacci_tuple )\n"
   ]
  },
  {
   "cell_type": "code",
   "execution_count": 28,
   "id": "71675a5f-2e42-44cd-9f88-c1b8a0af0497",
   "metadata": {},
   "outputs": [],
   "source": [
    "#42. Create a tuple from user input."
   ]
  },
  {
   "cell_type": "code",
   "execution_count": 5,
   "id": "59cf64f2-6ccb-41c5-a4a0-697de3b9a00a",
   "metadata": {},
   "outputs": [
    {
     "name": "stdin",
     "output_type": "stream",
     "text": [
      "Enter elements separated by commas:  s,a,t,y,a,m\n"
     ]
    },
    {
     "name": "stdout",
     "output_type": "stream",
     "text": [
      "User input tuple: ('s', 'a', 't', 'y', 'a', 'm')\n"
     ]
    }
   ],
   "source": [
    "input_str = input(\"Enter elements separated by commas: \")\n",
    "Con = input_str.split(',')\n",
    "tup = tuple(Con)\n",
    "print(\"User input tuple:\", tup)"
   ]
  },
  {
   "cell_type": "code",
   "execution_count": 6,
   "id": "dedd6b42-cccb-41a8-87ac-63f5e9410c03",
   "metadata": {},
   "outputs": [],
   "source": [
    "#43. Swap two elements in a tuple."
   ]
  },
  {
   "cell_type": "code",
   "execution_count": 14,
   "id": "7a5e9a5d-e28e-488a-8cee-b81e3e770253",
   "metadata": {},
   "outputs": [],
   "source": [
    "Tup = (1,7,9,4,5)\n"
   ]
  },
  {
   "cell_type": "code",
   "execution_count": 15,
   "id": "a94e63ad-39a5-401e-9415-0cd738ed694d",
   "metadata": {},
   "outputs": [
    {
     "name": "stdout",
     "output_type": "stream",
     "text": [
      "Swapped tuple: (1, 7, 4, 9, 5)\n"
     ]
    }
   ],
   "source": [
    "num1 = 2\n",
    "num2 = 3\n",
    "swapped_tuple = tuple(\n",
    "   Tup[i] if i not in (num1, num2) \n",
    "        else\n",
    "          Tup[num2] if i == num1 \n",
    "        else\n",
    "         Tup[num1]\n",
    "    for i in range(len(Tup))\n",
    ")\n",
    "print(\"Swapped tuple:\", swapped_tuple)\n"
   ]
  },
  {
   "cell_type": "code",
   "execution_count": null,
   "id": "ebb8b2c7-bf69-41e5-aa4b-2b588dbfd5cc",
   "metadata": {},
   "outputs": [],
   "source": [
    "#44. Reverse the elements of a tuple."
   ]
  },
  {
   "cell_type": "code",
   "execution_count": 16,
   "id": "5cdc6e12-dc74-497c-8754-b18b246c1224",
   "metadata": {},
   "outputs": [],
   "source": [
    "tup = (5,3,7,2,7)"
   ]
  },
  {
   "cell_type": "code",
   "execution_count": 17,
   "id": "179c6466-f1d4-4d5b-b153-5d1451157b2e",
   "metadata": {},
   "outputs": [
    {
     "name": "stdout",
     "output_type": "stream",
     "text": [
      "Reversed tuple: (7, 2, 7, 3, 5)\n"
     ]
    }
   ],
   "source": [
    "reversedtup = tup[::-1]\n",
    "print(\"Reversed tuple:\", reversedtup)"
   ]
  },
  {
   "cell_type": "code",
   "execution_count": 18,
   "id": "02a4b7cd-9656-4d3a-b875-2ac3c6b8f3fc",
   "metadata": {},
   "outputs": [],
   "source": [
    "#45Create a tuple of the first `n` powers of 2"
   ]
  },
  {
   "cell_type": "code",
   "execution_count": 19,
   "id": "5a0739e1-e5f4-4953-9ca2-03f39003a2fc",
   "metadata": {},
   "outputs": [],
   "source": [
    "Num = 5"
   ]
  },
  {
   "cell_type": "code",
   "execution_count": 21,
   "id": "7e4c3a27-92dd-4509-ba4a-c02e06507462",
   "metadata": {},
   "outputs": [],
   "source": [
    "Power = tuple(2 ** i for i in range(Num))"
   ]
  },
  {
   "cell_type": "code",
   "execution_count": 22,
   "id": "a0fc642e-50fe-4856-a0a5-5155b57e4772",
   "metadata": {},
   "outputs": [
    {
     "name": "stdout",
     "output_type": "stream",
     "text": [
      "Tuple of the first 5 powers of 2: (1, 2, 4, 8, 16)\n"
     ]
    }
   ],
   "source": [
    "print(\"Tuple of the first\", Num , \"powers of 2:\", Power)"
   ]
  },
  {
   "cell_type": "code",
   "execution_count": 23,
   "id": "a172ea27-f092-4afe-87f7-bd4ee8ceadf5",
   "metadata": {},
   "outputs": [],
   "source": [
    "#46. Find the longest string in a tuple of strings.\n"
   ]
  },
  {
   "cell_type": "code",
   "execution_count": 28,
   "id": "0c5fd37d-6070-4b86-aa32-7dc2bd48fdd4",
   "metadata": {},
   "outputs": [],
   "source": [
    "def maxi(m):\n",
    "    return max(m, key=len)\n"
   ]
  },
  {
   "cell_type": "code",
   "execution_count": 31,
   "id": "ec5aaf78-b42a-490d-ab81-a4176d3dda9a",
   "metadata": {},
   "outputs": [
    {
     "name": "stdout",
     "output_type": "stream",
     "text": [
      "razs\n",
      "razssd\n"
     ]
    }
   ],
   "source": [
    "print(maxi([\"ale\",\"razs\"]))\n",
    "print(maxi([\"ales\",\"razssd\",\"etyfag\"]))\n"
   ]
  },
  {
   "cell_type": "code",
   "execution_count": 32,
   "id": "095b836c-288e-44f4-91e8-4e5ac9e343c4",
   "metadata": {},
   "outputs": [],
   "source": [
    "#47. Find the shortest string in a tuple of strings."
   ]
  },
  {
   "cell_type": "code",
   "execution_count": 1,
   "id": "e0335ba2-1d7c-48cc-8bca-0c05dfaec50c",
   "metadata": {},
   "outputs": [],
   "source": [
    "def mini(m):\n",
    "    return min(m, key=len)"
   ]
  },
  {
   "cell_type": "code",
   "execution_count": 2,
   "id": "a39b7b3f-4597-40f4-97d1-fdf9ece2f48b",
   "metadata": {},
   "outputs": [
    {
     "name": "stdout",
     "output_type": "stream",
     "text": [
      "ale\n",
      "ales\n"
     ]
    }
   ],
   "source": [
    "print(mini([\"ale\",\"razs\"]))\n",
    "print(mini([\"ales\",\"razssd\",\"etyfag\"]))"
   ]
  },
  {
   "cell_type": "code",
   "execution_count": 3,
   "id": "d38c0f45-f7ce-46de-a857-7b41847e2787",
   "metadata": {},
   "outputs": [],
   "source": [
    "#48. Create a tuple of the first `n` triangular numbers.\n"
   ]
  },
  {
   "cell_type": "code",
   "execution_count": 1,
   "id": "24920756-a34f-4940-8a38-f9f52fcdf9ed",
   "metadata": {},
   "outputs": [],
   "source": [
    "Num = 5\n"
   ]
  },
  {
   "cell_type": "code",
   "execution_count": 3,
   "id": "52d18cc2-f70d-45bf-b672-47a40607cd09",
   "metadata": {},
   "outputs": [
    {
     "name": "stdout",
     "output_type": "stream",
     "text": [
      "Tuple of the first 5 triangular numbers: (1, 3, 6, 10, 15)\n"
     ]
    }
   ],
   "source": [
    "triangular  = tuple((i * (i + 1)) // 2 for i in range(1, Num + 1))\n",
    "print(\"Tuple of the first\", Num, \"triangular numbers:\", triangular)"
   ]
  },
  {
   "cell_type": "code",
   "execution_count": 4,
   "id": "d9ae8039-8517-48c0-b435-1495b1f26f26",
   "metadata": {},
   "outputs": [],
   "source": [
    "#49. Check if a tuple contains another tuple as a subsequence."
   ]
  },
  {
   "cell_type": "code",
   "execution_count": 4,
   "id": "b71a95c0-f7d3-40ef-9746-da55dcd651ff",
   "metadata": {},
   "outputs": [],
   "source": [
    "def subsequence(main_tuple, sub_tuple):\n",
    "    sub_length = len(sub_tuple)\n",
    "    for i in range(len(main_tuple) - sub_length + 1):\n",
    "        if main_tuple[i:i+sub_length] == sub_tuple:\n",
    "            return True\n",
    "    return False"
   ]
  },
  {
   "cell_type": "code",
   "execution_count": 2,
   "id": "43d4ca25-77e8-4b99-82e3-dffe0c3ed708",
   "metadata": {},
   "outputs": [
    {
     "name": "stdout",
     "output_type": "stream",
     "text": [
      "Main tuple contains subsequence tuple: True\n"
     ]
    }
   ],
   "source": [
    "main_tuple = (7, 9, 0, 4, 5, 8, 7, 3, 9)\n",
    "sub_tuple = (4, 5)\n",
    "contains = subsequence(main_tuple, sub_tuple)\n",
    "print(\"Main tuple contains subsequence tuple:\", contains)"
   ]
  },
  {
   "cell_type": "code",
   "execution_count": 10,
   "id": "484c5c0a-b263-4379-8f46-67b3c07e3887",
   "metadata": {},
   "outputs": [],
   "source": [
    "def ssub(main,sub):\n",
    " sub1 = len(sub)\n",
    " for i in range (len(main)- sub1 + 1):\n",
    "        if main[i:i+sub] == sub:\n",
    "            return True\n",
    " return False     "
   ]
  },
  {
   "cell_type": "code",
   "execution_count": 11,
   "id": "540f4b1c-b141-4e33-b847-fff6eaebc55f",
   "metadata": {},
   "outputs": [],
   "source": [
    "#50. Create a tuple of alternating 1s and 0s of length `n`."
   ]
  },
  {
   "cell_type": "code",
   "execution_count": 32,
   "id": "568a5b3d-4cbf-4d3e-aae3-d55d35d58bb2",
   "metadata": {},
   "outputs": [],
   "source": [
    "n = 20"
   ]
  },
  {
   "cell_type": "code",
   "execution_count": 33,
   "id": "d7cbfbd0-1547-424c-97b2-9c74c400b34b",
   "metadata": {},
   "outputs": [
    {
     "name": "stdout",
     "output_type": "stream",
     "text": [
      "Tuple of alternating 1s and 0s: (0, 1, 0, 1, 0, 1, 0, 1, 0, 1, 0, 1, 0, 1, 0, 1, 0, 1, 0, 1)\n"
     ]
    }
   ],
   "source": [
    "alternating = tuple(i % 2 for i in range(n))\n",
    "print(\"Tuple of alternating 1s and 0s:\", alternating)"
   ]
  },
  {
   "cell_type": "code",
   "execution_count": 1,
   "id": "00f7350a-080a-4e38-93f5-ee71a8503ef2",
   "metadata": {},
   "outputs": [],
   "source": [
    "#Set Based Practice Problem :"
   ]
  },
  {
   "cell_type": "code",
   "execution_count": 2,
   "id": "20715142-fc97-4261-a0dd-5358024c1091",
   "metadata": {},
   "outputs": [],
   "source": [
    "#1. Create a set with integers from 1 to 5."
   ]
  },
  {
   "cell_type": "code",
   "execution_count": 7,
   "id": "9221e479-92c2-49b7-9330-d8ec0017c2cb",
   "metadata": {},
   "outputs": [
    {
     "name": "stdout",
     "output_type": "stream",
     "text": [
      "{1, 2, 3, 4, 5}\n"
     ]
    }
   ],
   "source": [
    "my_set = set(range(1,6))\n",
    "print(my_set)"
   ]
  },
  {
   "cell_type": "code",
   "execution_count": 11,
   "id": "771b91fa-503d-4b74-b998-52252e802932",
   "metadata": {},
   "outputs": [],
   "source": [
    "my_set = set(range(1,6))        \n",
    "addition = 8       #2. Add an element to a set.\n",
    "my_set.add(addition)"
   ]
  },
  {
   "cell_type": "code",
   "execution_count": 12,
   "id": "de5e4271-9561-40ed-a8d2-4e84d4d748a6",
   "metadata": {},
   "outputs": [
    {
     "name": "stdout",
     "output_type": "stream",
     "text": [
      "{1, 2, 3, 4, 5, 8}\n"
     ]
    }
   ],
   "source": [
    "print(my_set)"
   ]
  },
  {
   "cell_type": "code",
   "execution_count": 13,
   "id": "b132bfc5-3157-4d94-9b3b-aad72d5c8a7f",
   "metadata": {},
   "outputs": [],
   "source": [
    "#3. Remove an element from a set."
   ]
  },
  {
   "cell_type": "code",
   "execution_count": 15,
   "id": "862421de-bec7-436b-afc8-3cb018d6b105",
   "metadata": {},
   "outputs": [],
   "source": [
    "my_set = set(range(1,6))\n",
    "deletion = 5\n",
    "my_set.remove(deletion)"
   ]
  },
  {
   "cell_type": "code",
   "execution_count": 16,
   "id": "b6da8ed9-c6fc-4d1b-a4e7-33285007b75c",
   "metadata": {},
   "outputs": [
    {
     "name": "stdout",
     "output_type": "stream",
     "text": [
      "{1, 2, 3, 4}\n"
     ]
    }
   ],
   "source": [
    "print(my_set)"
   ]
  },
  {
   "cell_type": "code",
   "execution_count": 17,
   "id": "1c7ecca6-789d-4c2d-baa3-86167330c5fc",
   "metadata": {},
   "outputs": [],
   "source": [
    "#4. Check if an element exists in a set."
   ]
  },
  {
   "cell_type": "code",
   "execution_count": 18,
   "id": "c80fb5d4-fba6-4b09-bdbf-6c95cc705bac",
   "metadata": {},
   "outputs": [],
   "source": [
    "my_set = set(range(1,6))\n"
   ]
  },
  {
   "cell_type": "code",
   "execution_count": 41,
   "id": "7f848be0-c146-4fa7-9e6f-624ce0365ad5",
   "metadata": {},
   "outputs": [
    {
     "data": {
      "text/plain": [
       "{1, 2, 3, 4, 5}"
      ]
     },
     "execution_count": 41,
     "metadata": {},
     "output_type": "execute_result"
    }
   ],
   "source": [
    "my_set"
   ]
  },
  {
   "cell_type": "code",
   "execution_count": 45,
   "id": "c8faada8-59b8-47f8-9e1e-9a6763142ce6",
   "metadata": {},
   "outputs": [
    {
     "name": "stdin",
     "output_type": "stream",
     "text": [
      "Enter the element to check:  4\n"
     ]
    }
   ],
   "source": [
    "check = int(input(\"Enter the element to check: \"))\n"
   ]
  },
  {
   "cell_type": "code",
   "execution_count": 46,
   "id": "7177b614-d5db-41c0-9d4d-521a8185dfa3",
   "metadata": {},
   "outputs": [
    {
     "name": "stdout",
     "output_type": "stream",
     "text": [
      "4 Element present in Set\n"
     ]
    }
   ],
   "source": [
    "if check in my_set:\n",
    "    print(f\"{check} Element present in Set\")\n",
    "else :\n",
    "    print(f\"{check} Element not present in Set\")"
   ]
  },
  {
   "cell_type": "code",
   "execution_count": 47,
   "id": "6bf75fa0-7e83-4161-acca-54796c029ee1",
   "metadata": {},
   "outputs": [],
   "source": [
    "#5. Find the length of a set without using the `len()` function.\n"
   ]
  },
  {
   "cell_type": "code",
   "execution_count": 73,
   "id": "ee04ddc6-42d0-4dac-b8b0-56c7f43a1ede",
   "metadata": {},
   "outputs": [],
   "source": [
    "myset = {1,2,3,4,5}\n"
   ]
  },
  {
   "cell_type": "code",
   "execution_count": 74,
   "id": "8db6dcee-184d-493a-99c4-4e52e0acaf84",
   "metadata": {},
   "outputs": [],
   "source": [
    "count = 0"
   ]
  },
  {
   "cell_type": "code",
   "execution_count": 75,
   "id": "321f112f-aecf-40ba-9859-6389768da6ee",
   "metadata": {},
   "outputs": [],
   "source": [
    "for _ in myset:\n",
    "    count = count +1\n",
    "    \n",
    "    "
   ]
  },
  {
   "cell_type": "code",
   "execution_count": 76,
   "id": "0469f47b-7dae-4b2f-80b4-76e6935f1ba3",
   "metadata": {},
   "outputs": [
    {
     "name": "stdout",
     "output_type": "stream",
     "text": [
      "Length of the set: 5\n"
     ]
    }
   ],
   "source": [
    "print(f\"Length of the set:\", count)\n"
   ]
  },
  {
   "cell_type": "code",
   "execution_count": 77,
   "id": "c5622e94-7d9b-44ad-984f-c756a07f3a3c",
   "metadata": {},
   "outputs": [],
   "source": [
    "#6. Clear all elements from a set."
   ]
  },
  {
   "cell_type": "code",
   "execution_count": 82,
   "id": "d17e129b-3216-4e4f-9079-a3ccd0d5afcd",
   "metadata": {},
   "outputs": [],
   "source": [
    "myset = {1,2,3,4,5}"
   ]
  },
  {
   "cell_type": "code",
   "execution_count": 83,
   "id": "edf89d78-8f27-46d2-82bd-cfef217da82f",
   "metadata": {},
   "outputs": [
    {
     "data": {
      "text/plain": [
       "{1, 2, 3, 4, 5}"
      ]
     },
     "execution_count": 83,
     "metadata": {},
     "output_type": "execute_result"
    }
   ],
   "source": [
    "myset"
   ]
  },
  {
   "cell_type": "code",
   "execution_count": 84,
   "id": "4539edf1-2e44-4a75-acc2-0ed388998c8a",
   "metadata": {},
   "outputs": [],
   "source": [
    "myset.clear()"
   ]
  },
  {
   "cell_type": "code",
   "execution_count": 85,
   "id": "955421d3-2bc9-4541-91b3-bd8823a3d5fc",
   "metadata": {},
   "outputs": [
    {
     "name": "stdout",
     "output_type": "stream",
     "text": [
      "Set after clearing: set()\n"
     ]
    }
   ],
   "source": [
    "print(\"Set after clearing:\", myset)"
   ]
  },
  {
   "cell_type": "code",
   "execution_count": 86,
   "id": "b495ac76-1a6a-4f3a-a2d2-07b2ffa52f52",
   "metadata": {},
   "outputs": [],
   "source": [
    "#7. Create a set of even numbers from 1 to 10."
   ]
  },
  {
   "cell_type": "code",
   "execution_count": 1,
   "id": "27ec0aed-a9f9-46be-945d-a4716f798b78",
   "metadata": {},
   "outputs": [],
   "source": [
    "even = set()"
   ]
  },
  {
   "cell_type": "code",
   "execution_count": 8,
   "id": "99fcd146-5d69-489d-b0c9-beaaa7389f5d",
   "metadata": {},
   "outputs": [],
   "source": [
    "for no in range(1,11):\n",
    "    if no%2==0:\n",
    "     even.add(no)\n"
   ]
  },
  {
   "cell_type": "code",
   "execution_count": 9,
   "id": "5acb23d4-e31f-4603-902b-512660953f1d",
   "metadata": {},
   "outputs": [
    {
     "name": "stdout",
     "output_type": "stream",
     "text": [
      "{2, 4, 6, 8, 10}\n"
     ]
    }
   ],
   "source": [
    "    print(even)\n",
    "    "
   ]
  },
  {
   "cell_type": "code",
   "execution_count": 1,
   "id": "70a7fc41-ed36-482e-b97f-cc41b1903f3b",
   "metadata": {},
   "outputs": [],
   "source": [
    "#8. Create a set of odd numbers from 1 to 10.\n"
   ]
  },
  {
   "cell_type": "code",
   "execution_count": 4,
   "id": "879fb9d8-9911-4883-acb7-03bba0afdd59",
   "metadata": {},
   "outputs": [],
   "source": [
    "odd = set()\n",
    "for num in range(1,11):\n",
    "    if num%2!=0:\n",
    "     odd.add(num)\n"
   ]
  },
  {
   "cell_type": "code",
   "execution_count": 5,
   "id": "1e00003f-d687-4ade-a9f2-573a40f3ccad",
   "metadata": {},
   "outputs": [
    {
     "name": "stdout",
     "output_type": "stream",
     "text": [
      "{1, 3, 5, 7, 9}\n"
     ]
    }
   ],
   "source": [
    "    print(odd)\n",
    "    "
   ]
  },
  {
   "cell_type": "code",
   "execution_count": 6,
   "id": "fda2dd25-7e2b-4c8d-9adc-ea6ef7f112f9",
   "metadata": {},
   "outputs": [],
   "source": [
    "#9. Find the union of two sets."
   ]
  },
  {
   "cell_type": "code",
   "execution_count": 12,
   "id": "b7fd8f10-803c-457a-a9cc-431cff4e116a",
   "metadata": {},
   "outputs": [],
   "source": [
    "set1 ={1, 2, 3, 4, 5}\n",
    "set2 ={6, 7, 8, 9, 10}"
   ]
  },
  {
   "cell_type": "code",
   "execution_count": 13,
   "id": "7512872e-d65e-43af-b998-ba5088b91402",
   "metadata": {},
   "outputs": [],
   "source": [
    "union = set1.union(set2)"
   ]
  },
  {
   "cell_type": "code",
   "execution_count": 14,
   "id": "956cdf74-a259-4cb8-9f21-9327bdb330b3",
   "metadata": {},
   "outputs": [
    {
     "name": "stdout",
     "output_type": "stream",
     "text": [
      "{1, 2, 3, 4, 5, 6, 7, 8, 9, 10}\n"
     ]
    }
   ],
   "source": [
    "print(union)"
   ]
  },
  {
   "cell_type": "code",
   "execution_count": 15,
   "id": "6c7419ee-5df5-4663-b792-4de2cb347734",
   "metadata": {},
   "outputs": [],
   "source": [
    "#10. Find the intersection of two sets."
   ]
  },
  {
   "cell_type": "code",
   "execution_count": 19,
   "id": "f3cdd2d7-c6e2-487e-9f13-70ff4c0515d3",
   "metadata": {},
   "outputs": [],
   "source": [
    "set1 = {1, 2, 3, 4, 5}\n",
    "set2 = {3, 4, 5, 6, 7}\n"
   ]
  },
  {
   "cell_type": "code",
   "execution_count": 20,
   "id": "04791e15-70e9-4422-a6fc-44b2b96337c2",
   "metadata": {},
   "outputs": [],
   "source": [
    "intersectionsum = set1.intersection(set2)"
   ]
  },
  {
   "cell_type": "code",
   "execution_count": 23,
   "id": "13e338e7-924e-4c48-be8b-555c2876404d",
   "metadata": {},
   "outputs": [
    {
     "name": "stdout",
     "output_type": "stream",
     "text": [
      "{3, 4, 5}\n"
     ]
    }
   ],
   "source": [
    "print(intersectionsum)"
   ]
  },
  {
   "cell_type": "code",
   "execution_count": 24,
   "id": "31e4ba39-61da-45d6-8a7b-78affeb77af7",
   "metadata": {},
   "outputs": [],
   "source": [
    "#11. Find the difference between two sets.#"
   ]
  },
  {
   "cell_type": "code",
   "execution_count": 25,
   "id": "cf310ed1-b444-4ae1-9e11-ee640e785551",
   "metadata": {},
   "outputs": [],
   "source": [
    "set1 = {1, 2, 3, 4, 5}\n",
    "set2 = {3, 4, 5, 6, 7}"
   ]
  },
  {
   "cell_type": "code",
   "execution_count": 26,
   "id": "51647251-82c3-47a1-8908-87ff3ea23849",
   "metadata": {},
   "outputs": [],
   "source": [
    "different = set1.difference(set2)"
   ]
  },
  {
   "cell_type": "code",
   "execution_count": 27,
   "id": "138778f6-9232-4013-bfcc-95da7ed12779",
   "metadata": {},
   "outputs": [
    {
     "name": "stdout",
     "output_type": "stream",
     "text": [
      "{1, 2}\n"
     ]
    }
   ],
   "source": [
    "print(different)"
   ]
  },
  {
   "cell_type": "code",
   "execution_count": 28,
   "id": "ede82a39-9ae3-480d-bb0b-54276a23e1fe",
   "metadata": {},
   "outputs": [],
   "source": [
    "#12. Check if a set is a subset of another set."
   ]
  },
  {
   "cell_type": "code",
   "execution_count": 36,
   "id": "e1d537ba-dc18-479f-b4c0-6a6ba1b579bf",
   "metadata": {},
   "outputs": [],
   "source": [
    "set1 =  {4, 5}\n",
    "set2 = {1, 2, 3, 4, 5}"
   ]
  },
  {
   "cell_type": "code",
   "execution_count": 37,
   "id": "d84f4e01-ecab-44a0-af6b-0714b55ec4aa",
   "metadata": {},
   "outputs": [],
   "source": [
    "subset = set1.issubset(set2)"
   ]
  },
  {
   "cell_type": "code",
   "execution_count": 38,
   "id": "d07db773-f9e2-48d5-b272-0353c35b9c82",
   "metadata": {},
   "outputs": [
    {
     "name": "stdout",
     "output_type": "stream",
     "text": [
      "True\n"
     ]
    }
   ],
   "source": [
    "print(subset)"
   ]
  },
  {
   "cell_type": "code",
   "execution_count": 39,
   "id": "61e58b8b-483c-4b70-82bc-135a0026d34b",
   "metadata": {},
   "outputs": [],
   "source": [
    "#13. Check if a set is a superset of another set."
   ]
  },
  {
   "cell_type": "code",
   "execution_count": 42,
   "id": "1287e595-a8d4-4ef9-b9b1-9648fe94daac",
   "metadata": {},
   "outputs": [],
   "source": [
    "set1 = {1, 2, 3, 4}\n",
    "set2 = {3, 4}\n"
   ]
  },
  {
   "cell_type": "code",
   "execution_count": 43,
   "id": "ad1c9589-bff4-4b0e-9616-b90ef16f17bf",
   "metadata": {},
   "outputs": [],
   "source": [
    "superset = set1.issuperset(set2)"
   ]
  },
  {
   "cell_type": "code",
   "execution_count": 44,
   "id": "86f3a542-5a06-4e09-bfc7-f83e80c1d860",
   "metadata": {},
   "outputs": [
    {
     "name": "stdout",
     "output_type": "stream",
     "text": [
      "set1 is a superset of set2\n"
     ]
    }
   ],
   "source": [
    "if superset:\n",
    "    print(\"set1 is a superset of set2\")\n",
    "else:\n",
    "    print(\"set1 is not a superset of set2\")"
   ]
  },
  {
   "cell_type": "code",
   "execution_count": 5,
   "id": "0703ef4a-02a1-4e18-a1f4-1c57c5141a98",
   "metadata": {},
   "outputs": [],
   "source": [
    "#14Create a set from a list\n"
   ]
  },
  {
   "cell_type": "code",
   "execution_count": 6,
   "id": "a77ca277-6208-423f-8a99-9576345fe8ba",
   "metadata": {},
   "outputs": [],
   "source": [
    "mylist = [2, 4, 1, 4, 3, 2, 5]"
   ]
  },
  {
   "cell_type": "code",
   "execution_count": 7,
   "id": "f0dfe526-5538-4fd9-ac44-66734a26163c",
   "metadata": {},
   "outputs": [],
   "source": [
    "myset = set(mylist)\n"
   ]
  },
  {
   "cell_type": "code",
   "execution_count": 8,
   "id": "321d9260-da8a-4209-b0b0-d3ac7087383d",
   "metadata": {},
   "outputs": [
    {
     "data": {
      "text/plain": [
       "{1, 2, 3, 4, 5}"
      ]
     },
     "execution_count": 8,
     "metadata": {},
     "output_type": "execute_result"
    }
   ],
   "source": [
    "myset\n"
   ]
  },
  {
   "cell_type": "code",
   "execution_count": 9,
   "id": "5ef28efb-f435-4e15-999d-0afefc9f34e3",
   "metadata": {},
   "outputs": [],
   "source": [
    "#15. Convert a set to a list."
   ]
  },
  {
   "cell_type": "code",
   "execution_count": 10,
   "id": "93b3ad0a-6680-46ba-ac04-63615fe653a0",
   "metadata": {},
   "outputs": [],
   "source": [
    "myset = {3, 1, 4, 1, 5, 9, 2, 6, 5}"
   ]
  },
  {
   "cell_type": "code",
   "execution_count": 13,
   "id": "5656d114-ce51-4f78-bcca-479e9b9b55af",
   "metadata": {},
   "outputs": [],
   "source": [
    "mylist = list(myset)"
   ]
  },
  {
   "cell_type": "code",
   "execution_count": 14,
   "id": "70e8a928-e344-4988-858e-0b226f6d0f61",
   "metadata": {},
   "outputs": [
    {
     "data": {
      "text/plain": [
       "[1, 2, 3, 4, 5, 6, 9]"
      ]
     },
     "execution_count": 14,
     "metadata": {},
     "output_type": "execute_result"
    }
   ],
   "source": [
    "mylist"
   ]
  },
  {
   "cell_type": "code",
   "execution_count": 15,
   "id": "5209f62d-9819-4395-93fd-d9b11820f18f",
   "metadata": {},
   "outputs": [],
   "source": [
    "#16. Remove a random element from a set."
   ]
  },
  {
   "cell_type": "code",
   "execution_count": 36,
   "id": "05f541d2-52c8-44ea-b78d-1a66079874cc",
   "metadata": {},
   "outputs": [],
   "source": [
    "import random \n",
    "myset = {1, 2, 3, 4, 5}"
   ]
  },
  {
   "cell_type": "code",
   "execution_count": 37,
   "id": "134dc0a3-6f7a-470b-a8a2-034e7e615ae8",
   "metadata": {},
   "outputs": [],
   "source": [
    "random_element = random.choice(list(myset))\n",
    "myset.remove(random_element)"
   ]
  },
  {
   "cell_type": "code",
   "execution_count": 38,
   "id": "8f83f7cb-7118-44a9-b37d-30d71c6d5040",
   "metadata": {},
   "outputs": [
    {
     "name": "stdout",
     "output_type": "stream",
     "text": [
      "Updated set after removing 5 : {1, 2, 3, 4}\n"
     ]
    }
   ],
   "source": [
    "print(\"Updated set after removing\", random_element, \":\", myset)"
   ]
  },
  {
   "cell_type": "code",
   "execution_count": 3,
   "id": "1d727b8b-484a-43d8-9d36-9ce1c95094b1",
   "metadata": {},
   "outputs": [],
   "source": [
    "#17. Pop an element from a set.\n"
   ]
  },
  {
   "cell_type": "code",
   "execution_count": 52,
   "id": "5b66671d-132b-4e54-84f8-4949793bfec0",
   "metadata": {},
   "outputs": [
    {
     "name": "stdout",
     "output_type": "stream",
     "text": [
      "The input set is: {1, 2, 3, 4, 5, 6}\n"
     ]
    }
   ],
   "source": [
    "mySet = {1, 2, 3, 4, 5, 6}\n",
    "print(\"The input set is:\", mySet)\n"
   ]
  },
  {
   "cell_type": "code",
   "execution_count": 53,
   "id": "c5c92fa8-61be-4a46-85b0-7681b0f6c4a4",
   "metadata": {},
   "outputs": [
    {
     "name": "stdout",
     "output_type": "stream",
     "text": [
      "The output set is: {2, 3, 4, 5, 6}\n",
      "Popped item is: 1\n"
     ]
    }
   ],
   "source": [
    "popped = mySet.pop()\n",
    "print(\"The output set is:\", mySet)\n",
    "print(\"Popped item is:\", popped)\n"
   ]
  },
  {
   "cell_type": "code",
   "execution_count": 39,
   "id": "c937a2ba-0964-4789-a58c-0a50b108fcdd",
   "metadata": {},
   "outputs": [],
   "source": [
    "#18. Check if two sets have no elements in common."
   ]
  },
  {
   "cell_type": "code",
   "execution_count": 45,
   "id": "e7947723-5978-4241-8b53-deebde5ea76b",
   "metadata": {},
   "outputs": [],
   "source": [
    "set1 = {1, 2, 3, 4}\n",
    "set2 = {4, 6, 7, 8}"
   ]
  },
  {
   "cell_type": "code",
   "execution_count": 46,
   "id": "e8b49252-7aaa-469d-b631-48e455aaae8b",
   "metadata": {},
   "outputs": [],
   "source": [
    "common = set1.intersection(set2)\n"
   ]
  },
  {
   "cell_type": "code",
   "execution_count": 47,
   "id": "fe6782f1-de3c-4f6c-8193-833a2d5a3589",
   "metadata": {},
   "outputs": [
    {
     "name": "stdout",
     "output_type": "stream",
     "text": [
      "The two sets have common elements: {4}\n"
     ]
    }
   ],
   "source": [
    "if not common:\n",
    "    print(\"The two sets have no elements in common.\")\n",
    "else:\n",
    "    print(\"The two sets have common elements:\", common)"
   ]
  },
  {
   "cell_type": "code",
   "execution_count": 1,
   "id": "75f9e051-9047-478b-bd9e-3d49819a3d2d",
   "metadata": {},
   "outputs": [],
   "source": [
    "#19. Find the symmetric difference between two sets."
   ]
  },
  {
   "cell_type": "code",
   "execution_count": 1,
   "id": "971f5ed3-eeaf-4f19-9fb6-6b021a9502a8",
   "metadata": {},
   "outputs": [],
   "source": [
    "set1 = {1, 2, 3, 4, 5}\n",
    "set2 = {4, 5, 6, 7, 8}\n"
   ]
  },
  {
   "cell_type": "code",
   "execution_count": 2,
   "id": "83d8ca1b-40de-4573-8962-732610175a33",
   "metadata": {},
   "outputs": [],
   "source": [
    "symmetric = set1 ^ set2\n"
   ]
  },
  {
   "cell_type": "code",
   "execution_count": 3,
   "id": "01846afa-bf31-45bd-a8f0-d74751f21956",
   "metadata": {},
   "outputs": [
    {
     "name": "stdout",
     "output_type": "stream",
     "text": [
      "Symmetric Difference: {1, 2, 3, 6, 7, 8}\n"
     ]
    }
   ],
   "source": [
    "print(\"Symmetric Difference:\", symmetric)"
   ]
  },
  {
   "cell_type": "code",
   "execution_count": 4,
   "id": "e2eab201-5855-4d6e-84a7-1ed260bbecdd",
   "metadata": {},
   "outputs": [],
   "source": [
    "#20. Update a set with elements from another set."
   ]
  },
  {
   "cell_type": "code",
   "execution_count": 5,
   "id": "17ba3679-91fe-4f32-a449-e621e884636c",
   "metadata": {},
   "outputs": [],
   "source": [
    "set1 = {1, 2, 3}\n",
    "set2 = {3, 4, 5}\n"
   ]
  },
  {
   "cell_type": "code",
   "execution_count": 6,
   "id": "c9262445-5a9b-4949-957c-b4434ac9b286",
   "metadata": {},
   "outputs": [],
   "source": [
    "set1.update(set2)"
   ]
  },
  {
   "cell_type": "code",
   "execution_count": 7,
   "id": "da5aa390-3a6d-4a0b-bd01-57a5b587da9e",
   "metadata": {},
   "outputs": [
    {
     "name": "stdout",
     "output_type": "stream",
     "text": [
      "Update a set with elements from another set: {1, 2, 3, 4, 5}\n"
     ]
    }
   ],
   "source": [
    "print(\"Update a set with elements from another set:\", set1)"
   ]
  },
  {
   "cell_type": "code",
   "execution_count": 8,
   "id": "14267c9b-c41a-4cb6-8a34-216915f2e41f",
   "metadata": {},
   "outputs": [],
   "source": [
    "#21. Create a set of the first 5 prime numbers."
   ]
  },
  {
   "cell_type": "code",
   "execution_count": 9,
   "id": "97a5a1b9-f32b-4b37-8f8d-2f8210e62398",
   "metadata": {},
   "outputs": [],
   "source": [
    "def isprime(num):\n",
    "    if num <= 1:\n",
    "        return False\n",
    "    for i in range(2, int(num ** 0.5) + 1):\n",
    "        if num % i == 0:\n",
    "            return False\n",
    "    return True\n",
    "  "
   ]
  },
  {
   "cell_type": "code",
   "execution_count": null,
   "id": "6e392e32-8cb7-47d7-8e13-183d052d2b59",
   "metadata": {},
   "outputs": [],
   "source": [
    "prime_set = set()\n",
    "num = 2\n",
    "while len(prime_set) < 5:\n",
    "      if isprime(num):\n",
    "        prime_set.add(num)\n",
    "        num += 1 \n",
    "        "
   ]
  },
  {
   "cell_type": "code",
   "execution_count": null,
   "id": "9804f4b9-84b0-422e-9d26-a74bdf602a19",
   "metadata": {},
   "outputs": [],
   "source": [
    "print(\"Set of the first 5 prime numbers:\", prime_set)        "
   ]
  },
  {
   "cell_type": "code",
   "execution_count": 1,
   "id": "e20d9395-3f83-42d1-a875-c1fc96b4d8be",
   "metadata": {},
   "outputs": [],
   "source": [
    "#22. Check if two sets are identical."
   ]
  },
  {
   "cell_type": "code",
   "execution_count": 2,
   "id": "a643ecf0-edbd-4518-a77f-81a36977f80f",
   "metadata": {},
   "outputs": [],
   "source": [
    "set1 = {1, 2, 3, 4, 5}\n",
    "set2 = {3, 1, 5, 2, 4}"
   ]
  },
  {
   "cell_type": "code",
   "execution_count": 3,
   "id": "81303ab3-e614-43e1-80e2-920d14a8fd23",
   "metadata": {},
   "outputs": [
    {
     "name": "stdout",
     "output_type": "stream",
     "text": [
      "The sets are identical.\n"
     ]
    }
   ],
   "source": [
    "if set1 == set2:\n",
    "     print(\"The sets are identical.\")\n",
    "else:\n",
    "    print(\"The sets are not identical.\")"
   ]
  },
  {
   "cell_type": "code",
   "execution_count": 23,
   "id": "7da4fdd0-7b54-43e4-ac2f-04312c129fd1",
   "metadata": {},
   "outputs": [],
   "source": [
    "#23. Create a frozen set."
   ]
  },
  {
   "cell_type": "code",
   "execution_count": 24,
   "id": "60741727-ee41-438f-b390-c11c1412e2af",
   "metadata": {},
   "outputs": [],
   "source": [
    "sets = [1, 2, 3, 4, 5]"
   ]
  },
  {
   "cell_type": "code",
   "execution_count": 28,
   "id": "ecbb774a-8379-4434-aad0-656697e09db5",
   "metadata": {},
   "outputs": [],
   "source": [
    "frozen = frozenset(sets)\n"
   ]
  },
  {
   "cell_type": "code",
   "execution_count": 29,
   "id": "8fad95a0-1806-47a5-a69a-67f35b4aa041",
   "metadata": {},
   "outputs": [
    {
     "name": "stdout",
     "output_type": "stream",
     "text": [
      "Frozen Set: frozenset({1, 2, 3, 4, 5})\n"
     ]
    }
   ],
   "source": [
    "print(\"Frozen Set:\", frozen )"
   ]
  },
  {
   "cell_type": "code",
   "execution_count": 10,
   "id": "2ab7539e-3ea1-4a63-afb3-1e285a07c8e1",
   "metadata": {},
   "outputs": [],
   "source": [
    "#24. Check if a set is disjoint with another set.\n"
   ]
  },
  {
   "cell_type": "code",
   "execution_count": 11,
   "id": "30ff1fbd-0a35-48e8-aa10-f0050f4a6f54",
   "metadata": {},
   "outputs": [],
   "source": [
    "set1 = {1, 2, 3, 4}\n",
    "set2 = {5, 6, 7, 8}"
   ]
  },
  {
   "cell_type": "code",
   "execution_count": 12,
   "id": "b6ced14a-8657-4db4-a6af-5e9bebc3218b",
   "metadata": {},
   "outputs": [],
   "source": [
    "disjoint = set1.isdisjoint(set2)\n",
    "\n"
   ]
  },
  {
   "cell_type": "code",
   "execution_count": 13,
   "id": "c3d65452-fcd1-4506-8736-4ea739d83c52",
   "metadata": {},
   "outputs": [
    {
     "name": "stdout",
     "output_type": "stream",
     "text": [
      "Are the sets disjoint? True\n"
     ]
    }
   ],
   "source": [
    "print(\"Are the sets disjoint?\", disjoint)"
   ]
  },
  {
   "cell_type": "code",
   "execution_count": 14,
   "id": "311341de-82b2-4c10-bfb9-26e9a7cd8c38",
   "metadata": {},
   "outputs": [],
   "source": [
    "#25. Create a set of squares of numbers from 1 to 5."
   ]
  },
  {
   "cell_type": "code",
   "execution_count": 23,
   "id": "435b01d7-b72a-44e1-aee4-690fff0d6d48",
   "metadata": {},
   "outputs": [],
   "source": [
    "squareset = set()"
   ]
  },
  {
   "cell_type": "code",
   "execution_count": 29,
   "id": "50a40fab-65c3-4326-a0d3-d72bee5385d5",
   "metadata": {},
   "outputs": [],
   "source": [
    "for num in range(1, 6):\n",
    "    square = num ** 2\n",
    "    \n",
    "    squareset.add(square)"
   ]
  },
  {
   "cell_type": "code",
   "execution_count": 30,
   "id": "644b62c4-03fb-448b-83b7-9a82846ff262",
   "metadata": {},
   "outputs": [
    {
     "name": "stdout",
     "output_type": "stream",
     "text": [
      "{1, 4, 9, 16, 25}\n"
     ]
    }
   ],
   "source": [
    "print(squareset)"
   ]
  },
  {
   "cell_type": "code",
   "execution_count": 31,
   "id": "13aa7cce-6aec-469d-9938-b4c70807de67",
   "metadata": {},
   "outputs": [],
   "source": [
    "#26. Filter out all even numbers from a set."
   ]
  },
  {
   "cell_type": "code",
   "execution_count": 32,
   "id": "14bec3c7-75ca-46c4-b420-d54d1bacbe68",
   "metadata": {},
   "outputs": [],
   "source": [
    "myset = {2,4,6,8,9,7,4}"
   ]
  },
  {
   "cell_type": "code",
   "execution_count": 33,
   "id": "b93bbb49-1327-479a-8cf7-f027656a6473",
   "metadata": {},
   "outputs": [],
   "source": [
    "evennum = set()"
   ]
  },
  {
   "cell_type": "code",
   "execution_count": 38,
   "id": "7571ac69-082e-4d72-80cf-e12bd12966c0",
   "metadata": {},
   "outputs": [],
   "source": [
    "for num in myset:\n",
    "    if num%2==0:\n",
    "        evennum.add(num)\n",
    "   \n",
    "        "
   ]
  },
  {
   "cell_type": "code",
   "execution_count": 39,
   "id": "dac94020-e56f-447b-9a1a-03467008ce9c",
   "metadata": {},
   "outputs": [
    {
     "name": "stdout",
     "output_type": "stream",
     "text": [
      "Original Set: {2, 4, 6, 7, 8, 9}\n",
      "Even Numbers Set: {8, 2, 4, 6}\n"
     ]
    }
   ],
   "source": [
    "print(\"Original Set:\", myset)\n",
    "print(\"Even Numbers Set:\", evennum)  "
   ]
  },
  {
   "cell_type": "code",
   "execution_count": 40,
   "id": "fa320b39-ddb4-4a4a-875e-30f2ad8a9b2a",
   "metadata": {},
   "outputs": [],
   "source": [
    "#27. Multiply all elements in a set by 2.\n",
    "    "
   ]
  },
  {
   "cell_type": "code",
   "execution_count": 45,
   "id": "d7d57fde-21b0-4141-8a4a-06d98b62d52f",
   "metadata": {},
   "outputs": [],
   "source": [
    "myset = {2,4,6,8,9}\n"
   ]
  },
  {
   "cell_type": "code",
   "execution_count": 46,
   "id": "458ca16c-35f1-44c0-b4a7-8cb21d72ca07",
   "metadata": {},
   "outputs": [],
   "source": [
    "multiplied = set()\n",
    "for num in myset:\n",
    "    multipliednum = num * 2\n",
    "    multiplied.add(multipliednum)\n"
   ]
  },
  {
   "cell_type": "code",
   "execution_count": 47,
   "id": "24cdd055-d02b-46c6-8b2d-acd49855d586",
   "metadata": {},
   "outputs": [
    {
     "name": "stdout",
     "output_type": "stream",
     "text": [
      "Multiplied Set: {4, 8, 12, 16, 18}\n"
     ]
    }
   ],
   "source": [
    "print(\"Multiplied Set:\", multiplied)"
   ]
  },
  {
   "cell_type": "code",
   "execution_count": 1,
   "id": "dc2080bc-2a90-4f84-b4d5-bd550b745cdc",
   "metadata": {},
   "outputs": [],
   "source": [
    "#28. Create a set of random numbers."
   ]
  },
  {
   "cell_type": "code",
   "execution_count": 6,
   "id": "d59b1669-b10d-41f9-85f8-aada90508174",
   "metadata": {},
   "outputs": [],
   "source": [
    "import random\n",
    "random_number_set = set()\n",
    "for _ in range(5):\n",
    "    random_num = random.randint(1, 100)\n",
    "    random_number_set.add(random_num)\n",
    "\n"
   ]
  },
  {
   "cell_type": "code",
   "execution_count": 7,
   "id": "dae122a7-7b1a-40db-a1c9-7efedc2e99be",
   "metadata": {},
   "outputs": [
    {
     "name": "stdout",
     "output_type": "stream",
     "text": [
      "Generated set of five random numbers: {64, 14, 47, 51, 59}\n"
     ]
    }
   ],
   "source": [
    "print(\"Generated set of five random numbers:\", random_number_set)\n"
   ]
  },
  {
   "cell_type": "code",
   "execution_count": 1,
   "id": "e365facc-2128-447a-bed5-647dc0c35202",
   "metadata": {},
   "outputs": [],
   "source": [
    "#29. Check if a set is empty."
   ]
  },
  {
   "cell_type": "code",
   "execution_count": 2,
   "id": "1926fe32-5675-4de0-8fbf-4b546273cde1",
   "metadata": {},
   "outputs": [
    {
     "name": "stdout",
     "output_type": "stream",
     "text": [
      "The set is empty.\n"
     ]
    }
   ],
   "source": [
    "my_set = set()\n",
    "if not my_set:\n",
    "    print(\"The set is empty.\")\n",
    "else:\n",
    "    print(\"The set is not empty.\")"
   ]
  },
  {
   "cell_type": "code",
   "execution_count": 14,
   "id": "dac2c964-2bb9-49e4-9a81-f52018db0618",
   "metadata": {},
   "outputs": [],
   "source": [
    "#30. Create a nested set (hint: use frozenset)."
   ]
  },
  {
   "cell_type": "code",
   "execution_count": 15,
   "id": "2985d4d6-1f58-45cb-8fb5-722f461f03cb",
   "metadata": {},
   "outputs": [],
   "source": [
    "set1 = {1, 2, 3, 4, 5}\n",
    "set2 = {6, 7, 8, 9, 10}\n"
   ]
  },
  {
   "cell_type": "code",
   "execution_count": 16,
   "id": "6eb3e8eb-7d94-4d5f-b39e-fce9e3a6c740",
   "metadata": {},
   "outputs": [],
   "source": [
    "frozen_set1 = frozenset(set1)\n",
    "frozen_set2 = frozenset(set2)"
   ]
  },
  {
   "cell_type": "code",
   "execution_count": 21,
   "id": "69b254d9-cd6f-468b-ba97-abeb02f2d019",
   "metadata": {},
   "outputs": [],
   "source": [
    "nested_set = {frozen_set1, frozen_set2}"
   ]
  },
  {
   "cell_type": "code",
   "execution_count": 22,
   "id": "ed7d4929-8564-4f43-bf42-3da102b3b910",
   "metadata": {},
   "outputs": [
    {
     "name": "stdout",
     "output_type": "stream",
     "text": [
      "Nested Set: {frozenset({1, 2, 3, 4, 5}), frozenset({6, 7, 8, 9, 10})}\n"
     ]
    }
   ],
   "source": [
    "print(\"Nested Set:\", nested_set)"
   ]
  },
  {
   "cell_type": "code",
   "execution_count": 30,
   "id": "c47922e0-9c19-43c4-ab3d-7996ca341a01",
   "metadata": {},
   "outputs": [],
   "source": [
    "#31. Remove an element from a set using the discard method."
   ]
  },
  {
   "cell_type": "code",
   "execution_count": 31,
   "id": "fed7bb0b-251d-46dd-a724-c53d6345b167",
   "metadata": {},
   "outputs": [],
   "source": [
    "my_set = {1, 2, 3, 4, 5}"
   ]
  },
  {
   "cell_type": "code",
   "execution_count": 32,
   "id": "e25f4de6-9c6e-46a4-a030-79380e5b41e0",
   "metadata": {},
   "outputs": [
    {
     "name": "stdout",
     "output_type": "stream",
     "text": [
      "Set after removing 3 : {1, 2, 4, 5}\n"
     ]
    }
   ],
   "source": [
    "remove = 3\n",
    "my_set.discard(remove)\n",
    "print(\"Set after removing\", remove, \":\", my_set)"
   ]
  },
  {
   "cell_type": "code",
   "execution_count": 33,
   "id": "39f0178d-572f-45e1-bbc0-0e06f9d47874",
   "metadata": {},
   "outputs": [],
   "source": [
    "#32. Compare two sets."
   ]
  },
  {
   "cell_type": "code",
   "execution_count": 34,
   "id": "04a01371-ecca-4bb4-941d-6c156a965374",
   "metadata": {},
   "outputs": [],
   "source": [
    "set1 = {1, 2, 3, 4, 5}\n",
    "set2 = {4, 5, 6, 7, 8}"
   ]
  },
  {
   "cell_type": "code",
   "execution_count": 36,
   "id": "473083ce-c313-46fa-bce4-abb58516758e",
   "metadata": {},
   "outputs": [],
   "source": [
    "is_subset = set1.issubset(set2)\n",
    "is_superset = set1.issuperset(set2)\n",
    "union = set1.union(set2)\n",
    "intersection = set1.intersection(set2)\n",
    "difference1 = set1.difference(set2)\n",
    "difference2 = set2.difference(set1)"
   ]
  },
  {
   "cell_type": "code",
   "execution_count": 37,
   "id": "dd9f6e7f-946e-4afc-a809-42a5eb1abd9d",
   "metadata": {},
   "outputs": [
    {
     "name": "stdout",
     "output_type": "stream",
     "text": [
      "Set 1: {1, 2, 3, 4, 5}\n",
      "Set 2: {4, 5, 6, 7, 8}\n",
      "Is set1 a subset of set2? False\n",
      "Is set2 a subset of set1? False\n",
      "Intersection: {4, 5}\n",
      "Union: {1, 2, 3, 4, 5, 6, 7, 8}\n",
      "Elements in set1 but not in set2: {1, 2, 3}\n",
      "Elements in set2 but not in set1: {8, 6, 7}\n"
     ]
    }
   ],
   "source": [
    "print(\"Set 1:\", set1)\n",
    "print(\"Set 2:\", set2)\n",
    "print(\"Is set1 a subset of set2?\", is_subset)\n",
    "print(\"Is set2 a subset of set1?\", is_superset)\n",
    "print(\"Intersection:\", intersection)\n",
    "print(\"Union:\", union)\n",
    "print(\"Elements in set1 but not in set2:\", difference1)\n",
    "print(\"Elements in set2 but not in set1:\", difference2)"
   ]
  },
  {
   "cell_type": "code",
   "execution_count": 38,
   "id": "4a12da69-9ddf-4c65-b467-7e2a757a737e",
   "metadata": {},
   "outputs": [],
   "source": [
    "#33. Create a set from a string."
   ]
  },
  {
   "cell_type": "code",
   "execution_count": 70,
   "id": "202831a1-a5f8-41d4-9168-0e5f4cf795ef",
   "metadata": {},
   "outputs": [],
   "source": [
    "input_string = (\"satyam\")"
   ]
  },
  {
   "cell_type": "code",
   "execution_count": 71,
   "id": "57f3ba3c-b08a-4b3e-8053-4a57774d04d3",
   "metadata": {},
   "outputs": [],
   "source": [
    "convert = set(input_string)"
   ]
  },
  {
   "cell_type": "code",
   "execution_count": 72,
   "id": "57b43417-7b0e-4b63-b889-feed4c29b631",
   "metadata": {},
   "outputs": [
    {
     "name": "stdout",
     "output_type": "stream",
     "text": [
      "{'y', 'a', 'm', 's', 't'}\n"
     ]
    }
   ],
   "source": [
    "print(convert)"
   ]
  },
  {
   "cell_type": "code",
   "execution_count": 48,
   "id": "cb6ccb36-3f70-4b14-8b68-eb0997ac3766",
   "metadata": {},
   "outputs": [],
   "source": [
    "#34. Convert a set of strings to a set of integers."
   ]
  },
  {
   "cell_type": "code",
   "execution_count": 63,
   "id": "f3b40171-db65-4f73-a160-0d80f5e27bb1",
   "metadata": {},
   "outputs": [],
   "source": [
    "string_set = {\"365\", \"234\", \"679\"}"
   ]
  },
  {
   "cell_type": "code",
   "execution_count": 65,
   "id": "61c14177-b816-4668-a7de-cb37258aecee",
   "metadata": {},
   "outputs": [],
   "source": [
    "integer_set = set()\n",
    "for string in string_set:\n",
    "    integer_value = int(string)\n",
    "    integer_set.add(integer_value)\n",
    "    "
   ]
  },
  {
   "cell_type": "code",
   "execution_count": 66,
   "id": "1d15f4e3-983c-4bc2-9470-8efae6ebdf87",
   "metadata": {},
   "outputs": [
    {
     "name": "stdout",
     "output_type": "stream",
     "text": [
      "Original String Set: {'365', '679', '234'}\n",
      "Converted Integer Set: {234, 365, 679}\n"
     ]
    }
   ],
   "source": [
    "print(\"Original String Set:\", string_set)\n",
    "print(\"Converted Integer Set:\", integer_set)"
   ]
  },
  {
   "cell_type": "code",
   "execution_count": 73,
   "id": "f2965731-f75f-4ac9-8253-ade5df2e3acb",
   "metadata": {},
   "outputs": [],
   "source": [
    "#35. Convert a set of integers to a set of strings."
   ]
  },
  {
   "cell_type": "code",
   "execution_count": 74,
   "id": "929c41c7-8806-4e17-9bef-096e7424bd4c",
   "metadata": {},
   "outputs": [],
   "source": [
    "integers_set = {1, 2, 3, 4, 5}"
   ]
  },
  {
   "cell_type": "code",
   "execution_count": 76,
   "id": "427dadec-1d2d-454a-90ab-eec7657f2618",
   "metadata": {},
   "outputs": [],
   "source": [
    "strings_set = set()\n",
    "for num in integers_set:\n",
    "    num_str = str(num)\n",
    "    strings_set.add(num_str)"
   ]
  },
  {
   "cell_type": "code",
   "execution_count": 77,
   "id": "a0c788ec-24fd-4038-8e3a-924459fa623c",
   "metadata": {},
   "outputs": [
    {
     "name": "stdout",
     "output_type": "stream",
     "text": [
      "Original integers_set: {1, 2, 3, 4, 5}\n",
      "Converted strings_set: {'2', '4', '1', '3', '5'}\n"
     ]
    }
   ],
   "source": [
    "print(\"Original integers_set:\", integers_set)\n",
    "print(\"Converted strings_set:\", strings_set)"
   ]
  },
  {
   "cell_type": "code",
   "execution_count": 78,
   "id": "9d744791-2b73-4776-93ab-3fc5f0f14295",
   "metadata": {},
   "outputs": [],
   "source": [
    "#36. Create a set from a tuple."
   ]
  },
  {
   "cell_type": "code",
   "execution_count": 85,
   "id": "03fc1685-9905-4c36-acd2-4b45a47e3098",
   "metadata": {},
   "outputs": [],
   "source": [
    "input_tuple = (1, 2, 3, 2, 4, 5, 1)"
   ]
  },
  {
   "cell_type": "code",
   "execution_count": 90,
   "id": "8894fe27-f25d-4161-abaa-4623e9a28650",
   "metadata": {},
   "outputs": [],
   "source": [
    "output_set = set(input_tuple)"
   ]
  },
  {
   "cell_type": "code",
   "execution_count": 91,
   "id": "c4b553f2-08cf-4830-bede-75a9d8beb3aa",
   "metadata": {},
   "outputs": [
    {
     "name": "stdout",
     "output_type": "stream",
     "text": [
      "{1, 2, 3, 4, 5}\n"
     ]
    }
   ],
   "source": [
    "print(output_set)"
   ]
  },
  {
   "cell_type": "code",
   "execution_count": null,
   "id": "111f72e4-a31d-4234-9be3-d1422ca78cdd",
   "metadata": {},
   "outputs": [],
   "source": [
    "#37. Convert a set to a tuple."
   ]
  },
  {
   "cell_type": "code",
   "execution_count": 92,
   "id": "c3f833c1-03c7-48b8-9715-18ebf91e74b4",
   "metadata": {},
   "outputs": [],
   "source": [
    "input_set = {1, 2, 3, 4, 5}\n",
    "output_tuple = tuple(input_set)"
   ]
  },
  {
   "cell_type": "code",
   "execution_count": 93,
   "id": "803595cb-07d5-4ec0-bb9d-bd4e22b83b99",
   "metadata": {},
   "outputs": [
    {
     "name": "stdout",
     "output_type": "stream",
     "text": [
      "Original set: {1, 2, 3, 4, 5}\n",
      "Converted tuple: (1, 2, 3, 4, 5)\n"
     ]
    }
   ],
   "source": [
    "print(\"Original set:\", input_set)\n",
    "print(\"Converted tuple:\", output_tuple)"
   ]
  },
  {
   "cell_type": "code",
   "execution_count": 94,
   "id": "d8638bf4-d96a-4806-a2ca-14c13e6fb033",
   "metadata": {},
   "outputs": [],
   "source": [
    "#38. Find the maximum value in a set."
   ]
  },
  {
   "cell_type": "code",
   "execution_count": 5,
   "id": "6067c1cb-2678-4103-8660-241f770c522c",
   "metadata": {},
   "outputs": [
    {
     "name": "stdout",
     "output_type": "stream",
     "text": [
      "Maximum Numbers: 65\n"
     ]
    }
   ],
   "source": [
    "sets = set([8, 16, 24, 1, 25, 3, 10, 65, 55])\n",
    "MAX = max(sets)\n",
    "print(\"Maximum Numbers:\", MAX)"
   ]
  },
  {
   "cell_type": "code",
   "execution_count": 6,
   "id": "aa30fc53-b493-401d-8990-29a9bda39867",
   "metadata": {},
   "outputs": [],
   "source": [
    "#39. Find the minimum value in a set."
   ]
  },
  {
   "cell_type": "code",
   "execution_count": 2,
   "id": "3e2b38e8-101f-42ac-a1a5-5e0b73d6a962",
   "metadata": {},
   "outputs": [
    {
     "name": "stdout",
     "output_type": "stream",
     "text": [
      "Minimum Numbers: 1\n"
     ]
    }
   ],
   "source": [
    "sets = set([8, 16, 24, 1, 25, 3, 10, 65, 55])\n",
    "MIN = min(sets)\n",
    "print(\"Minimum Numbers:\", MIN)"
   ]
  },
  {
   "cell_type": "code",
   "execution_count": 3,
   "id": "548c3587-f2a1-4277-bc70-5f1f75bd8ba0",
   "metadata": {},
   "outputs": [],
   "source": [
    "#40. Create a set from user input."
   ]
  },
  {
   "cell_type": "code",
   "execution_count": 5,
   "id": "31eecc46-14c9-4159-aaa5-4eb5833bfa9f",
   "metadata": {},
   "outputs": [
    {
     "name": "stdin",
     "output_type": "stream",
     "text": [
      "Enter Elements for set seperated by coma SATYAM,SINHA,RAJ,LAXMI\n"
     ]
    }
   ],
   "source": [
    "Sets = input(\"Enter Elements for set seperated by coma\")"
   ]
  },
  {
   "cell_type": "code",
   "execution_count": 6,
   "id": "c4b5424a-24f2-4a67-8fb7-4fbdf94839e5",
   "metadata": {},
   "outputs": [
    {
     "name": "stdout",
     "output_type": "stream",
     "text": [
      "{'SATYAM,SINHA,RAJ,LAXMI'}\n"
     ]
    }
   ],
   "source": [
    " str_set = {Sets}\n",
    " print(str_set)\n",
    "    "
   ]
  },
  {
   "cell_type": "code",
   "execution_count": 7,
   "id": "9bfa0d4a-045b-4403-8ec5-0103899cf549",
   "metadata": {},
   "outputs": [
    {
     "data": {
      "text/plain": [
       "set"
      ]
     },
     "execution_count": 7,
     "metadata": {},
     "output_type": "execute_result"
    }
   ],
   "source": [
    "type(str_set)"
   ]
  },
  {
   "cell_type": "code",
   "execution_count": 8,
   "id": "8425b94e-ac53-4b6d-be46-6095d057dbbb",
   "metadata": {},
   "outputs": [],
   "source": [
    "#41. Check if the intersection of two sets is empty."
   ]
  },
  {
   "cell_type": "code",
   "execution_count": 34,
   "id": "ff11af08-d4fb-4e9c-b81e-5dbf6d6bd535",
   "metadata": {},
   "outputs": [],
   "source": [
    "set1 = {1, 2, 3, 4, 6}\n",
    "set2 = {6, 7, 8, 9, 10}\n"
   ]
  },
  {
   "cell_type": "code",
   "execution_count": 35,
   "id": "c5dfd8b9-edf6-49a0-ba90-4d1a7feea57e",
   "metadata": {},
   "outputs": [],
   "source": [
    "intersections = set1.intersection(set2)"
   ]
  },
  {
   "cell_type": "code",
   "execution_count": 36,
   "id": "137bca33-4252-4d45-913e-6e5829383185",
   "metadata": {},
   "outputs": [
    {
     "name": "stdout",
     "output_type": "stream",
     "text": [
      "The intersection of the two sets is not empty.\n"
     ]
    }
   ],
   "source": [
    "if not intersections:\n",
    "    print(\"The intersection of the two sets is empty.\")\n",
    "else:\n",
    "    print(\"The intersection of the two sets is not empty.\")"
   ]
  },
  {
   "cell_type": "code",
   "execution_count": 37,
   "id": "a1609593-b2c3-433d-8c24-791538205577",
   "metadata": {},
   "outputs": [],
   "source": [
    "#42. Create a set of the first 5 Fibonacci numbers."
   ]
  },
  {
   "cell_type": "code",
   "execution_count": 1,
   "id": "07430f34-0611-4ade-bbca-9b2b092f801e",
   "metadata": {},
   "outputs": [
    {
     "name": "stdout",
     "output_type": "stream",
     "text": [
      "Set of the first 5 Fibonacci numbers: {0, 1, 2, 3, 5}\n"
     ]
    }
   ],
   "source": [
    "fibonacci_set = set()\n",
    "\n",
    "a, b = 0, 1\n",
    "for _ in range(6):\n",
    "    fibonacci_set.add(a)\n",
    "    a, b = b, a + b\n",
    "\n",
    "print(\"Set of the first 5 Fibonacci numbers:\", fibonacci_set)"
   ]
  },
  {
   "cell_type": "code",
   "execution_count": 2,
   "id": "cd409409-8c9c-4741-ad22-f4cb88314fc1",
   "metadata": {},
   "outputs": [],
   "source": [
    "#43. Remove duplicates from a list using sets."
   ]
  },
  {
   "cell_type": "code",
   "execution_count": 20,
   "id": "f903f640-655b-48f3-9462-c6e19a856612",
   "metadata": {},
   "outputs": [
    {
     "name": "stdout",
     "output_type": "stream",
     "text": [
      "Original List: [2, 4, 6, 8, 4, 10, 6, 12, 14, 8]\n",
      "List with Duplicates Removed: [2, 4, 6, 8, 10, 12, 14]\n"
     ]
    }
   ],
   "source": [
    "original = [2, 4, 6, 8, 4, 10, 6, 12, 14, 8]\n",
    "\n",
    "unique = set(original)\n",
    "unique_list = list(unique)\n",
    "\n",
    "print(\"Original List:\", original)\n",
    "print(\"List with Duplicates Removed:\", unique_list)"
   ]
  },
  {
   "cell_type": "code",
   "execution_count": 4,
   "id": "ed578682-d23d-43e3-9ca2-1fdc71b4bb8e",
   "metadata": {},
   "outputs": [],
   "source": [
    "#44.Check if two sets have the same elements, regardless of their count."
   ]
  },
  {
   "cell_type": "code",
   "execution_count": 31,
   "id": "ff25aeab-afdb-45a8-a3e9-05ba4e9782ee",
   "metadata": {},
   "outputs": [
    {
     "name": "stdout",
     "output_type": "stream",
     "text": [
      "The lists l1 and l2 are not the same\n",
      "The lists l1 and l3 are the same\n",
      "The lists l1 and l3 are not the same\n"
     ]
    }
   ],
   "source": [
    "l1 = [10, 20, 30, 40, 50] \n",
    "l2 = [20, 30, 50, 40, 70] \n",
    "l3 = [50, 10, 30, 20, 40] \n",
    "\n",
    "l1.sort() \n",
    "l2.sort() \n",
    "l3.sort() \n",
    "\n",
    "if l1 == l2: \n",
    "    print (\"The lists l1 and l2 are the same\") \n",
    "else: \n",
    "    print (\"The lists l1 and l2 are not the same\") \n",
    "\n",
    "if l1 == l3: \n",
    "    print (\"The lists l1 and l3 are the same\") \n",
    "else: \n",
    "    print (\"The lists l1 and l3 are not the same\") \n",
    "if l2 == l3: \n",
    "    print (\"The lists l1 and l3 are the same\") \n",
    "else: \n",
    "    print (\"The lists l1 and l3 are not the same\") \n"
   ]
  },
  {
   "cell_type": "code",
   "execution_count": 6,
   "id": "c0c816fb-691c-4ec2-b817-664b73f165da",
   "metadata": {},
   "outputs": [],
   "source": [
    "#45. Create a set of the first n powers of 2"
   ]
  },
  {
   "cell_type": "code",
   "execution_count": 33,
   "id": "da5e9f52-baed-4f3f-af3d-adf7676ce236",
   "metadata": {},
   "outputs": [],
   "source": [
    "def generate_powers_of_2(n):\n",
    "    powers_of_2 = set()\n",
    "    for i in range(n):\n",
    "        power = 2 ** i\n",
    "        powers_of_2.add(power)\n",
    "    return powers_of_2\n"
   ]
  },
  {
   "cell_type": "code",
   "execution_count": 36,
   "id": "4bc6925b-ea7f-49c0-b2bc-3c518869ad5c",
   "metadata": {},
   "outputs": [
    {
     "name": "stdout",
     "output_type": "stream",
     "text": [
      "{1, 2, 4, 8, 16}\n"
     ]
    }
   ],
   "source": [
    "n = 5\n",
    "powers_set = generate_powers_of_2(n)\n",
    "print(powers_set)"
   ]
  },
  {
   "cell_type": "code",
   "execution_count": 9,
   "id": "a6ae72de-b822-4355-89d1-d7b3b7946997",
   "metadata": {},
   "outputs": [],
   "source": [
    "#46. Find the common elements between a set and a list."
   ]
  },
  {
   "cell_type": "code",
   "execution_count": 38,
   "id": "2eeccf8d-91d4-4339-a4f6-8d736256e734",
   "metadata": {},
   "outputs": [],
   "source": [
    "my_set = {3, 7, 9, 12, 15}\n",
    "my_list = [7, 12, 5, 9]\n",
    "\n",
    "list_to_set = set(my_list)\n"
   ]
  },
  {
   "cell_type": "code",
   "execution_count": 9,
   "id": "844d571e-c0cc-468d-88c1-6b975c78e056",
   "metadata": {},
   "outputs": [
    {
     "name": "stdout",
     "output_type": "stream",
     "text": [
      "Common Elements: [9, 12, 7]\n"
     ]
    }
   ],
   "source": [
    "g = my_set.intersection(list_to_set)\n",
    "p = list(g)\n",
    "print(\"Common Elements:\", p)"
   ]
  },
  {
   "cell_type": "code",
   "execution_count": 12,
   "id": "b42e7a8e-78f1-468a-bc6b-a9af378ea947",
   "metadata": {},
   "outputs": [],
   "source": [
    "#47. Create a set of the first n triangular numbers."
   ]
  },
  {
   "cell_type": "code",
   "execution_count": 12,
   "id": "f880f8e2-d149-41a8-8e71-009044a44c40",
   "metadata": {},
   "outputs": [
    {
     "name": "stdin",
     "output_type": "stream",
     "text": [
      "Enter the value of n:  9\n"
     ]
    },
    {
     "name": "stdout",
     "output_type": "stream",
     "text": [
      "The set of the first 9 triangular numbers is: {1, 3, 36, 6, 10, 45, 15, 21, 28}\n"
     ]
    }
   ],
   "source": [
    "def generate_triangular_numbers(n):\n",
    "    triangular_numbers = set() \n",
    "    for i in range(1, n + 1):\n",
    "        triangular_number = i*(i + 1)//2  \n",
    "        triangular_numbers.add(triangular_number)\n",
    "    return triangular_numbers\n",
    "\n",
    "n = int(input(\"Enter the value of n: \"))\n",
    "triangular_set = generate_triangular_numbers(n)\n",
    "\n",
    "# Display the set of triangular numbers\n",
    "print(f\"The set of the first {n} triangular numbers is:\", triangular_set)"
   ]
  },
  {
   "cell_type": "code",
   "execution_count": 14,
   "id": "a0db32fc-30b2-4f57-9431-f69e3e53d93b",
   "metadata": {},
   "outputs": [],
   "source": [
    "#48. Check if a set contains another set as a subset."
   ]
  },
  {
   "cell_type": "code",
   "execution_count": 14,
   "id": "26f4fb38-beae-49e2-becf-9939077e27b9",
   "metadata": {},
   "outputs": [
    {
     "name": "stdout",
     "output_type": "stream",
     "text": [
      "set2 is a subset of set1\n"
     ]
    }
   ],
   "source": [
    "set1 = {1, 2, 3, 4, 5}\n",
    "set2 = {3, 4, 5}\n",
    "\n",
    "subset = set2.issubset(set1)\n",
    "\n",
    "if subset:\n",
    "    print(\"set2 is a subset of set1\")\n",
    "else:\n",
    "    print(\"set2 is not a subset of set1\")"
   ]
  },
  {
   "cell_type": "code",
   "execution_count": 16,
   "id": "09f1818b-481d-4dca-9ad4-a6802a3e6364",
   "metadata": {},
   "outputs": [],
   "source": [
    "#49. Create a set of alternating 1s and 0s of length n"
   ]
  },
  {
   "cell_type": "code",
   "execution_count": 8,
   "id": "21ee0cf7-4037-4fe4-b2f9-32c416a4bafe",
   "metadata": {},
   "outputs": [],
   "source": [
    "def create(n):\n",
    "    alternating_set = set()\n",
    "    for i in range(n):\n",
    "        if i % 2 == 0:\n",
    "            alternating_set.add(1)  \n",
    "        else:\n",
    "            alternating_set.add(0)  \n",
    "    return alternating_set"
   ]
  },
  {
   "cell_type": "code",
   "execution_count": 9,
   "id": "396bd45a-a4c8-41f8-b33e-9cd6ba94c7e6",
   "metadata": {},
   "outputs": [
    {
     "name": "stdout",
     "output_type": "stream",
     "text": [
      "{0, 1}\n"
     ]
    }
   ],
   "source": [
    "f = 20\n",
    "result = create(f)\n",
    "print(result)  "
   ]
  },
  {
   "cell_type": "code",
   "execution_count": 18,
   "id": "7b21d058-d7b5-48b1-adcb-89f58d362d43",
   "metadata": {},
   "outputs": [],
   "source": [
    "#50. Merge multiple sets into one."
   ]
  },
  {
   "cell_type": "code",
   "execution_count": 34,
   "id": "c2cfa76b-8c23-4885-bdfa-3e2be69e3c97",
   "metadata": {},
   "outputs": [
    {
     "name": "stdout",
     "output_type": "stream",
     "text": [
      "Merged Set: {1, 2, 3, 4, 5, 6, 7}\n"
     ]
    }
   ],
   "source": [
    "set1 = {1, 2, 3}\n",
    "set2 = {3, 4, 5}\n",
    "set3 = {5, 6, 7}\n",
    "\n",
    "merged = set1.union(set2, set3)\n",
    "print(\"Merged Set:\", merged)"
   ]
  },
  {
   "cell_type": "code",
   "execution_count": 1,
   "id": "f010fe82-a5ed-471a-8f59-844cd4b68081",
   "metadata": {},
   "outputs": [],
   "source": [
    "#TOPIC: String Based Assignment Problem"
   ]
  },
  {
   "cell_type": "code",
   "execution_count": null,
   "id": "1a11e6ec-3775-4ecf-85d0-6c9fe2ea8e3f",
   "metadata": {},
   "outputs": [],
   "source": [
    "#1. Write a program to reverse a string."
   ]
  },
  {
   "cell_type": "code",
   "execution_count": 11,
   "id": "b1ffb378-077b-4069-a6c3-9ff2ab2b0783",
   "metadata": {},
   "outputs": [
    {
     "name": "stdout",
     "output_type": "stream",
     "text": [
      "The original string is :  iamgoodboy\n",
      "The reversed string is :  yobdoogmai\n"
     ]
    }
   ],
   "source": [
    "def reverse(string):\n",
    "    string = string[::-1]\n",
    "    return string\n",
    " \n",
    "s = \"iamgoodboy\"\n",
    " \n",
    "print(\"The original string is : \",s)\n",
    " \n",
    "print(\"The reversed string is : \",reverse(s))\n"
   ]
  },
  {
   "cell_type": "code",
   "execution_count": 8,
   "id": "8708616b-052e-4d73-8954-51a1cea509bb",
   "metadata": {},
   "outputs": [],
   "source": [
    "#2 Check if a string is a palindrome."
   ]
  },
  {
   "cell_type": "code",
   "execution_count": 18,
   "id": "a53983eb-1896-458c-8a5e-f24c85bca336",
   "metadata": {},
   "outputs": [],
   "source": [
    "def palindrome(s):\n",
    "    s = s.upper()\n",
    "    s = ''.join(e for e in s if e.isalnum())\n",
    "    return s == s[::-1]"
   ]
  },
  {
   "cell_type": "code",
   "execution_count": 19,
   "id": "df40affb-7a7c-4534-ac99-9f031ed2e36b",
   "metadata": {},
   "outputs": [
    {
     "name": "stdout",
     "output_type": "stream",
     "text": [
      "True\n",
      "False\n",
      "True\n"
     ]
    }
   ],
   "source": [
    "print(palindrome(\"Demomed\"))\n",
    "print(palindrome(\"help\"))\n",
    "print(palindrome(\"A man, a plan, a canal, Panama\"))"
   ]
  },
  {
   "cell_type": "code",
   "execution_count": 8,
   "id": "a2fb00e3-bf31-4086-b4d0-6004295ddee6",
   "metadata": {},
   "outputs": [],
   "source": [
    "#3. Convert a string to uppercase."
   ]
  },
  {
   "cell_type": "code",
   "execution_count": null,
   "id": "020df6c7-86dd-48e1-ae37-79d59be6e5aa",
   "metadata": {},
   "outputs": [
    {
     "name": "stdin",
     "output_type": "stream",
     "text": [
      "Enter a string:  sarya\n"
     ]
    },
    {
     "name": "stdout",
     "output_type": "stream",
     "text": [
      "Uppercase string: SARYA\n"
     ]
    }
   ],
   "source": [
    "input_string = input(\"Enter a string: \")\n",
    "uppercase = input_string.upper()\n",
    "print(\"Uppercase string:\", uppercase)"
   ]
  },
  {
   "cell_type": "code",
   "execution_count": 10,
   "id": "60efa8e0-a7f3-410a-a716-be5cf8ffe785",
   "metadata": {},
   "outputs": [],
   "source": [
    "#4. Convert a string to lowercase."
   ]
  },
  {
   "cell_type": "code",
   "execution_count": 21,
   "id": "f333952f-47d5-415d-874a-0d89e06b0c0c",
   "metadata": {},
   "outputs": [
    {
     "name": "stdin",
     "output_type": "stream",
     "text": [
      "Enter a string:  SATY\n"
     ]
    },
    {
     "name": "stdout",
     "output_type": "stream",
     "text": [
      "Lowercase string: saty\n"
     ]
    }
   ],
   "source": [
    "input_string = input(\"Enter a string: \")\n",
    "lowercase = input_string.lower()\n",
    "print(\"Lowercase string:\", lowercase)"
   ]
  },
  {
   "cell_type": "code",
   "execution_count": 12,
   "id": "2cf8b574-764f-4358-9351-da744cbca460",
   "metadata": {},
   "outputs": [],
   "source": [
    "#5Count the number of vowels in a string."
   ]
  },
  {
   "cell_type": "code",
   "execution_count": 40,
   "id": "e2c0dd86-3237-441e-bab6-be99ed0eed9e",
   "metadata": {},
   "outputs": [],
   "source": [
    "def count_vowels(string):\n",
    "    count = 0\n",
    "    string = string.lower()\n",
    "    vowels = set(\"aeiou\")\n",
    "    for char in string:\n",
    "        if char in vowels:\n",
    "            count += 1\n",
    "    return count"
   ]
  },
  {
   "cell_type": "code",
   "execution_count": 41,
   "id": "0584c73e-477f-4efa-8dcc-b5f3f8db6a9f",
   "metadata": {},
   "outputs": [
    {
     "name": "stdout",
     "output_type": "stream",
     "text": [
      "Number of vowels: 5\n"
     ]
    }
   ],
   "source": [
    "input_string = \"I am good boy\"\n",
    "result = count_vowels(input_string)\n",
    "print(\"Number of vowels:\", result)"
   ]
  },
  {
   "cell_type": "code",
   "execution_count": 42,
   "id": "9680e925-3e5c-48ba-b330-80496149eddd",
   "metadata": {},
   "outputs": [
    {
     "name": "stdout",
     "output_type": "stream",
     "text": [
      "3\n",
      "1\n",
      "10\n"
     ]
    }
   ],
   "source": [
    "print(count_vowels(\"Demomed\"))\n",
    "print(count_vowels(\"help\"))\n",
    "print(count_vowels(\"A man, a plan, a canal, Panama\"))"
   ]
  },
  {
   "cell_type": "code",
   "execution_count": 43,
   "id": "424a9fda-bae6-4c40-a373-f431829e4620",
   "metadata": {},
   "outputs": [],
   "source": [
    "#6. Count the number of consonants in a string."
   ]
  },
  {
   "cell_type": "code",
   "execution_count": 8,
   "id": "98a39229-ff22-4bae-b304-3a15c4da1ddb",
   "metadata": {},
   "outputs": [
    {
     "name": "stdin",
     "output_type": "stream",
     "text": [
      "Enter a string:  EGSNB HRRW\n"
     ]
    },
    {
     "name": "stdout",
     "output_type": "stream",
     "text": [
      "Number of consonants: 8\n"
     ]
    }
   ],
   "source": [
    "def count_consonants(string):\n",
    "    consonant = 0\n",
    "    consonants = \"bcdfghjklmnpqrstvwxyzBCDFGHJKLMNPQRSTVWXYZ\"\n",
    "    for char in string:\n",
    "        if char in consonants:\n",
    "            consonant += 1\n",
    "    return consonant\n",
    "input_string = input(\"Enter a string: \")\n",
    "result = count_consonants(input_string)\n",
    "print(\"Number of consonants:\", result)"
   ]
  },
  {
   "cell_type": "code",
   "execution_count": 9,
   "id": "fdfc5424-1bf2-4ef8-83d6-ed839fb7082f",
   "metadata": {},
   "outputs": [],
   "source": [
    "#7. Remove all whitespaces from a string."
   ]
  },
  {
   "cell_type": "code",
   "execution_count": 3,
   "id": "933db532-74d2-4d61-a846-5af24a350f7c",
   "metadata": {},
   "outputs": [
    {
     "name": "stdout",
     "output_type": "stream",
     "text": [
      "iamgooodboy\n"
     ]
    }
   ],
   "source": [
    "def remove_whitespace(input_string):\n",
    "    result = \"\"\n",
    "    for char in input_string:\n",
    "        if char != \" \":\n",
    "            result += char\n",
    "    return result\n",
    "input_string = \"i am goood boy\"\n",
    "output_string = remove_whitespace(input_string)\n",
    "print(output_string)"
   ]
  },
  {
   "cell_type": "code",
   "execution_count": 17,
   "id": "1cf8be38-6036-422b-8b7f-c29634a45d08",
   "metadata": {},
   "outputs": [],
   "source": [
    "#8. Find the length of a string without using the `len()` function."
   ]
  },
  {
   "cell_type": "code",
   "execution_count": 5,
   "id": "5c839a7e-d86f-4ec0-8f55-c0f34a975b1c",
   "metadata": {},
   "outputs": [
    {
     "name": "stdin",
     "output_type": "stream",
     "text": [
      "Enter the string i am good boy\n"
     ]
    },
    {
     "name": "stdout",
     "output_type": "stream",
     "text": [
      "The length of the string is: 13\n"
     ]
    }
   ],
   "source": [
    "input_string = input(\"Enter the string\")\n",
    "count = 0\n",
    "for char in input_string:\n",
    "    count += 1\n",
    "print(\"The length of the string is:\", count)"
   ]
  },
  {
   "cell_type": "code",
   "execution_count": null,
   "id": "3cc2e2e0-81d1-46f3-994a-201595891d2c",
   "metadata": {},
   "outputs": [],
   "source": [
    "#9. Check if a string contains a specific word."
   ]
  },
  {
   "cell_type": "code",
   "execution_count": 8,
   "id": "f7e370cf-6eb8-4cdc-9455-b4c9077805ac",
   "metadata": {},
   "outputs": [
    {
     "name": "stdin",
     "output_type": "stream",
     "text": [
      "Enter a string:  satyam\n",
      "Enter the specific word to check for:  at\n"
     ]
    },
    {
     "name": "stdout",
     "output_type": "stream",
     "text": [
      "The string contains the word 'at'.\n"
     ]
    }
   ],
   "source": [
    "input_string = input(\"Enter a string: \")\n",
    "specific_word = input(\"Enter the specific word to check for: \")\n",
    "\n",
    "if specific_word in input_string:\n",
    "    print(f\"The string contains the word '{specific_word}'.\")\n",
    "else:\n",
    "    print(f\"The string does not contain the word '{specific_word}'.\")"
   ]
  },
  {
   "cell_type": "code",
   "execution_count": 9,
   "id": "a0b0d60b-c18c-4721-86f9-87e73b77de5b",
   "metadata": {},
   "outputs": [],
   "source": [
    "#10. Replace a word in a string with another word."
   ]
  },
  {
   "cell_type": "code",
   "execution_count": 14,
   "id": "6581a9e4-f6df-4e2e-856f-3b1865a78302",
   "metadata": {},
   "outputs": [
    {
     "name": "stdin",
     "output_type": "stream",
     "text": [
      "Enter a sentence:  I BAD BOY\n",
      "Enter the word to be replaced:  bad\n",
      "Enter the new word:  good\n"
     ]
    },
    {
     "name": "stdout",
     "output_type": "stream",
     "text": [
      "Modified string: I BAD BOY\n"
     ]
    }
   ],
   "source": [
    "input_string = input(\"Enter a sentence: \")\n",
    "\n",
    "old = input(\"Enter the word to be replaced: \")\n",
    "new = input(\"Enter the new word: \")\n",
    "\n",
    "modified = input_string.replace(old, new)\n",
    "print(\"Modified string:\", modified)"
   ]
  },
  {
   "cell_type": "code",
   "execution_count": null,
   "id": "639a2d38-c372-41de-bd3c-41d52309efce",
   "metadata": {},
   "outputs": [],
   "source": [
    "#11. Count the occurrences of a word in a string."
   ]
  },
  {
   "cell_type": "code",
   "execution_count": 6,
   "id": "29d11d82-80e4-4cbc-aa4d-7f20e4ca0566",
   "metadata": {},
   "outputs": [],
   "source": [
    "def countOccurrences(str, word):\n",
    " \n",
    "    wordslist = str.split()\n",
    "    return wordslist.count(word)"
   ]
  },
  {
   "cell_type": "code",
   "execution_count": 8,
   "id": "a020c1c0-4c7b-45db-b680-a65134b960a5",
   "metadata": {},
   "outputs": [
    {
     "name": "stdout",
     "output_type": "stream",
     "text": [
      "2\n"
     ]
    }
   ],
   "source": [
    "str = \"i am very very good boy\"\n",
    "word = \"very\"\n",
    "print(countOccurrences(str, word))"
   ]
  },
  {
   "cell_type": "code",
   "execution_count": 9,
   "id": "d35d5285-6254-4bce-a3b4-6ba00bcac960",
   "metadata": {},
   "outputs": [],
   "source": [
    "#12. Find the first occurrence of a word in a string."
   ]
  },
  {
   "cell_type": "code",
   "execution_count": 25,
   "id": "05d489fb-f88f-4c73-bea6-71d66ada16eb",
   "metadata": {},
   "outputs": [],
   "source": [
    "def find_first_occurrence(text, word):\n",
    "    index = text.find(word)\n",
    "    if index == -1:\n",
    "        return None  \n",
    "    return index"
   ]
  },
  {
   "cell_type": "code",
   "execution_count": 27,
   "id": "5d2cbe79-7fd2-4d82-88b3-af415d6a75f4",
   "metadata": {},
   "outputs": [
    {
     "name": "stdout",
     "output_type": "stream",
     "text": [
      "Index of the first occurrence: 5\n"
     ]
    }
   ],
   "source": [
    "text = \"i am very very good boy\"\n",
    "word = \"very\"\n",
    "result = find_first_occurrence(text, word)\n",
    "print(\"Index of the first occurrence:\", result)"
   ]
  },
  {
   "cell_type": "code",
   "execution_count": 29,
   "id": "929ce0f8-15d7-4967-b86e-b5ab5895389c",
   "metadata": {},
   "outputs": [],
   "source": [
    "#13. Find the last occurrence of a word in a string."
   ]
  },
  {
   "cell_type": "code",
   "execution_count": 31,
   "id": "b65d6e89-8b18-4d38-85de-8e743384f3b0",
   "metadata": {},
   "outputs": [
    {
     "name": "stdout",
     "output_type": "stream",
     "text": [
      "Index of the last occurrence: 10\n"
     ]
    }
   ],
   "source": [
    "def find_last_occurrence(text, word):\n",
    "    index = text.rfind(word)\n",
    "    if index == -1:\n",
    "        return None \n",
    "    return index\n",
    "text = \"i am very very good boy\"\n",
    "word = \"very\"\n",
    "result = find_last_occurrence(text, word)\n",
    "print(\"Index of the last occurrence:\", result)"
   ]
  },
  {
   "cell_type": "code",
   "execution_count": 32,
   "id": "dd44e5b2-f7f2-460f-99fa-0a683fa4724f",
   "metadata": {},
   "outputs": [],
   "source": [
    "#14. Split a string into a list of words."
   ]
  },
  {
   "cell_type": "code",
   "execution_count": 1,
   "id": "8b0605a1-9358-4e37-8d72-22943fcb7b4d",
   "metadata": {},
   "outputs": [],
   "source": [
    "def intowords(text):\n",
    "    words = text.split()\n",
    "    return words\n"
   ]
  },
  {
   "cell_type": "code",
   "execution_count": 2,
   "id": "c39ffce7-1d3f-4751-b59b-ea4461190c91",
   "metadata": {},
   "outputs": [
    {
     "name": "stdout",
     "output_type": "stream",
     "text": [
      "List of words: ['i', 'am', 'very', 'very', 'good', 'boy']\n"
     ]
    }
   ],
   "source": [
    "text = \"i am very very good boy\"\n",
    "words = intowords(text)\n",
    "print(\"List of words:\", words)"
   ]
  },
  {
   "cell_type": "code",
   "execution_count": 3,
   "id": "98b09961-c83d-4935-b2c8-7c399f07a826",
   "metadata": {},
   "outputs": [],
   "source": [
    "#15. Join a list of words into a string."
   ]
  },
  {
   "cell_type": "code",
   "execution_count": 5,
   "id": "84287130-67f8-41fe-9e56-029314d03ac6",
   "metadata": {},
   "outputs": [
    {
     "name": "stdout",
     "output_type": "stream",
     "text": [
      "Joined string: This is an example of words.\n"
     ]
    }
   ],
   "source": [
    "def join_words(words):\n",
    "    joined = ' '.join(words)\n",
    "    return joined\n",
    "words = [\"This\", \"is\", \"an\", \"example\", \"of\", \"words.\"]\n",
    "text = join_words(words)\n",
    "print(\"Joined string:\", text)"
   ]
  },
  {
   "cell_type": "code",
   "execution_count": 7,
   "id": "1556c807-8500-47bf-a388-4530e2e929b2",
   "metadata": {},
   "outputs": [],
   "source": [
    "#16. Convert a string where words are separated by spaces to one where words are separated by underscores."
   ]
  },
  {
   "cell_type": "code",
   "execution_count": 8,
   "id": "49fa5608-5b73-496b-844a-c1a13a576cec",
   "metadata": {},
   "outputs": [
    {
     "name": "stdout",
     "output_type": "stream",
     "text": [
      "Converted text: i_am_very_very_good_boy.\n"
     ]
    }
   ],
   "source": [
    "def convert(text):\n",
    "    underscore = text.replace(\" \", \"_\")\n",
    "    return underscore\n",
    "\n",
    "text = \"i am very very good boy.\"\n",
    "converted_text = convert(text)\n",
    "print(\"Converted text:\", converted_text)"
   ]
  },
  {
   "cell_type": "code",
   "execution_count": 9,
   "id": "993f5834-c3ec-4a55-98a9-032a723571e6",
   "metadata": {},
   "outputs": [],
   "source": [
    "#17. Check if a string starts with a specific word or phrase."
   ]
  },
  {
   "cell_type": "code",
   "execution_count": 13,
   "id": "ab41a041-d2a9-48dd-937b-8ca7d2e959b9",
   "metadata": {},
   "outputs": [],
   "source": [
    "def starts(text, phrase):\n",
    "    start = text.startswith(phrase)\n",
    "    return start\n"
   ]
  },
  {
   "cell_type": "code",
   "execution_count": 17,
   "id": "e250dcb0-1b5c-48f8-b570-14cc06684522",
   "metadata": {},
   "outputs": [
    {
     "name": "stdout",
     "output_type": "stream",
     "text": [
      "The text starts with the phrase.\n"
     ]
    }
   ],
   "source": [
    "text = \"Hey Sir\"\n",
    "phrase = \"Hey\"\n",
    "result = starts(text, phrase)\n",
    "if result:\n",
    "    print(\"The text starts with the phrase.\")\n",
    "else:\n",
    "    print(\"The text does not start with the phrase.\")"
   ]
  },
  {
   "cell_type": "code",
   "execution_count": 18,
   "id": "65f54c20-f983-413f-8ce8-f9b5110c18a1",
   "metadata": {},
   "outputs": [],
   "source": [
    "#18. Check if a string ends with a specific word or phrase."
   ]
  },
  {
   "cell_type": "code",
   "execution_count": 1,
   "id": "b498d865-a07a-42ff-abe5-da1ba5c0ae79",
   "metadata": {},
   "outputs": [],
   "source": [
    "def ends(text, phrase):\n",
    "    end = text.endswith(phrase)\n",
    "    return end"
   ]
  },
  {
   "cell_type": "code",
   "execution_count": 5,
   "id": "4a60065d-c21e-47ea-9401-411a65d357d1",
   "metadata": {},
   "outputs": [
    {
     "name": "stdout",
     "output_type": "stream",
     "text": [
      "The text ends with the phrase.\n"
     ]
    }
   ],
   "source": [
    "text = \"Hey Sir\"\n",
    "phrase = \"Sir\"\n",
    "result = ends(text, phrase)\n",
    "if result:\n",
    "    print(\"The text ends with the phrase.\")\n",
    "else:\n",
    "    print(\"The text does not ends with the phrase.\")"
   ]
  },
  {
   "cell_type": "code",
   "execution_count": 6,
   "id": "7e35646d-c866-435f-a24e-1b02e9b239dd",
   "metadata": {},
   "outputs": [],
   "source": [
    "#19. Convert a string to title case (e.g., \"hello world\" to \"Hello World\")."
   ]
  },
  {
   "cell_type": "code",
   "execution_count": 10,
   "id": "607aaec3-c572-4bc4-850d-4e1b6dea5b70",
   "metadata": {},
   "outputs": [],
   "source": [
    "def titlecase(text):\n",
    "    titlecases = text.title()\n",
    "    return titlecases"
   ]
  },
  {
   "cell_type": "code",
   "execution_count": 11,
   "id": "f184cd1d-0878-4c92-ae9e-7ed955fc4db4",
   "metadata": {},
   "outputs": [
    {
     "name": "stdout",
     "output_type": "stream",
     "text": [
      "Title case: Hey Sir\n"
     ]
    }
   ],
   "source": [
    "text = \"hey sir\"\n",
    "title_case = titlecase(text)\n",
    "print(\"Title case:\", title_case)"
   ]
  },
  {
   "cell_type": "code",
   "execution_count": 12,
   "id": "583cbaa4-b88b-49ab-a1ff-3a2b5574cdfa",
   "metadata": {},
   "outputs": [],
   "source": [
    "#20. Find the longest word in a string."
   ]
  },
  {
   "cell_type": "code",
   "execution_count": 13,
   "id": "fde8d3f1-eff4-4635-a9e3-0d53593aa4fc",
   "metadata": {},
   "outputs": [],
   "source": [
    "def longestword(s):\n",
    "     \n",
    "    s=s.split()\n",
    "    print(\"longestword in a sentence is\",max(s,key=len))"
   ]
  },
  {
   "cell_type": "code",
   "execution_count": 14,
   "id": "58e685b2-23dd-477a-96fc-beee62b253c4",
   "metadata": {},
   "outputs": [
    {
     "name": "stdout",
     "output_type": "stream",
     "text": [
      "longestword in a sentence is confident\n"
     ]
    }
   ],
   "source": [
    "s = \"Be confident and be yourself\"\n",
    "longestword(s)"
   ]
  },
  {
   "cell_type": "code",
   "execution_count": 1,
   "id": "38dfb340-dab5-46b1-87d8-5ecaf5a2873d",
   "metadata": {},
   "outputs": [],
   "source": [
    "#21. Find the shortest word in a string."
   ]
  },
  {
   "cell_type": "code",
   "execution_count": 5,
   "id": "94b9dbd1-0ce3-4aa2-81e3-6172f8e2e0f5",
   "metadata": {},
   "outputs": [],
   "source": [
    "def shortestword(s):\n",
    "     \n",
    "    s=s.split()\n",
    "    print(\"longestword in a sentence is\",min(s,key=len))"
   ]
  },
  {
   "cell_type": "code",
   "execution_count": 8,
   "id": "163e17b2-10c8-4362-8c6a-66df9ac53171",
   "metadata": {},
   "outputs": [
    {
     "name": "stdout",
     "output_type": "stream",
     "text": [
      "longestword in a sentence is Be\n"
     ]
    }
   ],
   "source": [
    "s = \" Be confident and keep yourself\"\n",
    "shortestword(s)"
   ]
  },
  {
   "cell_type": "code",
   "execution_count": 9,
   "id": "53f6c42f-8b5b-46b0-9ee3-c198698063f8",
   "metadata": {},
   "outputs": [],
   "source": [
    "#22. Reverse the order of words in a string."
   ]
  },
  {
   "cell_type": "code",
   "execution_count": 10,
   "id": "ded9c07f-08e8-49ad-a4e7-1580cac2fe17",
   "metadata": {},
   "outputs": [],
   "source": [
    "def rev_sentence(sentence): \n",
    " \n",
    "    words = sentence.split(' ') \n",
    "    reverse_sentence = ' '.join(reversed(words)) \n",
    "    return reverse_sentence"
   ]
  },
  {
   "cell_type": "code",
   "execution_count": 11,
   "id": "71b9ca27-a5f3-4803-8402-e266be1235ea",
   "metadata": {},
   "outputs": [
    {
     "name": "stdout",
     "output_type": "stream",
     "text": [
      "boy good am i\n"
     ]
    }
   ],
   "source": [
    "input = 'i am good boy'\n",
    "print (rev_sentence(input)) "
   ]
  },
  {
   "cell_type": "code",
   "execution_count": 12,
   "id": "9810c854-5e7a-478a-9bd0-32e38411d85c",
   "metadata": {},
   "outputs": [],
   "source": [
    "#23. Check if a string is alphanumeric."
   ]
  },
  {
   "cell_type": "code",
   "execution_count": 13,
   "id": "0f80c3f5-dbfa-46f2-8d1b-2d1248819f32",
   "metadata": {},
   "outputs": [
    {
     "name": "stdout",
     "output_type": "stream",
     "text": [
      "The string is alphanumeric.\n"
     ]
    }
   ],
   "source": [
    "def is_alphanumeric(text):\n",
    "    return text.isalnum()\n",
    "\n",
    "text = \"Hii123\"\n",
    "result = is_alphanumeric(text)\n",
    "if result:\n",
    "    print(\"The string is alphanumeric.\")\n",
    "else:\n",
    "    print(\"The string is not alphanumeric.\")"
   ]
  },
  {
   "cell_type": "code",
   "execution_count": 14,
   "id": "8e26c92c-a357-4999-be7b-4d0d1cce6c20",
   "metadata": {},
   "outputs": [],
   "source": [
    "#24. Extract all digits from a string."
   ]
  },
  {
   "cell_type": "code",
   "execution_count": 33,
   "id": "7c29a35c-1682-49b4-b98c-31e89d84927c",
   "metadata": {},
   "outputs": [],
   "source": [
    "def extract_digits(text):\n",
    "    digits = \"\"\n",
    "    for char in text:\n",
    "        if char.isdigit():\n",
    "            digits += char\n",
    "        \n",
    "    return digits"
   ]
  },
  {
   "cell_type": "code",
   "execution_count": 34,
   "id": "9e9d8d0a-d720-4c37-bb6e-fa5682381fcd",
   "metadata": {},
   "outputs": [
    {
     "name": "stdout",
     "output_type": "stream",
     "text": [
      "Extracted digits: 123456654321\n"
     ]
    }
   ],
   "source": [
    "text = \"i12345good66boy54321\"  \n",
    "extracted_digits = extract_digits(text)\n",
    "print(\"Extracted digits:\", extracted_digits)"
   ]
  },
  {
   "cell_type": "code",
   "execution_count": 26,
   "id": "8dbb816e-95bd-4ad4-9dc8-9ce165e0d893",
   "metadata": {},
   "outputs": [
    {
     "name": "stdout",
     "output_type": "stream",
     "text": [
      "Extracted digits: 1\n"
     ]
    }
   ],
   "source": [
    "print(\"Extracted digits:\", extracted_digits)"
   ]
  },
  {
   "cell_type": "code",
   "execution_count": 18,
   "id": "d544aff9-6fe7-4fd2-be6f-23527c000b92",
   "metadata": {},
   "outputs": [],
   "source": [
    "#25. Extract all alphabets from a string."
   ]
  },
  {
   "cell_type": "code",
   "execution_count": 35,
   "id": "b8a6bac8-b73f-4f75-8fdf-1f7053e57c34",
   "metadata": {},
   "outputs": [
    {
     "name": "stdout",
     "output_type": "stream",
     "text": [
      "i g o o d b o y\n"
     ]
    }
   ],
   "source": [
    "def extract_alphabets(input_string):\n",
    "    alphabets = ' '.join([char for char in input_string if char.isalpha()])\n",
    "    return alphabets\n",
    "\n",
    "input_string = \"i12345good66boy54321\"\n",
    "result = extract_alphabets(input_string)\n",
    "print(result)  "
   ]
  },
  {
   "cell_type": "code",
   "execution_count": 36,
   "id": "598c0e88-60ce-487e-81cc-b1c2f5d65cd2",
   "metadata": {},
   "outputs": [],
   "source": [
    "#26. Count the number of uppercase letters in a string."
   ]
  },
  {
   "cell_type": "code",
   "execution_count": 1,
   "id": "f8a1b7d5-4ef4-4a9e-8ceb-5a24a5343da1",
   "metadata": {},
   "outputs": [
    {
     "name": "stdin",
     "output_type": "stream",
     "text": [
      "Enter string: SATYAAM\n"
     ]
    },
    {
     "name": "stdout",
     "output_type": "stream",
     "text": [
      "The number of Upeercase characters is: 7\n"
     ]
    }
   ],
   "source": [
    "string=input(\"Enter string:\")\n",
    "count=0\n",
    "for i in string:\n",
    "      if(i.isupper()):\n",
    "            count+=1\n",
    "print(\"The number of Upeercase characters is:\",count)"
   ]
  },
  {
   "cell_type": "code",
   "execution_count": 41,
   "id": "a0cc744b-fa22-432d-9705-723ca21e0e23",
   "metadata": {},
   "outputs": [],
   "source": [
    "#27. Count the number of lowercase letters in a string."
   ]
  },
  {
   "cell_type": "code",
   "execution_count": 2,
   "id": "c101f38a-31e8-454e-abf0-d0782f4080cc",
   "metadata": {},
   "outputs": [
    {
     "name": "stdin",
     "output_type": "stream",
     "text": [
      "Enter string: satyam\n"
     ]
    },
    {
     "name": "stdout",
     "output_type": "stream",
     "text": [
      "The number of lowercase characters is: 6\n"
     ]
    }
   ],
   "source": [
    "string=input(\"Enter string:\")\n",
    "count=0\n",
    "for i in string:\n",
    "      if(i.islower()):\n",
    "            count+=1\n",
    "print(\"The number of lowercase characters is:\",count)"
   ]
  },
  {
   "cell_type": "code",
   "execution_count": null,
   "id": "9d7263f2-e54f-44e6-a4dd-e89c9d7c7f16",
   "metadata": {},
   "outputs": [],
   "source": [
    "28. Swap the case of each character in a string."
   ]
  },
  {
   "cell_type": "code",
   "execution_count": 4,
   "id": "b1060e28-b033-440d-a2fe-be0067a73dac",
   "metadata": {},
   "outputs": [],
   "source": [
    "def swapcase(swapp):\n",
    "    swaping = swapp.swapcase()\n",
    "    return swaping"
   ]
  },
  {
   "cell_type": "code",
   "execution_count": 7,
   "id": "7250b394-344f-478d-8b3a-5136592e2516",
   "metadata": {},
   "outputs": [
    {
     "name": "stdout",
     "output_type": "stream",
     "text": [
      "After swapping the case: satyam SINHA\n"
     ]
    }
   ],
   "source": [
    "swapp = \"SATYAM sinha\"\n",
    "result = swapcase(swapp)\n",
    "print(\"After swapping the case:\", result)"
   ]
  },
  {
   "cell_type": "code",
   "execution_count": null,
   "id": "2fb1642f-f1e2-4d32-a857-df81c0d4d863",
   "metadata": {},
   "outputs": [],
   "source": [
    "#29. Remove a specific word from a string."
   ]
  },
  {
   "cell_type": "code",
   "execution_count": 26,
   "id": "4aff1c81-73c9-49c3-a2c8-a9c297f9ff9b",
   "metadata": {},
   "outputs": [
    {
     "name": "stdout",
     "output_type": "stream",
     "text": [
      "The is great.\n"
     ]
    }
   ],
   "source": [
    "def remove_word(input_string, word_to_remove):\n",
    "    words = input_string.split()  \n",
    "    filtered_words = [word for word in words if word != word_to_remove] \n",
    "    modified_string = ' '.join(filtered_words)  \n",
    "    return modified_string\n",
    "\n",
    "# Example input string and word to remove\n",
    "input_string = \"The world is great.\"\n",
    "word_to_remove = \"world\"\n",
    "result = remove_word(input_string, word_to_remove)\n",
    "print(result)\n",
    "\n"
   ]
  },
  {
   "cell_type": "code",
   "execution_count": 27,
   "id": "41308f65-8f36-47fd-ac21-248463d640b4",
   "metadata": {},
   "outputs": [],
   "source": [
    "#30. Check if a string is a valid email address."
   ]
  },
  {
   "cell_type": "code",
   "execution_count": 33,
   "id": "97604349-3049-41ab-892b-71cf8c12a9f0",
   "metadata": {},
   "outputs": [
    {
     "name": "stdout",
     "output_type": "stream",
     "text": [
      "True\n",
      "False\n",
      "False\n"
     ]
    }
   ],
   "source": [
    "import re\n",
    "\n",
    "def is_valid_email(email):\n",
    "    pattern = r'^[\\w\\.-]+@[\\w\\.-]+\\.\\w+$'\n",
    "    if re.match(pattern, email):\n",
    "        return True\n",
    "    else:\n",
    "        return False\n",
    "\n",
    "# Example email addresses\n",
    "email1 = \"satyam@email.com\"\n",
    "email2 = \"satyam@@-email\"\n",
    "email3 = \"satyam$8-email\"\n",
    "result1 = is_valid_email(email1)\n",
    "result2 = is_valid_email(email2)\n",
    "result3 = is_valid_email(email3)\n",
    "print(result1)\n",
    "print(result2)\n",
    "print(result3)"
   ]
  },
  {
   "cell_type": "code",
   "execution_count": 29,
   "id": "e04b24cc-21cf-4365-9edc-305993b4cdad",
   "metadata": {},
   "outputs": [],
   "source": [
    "#31. Extract the username from an email address string."
   ]
  },
  {
   "cell_type": "code",
   "execution_count": 36,
   "id": "adcb9aad-d7d3-4f12-aa43-b8125db2a48c",
   "metadata": {},
   "outputs": [
    {
     "name": "stdout",
     "output_type": "stream",
     "text": [
      "Satyam\n"
     ]
    }
   ],
   "source": [
    "def extract_username(email):\n",
    "    username = email.split('@')[0]\n",
    "    return username\n",
    "\n",
    "# Example email address\n",
    "email = \"Satyam@email.com\"\n",
    "result = extract_username(email)\n",
    "print(result)"
   ]
  },
  {
   "cell_type": "code",
   "execution_count": 34,
   "id": "244681d6-24dc-4bd2-a98a-c480d7ecfb74",
   "metadata": {},
   "outputs": [],
   "source": [
    "#32. Extract the domain name from an email address string."
   ]
  },
  {
   "cell_type": "code",
   "execution_count": 37,
   "id": "640f99a6-e24a-450a-b878-c4781f746712",
   "metadata": {},
   "outputs": [
    {
     "name": "stdout",
     "output_type": "stream",
     "text": [
      "email.com\n"
     ]
    }
   ],
   "source": [
    "def extract_domain(email):\n",
    "    domain = email.split('@')[1]  # Split the email address at \"@\" and take the second part\n",
    "    return domain\n",
    "\n",
    "# Example email address\n",
    "email = \"satyam@email.com\"\n",
    "result = extract_domain(email)\n",
    "print(result)"
   ]
  },
  {
   "cell_type": "code",
   "execution_count": 39,
   "id": "15f90866-d0ba-4b6c-8ee6-4facb7eafa22",
   "metadata": {},
   "outputs": [],
   "source": [
    "#33. Replace multiple spaces in a string with a single space."
   ]
  },
  {
   "cell_type": "code",
   "execution_count": 46,
   "id": "9b81ad18-7f96-4ed6-8793-b3063ae65f66",
   "metadata": {},
   "outputs": [
    {
     "name": "stdout",
     "output_type": "stream",
     "text": [
      "Hi , How are you?\n"
     ]
    }
   ],
   "source": [
    "def multiple_spaces(tring):\n",
    "    cleaned_string = ' '.join(tring.split())\n",
    "    return cleaned_string\n",
    "\n",
    "tring = \"Hi    ,   How   are   you?\"\n",
    "result = multiple_spaces(tring)\n",
    "print(result)"
   ]
  },
  {
   "cell_type": "code",
   "execution_count": 47,
   "id": "ca5b7aa3-e102-4b2d-a4af-805063554479",
   "metadata": {},
   "outputs": [],
   "source": [
    "#34. Check if a string is a valid URL."
   ]
  },
  {
   "cell_type": "code",
   "execution_count": 48,
   "id": "3ca43153-64ca-4530-b5f2-06dbd4fa7523",
   "metadata": {},
   "outputs": [
    {
     "name": "stdout",
     "output_type": "stream",
     "text": [
      "True\n",
      "True\n",
      "False\n"
     ]
    }
   ],
   "source": [
    "import re\n",
    "\n",
    "def is_valid_url(url):\n",
    "    pattern = r'^(http|https):\\/\\/([\\w.-]+)(\\.[\\w.-]+)+([\\/\\w\\.-]*)*\\/?$'\n",
    "    return bool(re.match(pattern, url))\n",
    "\n",
    "# Usage\n",
    "url1 = 'https://www.slingacademy.com/cat/sample-data'\n",
    "url2 = \"https://api.slingacademy.com/v1/sample-data/\"\n",
    "url3 = \"abcxyz\"\n",
    "\n",
    "print(is_valid_url(url1)) # True\n",
    "print(is_valid_url(url2)) # True\n",
    "print(is_valid_url(url3)) # False"
   ]
  },
  {
   "cell_type": "code",
   "execution_count": 49,
   "id": "2ebc593e-e614-4d11-b6fe-52c971069c2a",
   "metadata": {},
   "outputs": [],
   "source": [
    "#35. Extract the protocol (http or https) from a URL string."
   ]
  },
  {
   "cell_type": "code",
   "execution_count": 1,
   "id": "ec77799d-2925-407d-9f86-33619f5318d7",
   "metadata": {},
   "outputs": [
    {
     "name": "stdout",
     "output_type": "stream",
     "text": [
      "Protocol 1: https\n",
      "Protocol 2: http\n",
      "Protocol 3: ftp\n"
     ]
    }
   ],
   "source": [
    "def extract_protocol(url):\n",
    "    # Find the index of the first occurrence of \"://\"\n",
    "    protocol_end = url.find(\"://\")\n",
    "\n",
    "    if protocol_end != -1:\n",
    "        # Extract the protocol from the URL\n",
    "        protocol = url[:protocol_end]\n",
    "        return protocol\n",
    "    else:\n",
    "        return None\n",
    "\n",
    "# Example URL strings\n",
    "url1 = \"https://www.example.com\"\n",
    "url2 = \"http://google.com\"\n",
    "url3 = \"ftp://ftp.example.com\"\n",
    "\n",
    "# Extract protocols\n",
    "protocol1 = extract_protocol(url1)\n",
    "protocol2 = extract_protocol(url2)\n",
    "protocol3 = extract_protocol(url3)\n",
    "\n",
    "# Print extracted protocols\n",
    "print(\"Protocol 1:\", protocol1)\n",
    "print(\"Protocol 2:\", protocol2)\n",
    "print(\"Protocol 3:\", protocol3)"
   ]
  },
  {
   "cell_type": "code",
   "execution_count": 2,
   "id": "838fd203-a8dd-46cd-b295-2a95172f042c",
   "metadata": {},
   "outputs": [],
   "source": [
    "#36. Find the frequency of each character in a string."
   ]
  },
  {
   "cell_type": "code",
   "execution_count": 4,
   "id": "1940c1fd-2c25-4d9c-9f69-4b5e6ce47bcb",
   "metadata": {},
   "outputs": [],
   "source": [
    "test_str = \"iamgoodboy\""
   ]
  },
  {
   "cell_type": "code",
   "execution_count": 12,
   "id": "ffbb5931-1b5e-4fb3-b073-63c02ea1d24e",
   "metadata": {},
   "outputs": [
    {
     "name": "stdout",
     "output_type": "stream",
     "text": [
      "Count of all characters is :\n",
      " {'i': 1, 'a': 1, 'm': 1, 'g': 1, 'o': 3, 'd': 1, 'b': 1, 'y': 1}\n"
     ]
    }
   ],
   "source": [
    "all_freq = {}\n",
    " \n",
    "for i in test_str:\n",
    "    if i in all_freq:\n",
    "        all_freq[i] += 1\n",
    "    else:\n",
    "        all_freq[i] = 1\n",
    "print(\"Count of all characters is :\\n \" + str(all_freq))"
   ]
  },
  {
   "cell_type": "code",
   "execution_count": 13,
   "id": "c77074b2-ca35-47b9-be99-a16c9dd360e3",
   "metadata": {},
   "outputs": [],
   "source": [
    "#37. Remove all punctuation from a string."
   ]
  },
  {
   "cell_type": "code",
   "execution_count": 14,
   "id": "d57a0576-217c-4cc9-a3f2-9795966d27a8",
   "metadata": {},
   "outputs": [
    {
     "name": "stdout",
     "output_type": "stream",
     "text": [
      "i  am good boy\n"
     ]
    }
   ],
   "source": [
    "import string\n",
    " \n",
    "test_str = 'i , am.. good boy?;'\n",
    " \n",
    "test_str = test_str.translate(str.maketrans('', '', string.punctuation))\n",
    "print(test_str)"
   ]
  },
  {
   "cell_type": "code",
   "execution_count": 15,
   "id": "8103a77c-253c-4b9e-a7e4-d019df18ad4a",
   "metadata": {},
   "outputs": [],
   "source": [
    "#38. Check if a string contains only digits."
   ]
  },
  {
   "cell_type": "code",
   "execution_count": 20,
   "id": "4c4a399b-78ae-4748-84ed-b97bf70d1dab",
   "metadata": {},
   "outputs": [],
   "source": [
    "ini_string1 = '1234556'\n",
    "ini_string2 = 'ab123bc'"
   ]
  },
  {
   "cell_type": "code",
   "execution_count": 22,
   "id": "8fb0f64f-0ff3-4cc5-bf38-150bdde08a5a",
   "metadata": {},
   "outputs": [
    {
     "name": "stdout",
     "output_type": "stream",
     "text": [
      "Initial Strings :  1234556 ab123bc\n",
      "String1 contains all numbers\n",
      "String2 doesn't contains all numbers\n"
     ]
    }
   ],
   "source": [
    "print(\"Initial Strings : \", ini_string1, ini_string2)\n",
    "if ini_string1.isdigit():\n",
    "    print(\"String1 contains all numbers\")\n",
    "else:\n",
    "    print(\"String1 doesn't contains all numbers\")\n",
    " \n",
    "if ini_string2.isdigit():\n",
    "    print(\"String2 contains all numbers\")\n",
    "else:\n",
    "    print(\"String2 doesn't contains all numbers\")\n"
   ]
  },
  {
   "cell_type": "code",
   "execution_count": 23,
   "id": "37d6e160-c357-40e0-8d6e-91f493c72e48",
   "metadata": {},
   "outputs": [],
   "source": [
    "#39. Check if a string contains only alphabets."
   ]
  },
  {
   "cell_type": "code",
   "execution_count": 12,
   "id": "9d4a6fb2-5d5e-401b-9f42-43eddd9a8888",
   "metadata": {},
   "outputs": [],
   "source": [
    "ini_string1 = \"ABCD\"\n",
    "ini_string2 = \"ab123bc\"\n"
   ]
  },
  {
   "cell_type": "code",
   "execution_count": 13,
   "id": "1fbf775e-426c-48f1-95a4-0f2548dafe61",
   "metadata": {},
   "outputs": [
    {
     "name": "stdout",
     "output_type": "stream",
     "text": [
      "Initial Strings :  ABCD ab123bc\n",
      "String1 contains all numbers\n",
      "String2 doesn't contains all numbers\n"
     ]
    }
   ],
   "source": [
    "print(\"Initial Strings : \", ini_string1, ini_string2)\n",
    "if ini_string1.isalpha():\n",
    "    print(\"String1 contains all numbers\")\n",
    "else:\n",
    "    print(\"String1 doesn't contains all numbers\")\n",
    "if ini_string2.isalpha():\n",
    "    print(\"String2 contains all numbers\")\n",
    "else:\n",
    "    print(\"String2 doesn't contains all numbers\")"
   ]
  },
  {
   "cell_type": "code",
   "execution_count": 14,
   "id": "6d094f9e-20f2-43ff-9d4e-90dc6f60d46d",
   "metadata": {},
   "outputs": [],
   "source": [
    "#40. Convert a string to a list of characters."
   ]
  },
  {
   "cell_type": "code",
   "execution_count": 18,
   "id": "3252e3d9-21f5-48fe-a294-d3ad910f8702",
   "metadata": {},
   "outputs": [],
   "source": [
    "input_str = \"I am good boy\""
   ]
  },
  {
   "cell_type": "code",
   "execution_count": 19,
   "id": "3ef49eee-ef8c-485f-afc6-e44291dcb32b",
   "metadata": {},
   "outputs": [],
   "source": [
    "char_list = list(input_str)"
   ]
  },
  {
   "cell_type": "code",
   "execution_count": 20,
   "id": "e6ada5c3-84e0-49b4-a225-99ecbe518808",
   "metadata": {},
   "outputs": [
    {
     "name": "stdout",
     "output_type": "stream",
     "text": [
      "Original string: I am good boy\n",
      "List of characters: ['I', ' ', 'a', 'm', ' ', 'g', 'o', 'o', 'd', ' ', 'b', 'o', 'y']\n"
     ]
    }
   ],
   "source": [
    "print(\"Original string:\", input_str)\n",
    "print(\"List of characters:\", char_list)"
   ]
  },
  {
   "cell_type": "code",
   "execution_count": 21,
   "id": "ec483e57-06c8-421f-b20e-680a39964f6e",
   "metadata": {},
   "outputs": [],
   "source": [
    "#41. Check if two strings are anagrams."
   ]
  },
  {
   "cell_type": "code",
   "execution_count": 11,
   "id": "aa8cf692-09d1-4761-9749-624fb467924b",
   "metadata": {},
   "outputs": [],
   "source": [
    "def anargrams(st1,st2):\n",
    "    st1 = st1.replace(\" \",\"\").lower()\n",
    "    st2 = st2.replace(\" \",\"\").lower()\n",
    "    return sorted(st1) == sorted(st2)\n",
    "    "
   ]
  },
  {
   "cell_type": "code",
   "execution_count": 12,
   "id": "0b07f1ab-c119-4f09-9337-4f4db73dc7bc",
   "metadata": {},
   "outputs": [
    {
     "name": "stdout",
     "output_type": "stream",
     "text": [
      "'listen' and 'silent' are anagrams: True\n",
      "'hello' and 'world' are anagrams: False\n"
     ]
    }
   ],
   "source": [
    "st1 = \"lis ten\"\n",
    "st2 = \"sile nt\"\n",
    "st3 = \"hel lo\"\n",
    "st4 = \"worl d\"\n",
    "\n",
    "result1 = anargrams(st1, st2)\n",
    "result2 = anargrams(st3, st4)\n",
    "\n",
    "print(f\"'{string1}' and '{string2}' are anagrams:\", result1)\n",
    "print(f\"'{string3}' and '{string4}' are anagrams:\", result2)"
   ]
  },
  {
   "cell_type": "code",
   "execution_count": 13,
   "id": "324c5977-a1a0-402e-93db-ee19b6db4143",
   "metadata": {},
   "outputs": [],
   "source": [
    "#42. Encode a string using a Caesar cipher."
   ]
  },
  {
   "cell_type": "code",
   "execution_count": 8,
   "id": "a3e194fb-bc2c-41b9-80c3-2aa2d334df5b",
   "metadata": {},
   "outputs": [],
   "source": [
    "def caesar_cipher(text, shift):\n",
    "    encoded_text = \"\"\n",
    "    for char in text:\n",
    "        if char.isalpha():\n",
    "            encoded_char = chr((ord(char) + shift - ord('a')) % 26 + ord('a'))\n",
    "        else:\n",
    "            encoded_char = char\n",
    "\n",
    "        encoded_text += encoded_char\n",
    "        \n",
    "    return encoded_text\n"
   ]
  },
  {
   "cell_type": "code",
   "execution_count": 9,
   "id": "92f4ebd9-f6dd-4739-8c6e-95dbfe090101",
   "metadata": {},
   "outputs": [
    {
     "name": "stdout",
     "output_type": "stream",
     "text": [
      "Encoded text: ehoor, zruog!\n"
     ]
    }
   ],
   "source": [
    "text = \"Hello, world!\"\n",
    "shift = 3\n",
    "\n",
    "encoded_text = caesar_cipher(text, shift)\n",
    "\n",
    "print(\"Encoded text:\", encoded_text)"
   ]
  },
  {
   "cell_type": "code",
   "execution_count": 10,
   "id": "328a4fac-fe45-4e1d-ad65-ff9ac7f330bf",
   "metadata": {},
   "outputs": [],
   "source": [
    "#43. Decode a Caesar cipher encoded string."
   ]
  },
  {
   "cell_type": "code",
   "execution_count": 11,
   "id": "b8bc2612-ced6-411f-85f7-eba8dff8c960",
   "metadata": {},
   "outputs": [],
   "source": [
    "def caesar_cipher_decoder(text, shift):\n",
    "    \n",
    "    decoded_text = \"\"\n",
    "    for char in text:\n",
    "        if char.isalpha():\n",
    "            decoded_char = chr((ord(char) - shift - ord('a')) % 26 + ord('a'))\n",
    "        else:\n",
    "            decoded_char = char\n",
    "\n",
    "        decoded_text += decoded_char\n",
    "    return decoded_text"
   ]
  },
  {
   "cell_type": "code",
   "execution_count": 12,
   "id": "72f45114-f27a-48c9-89b7-a43030ac5ba7",
   "metadata": {},
   "outputs": [
    {
     "name": "stdout",
     "output_type": "stream",
     "text": [
      "Decoded text: ilmm, world!\n"
     ]
    }
   ],
   "source": [
    "text = \"lopp, zruog!\"\n",
    "shift = 3\n",
    "\n",
    "decoded_text = caesar_cipher_decoder(text, shift)\n",
    "\n",
    "print(\"Decoded text:\", decoded_text)"
   ]
  },
  {
   "cell_type": "code",
   "execution_count": 13,
   "id": "019b3f5b-5a1b-4703-8b9f-5ba4fe255d86",
   "metadata": {},
   "outputs": [],
   "source": [
    "#44. Find the most frequent word in a string."
   ]
  },
  {
   "cell_type": "code",
   "execution_count": 14,
   "id": "6bdb68a4-fe96-4674-919e-8a6b5aae0845",
   "metadata": {},
   "outputs": [
    {
     "name": "stdout",
     "output_type": "stream",
     "text": [
      "The original list is : ['very good', 'very bad', 'bad very bad bad']\n",
      "Word with maximum frequency : bad\n"
     ]
    }
   ],
   "source": [
    "from statistics import mode\n",
    " \n",
    "test_list = [\"very good\", \"very bad\", \"bad very bad bad\"]\n",
    " \n",
    "print(\"The original list is : \" + str(test_list))\n",
    " \n",
    "temp = [wrd for sub in test_list for wrd in sub.split()]\n",
    "res = mode(temp)\n",
    " \n",
    "print(\"Word with maximum frequency : \" + str(res))"
   ]
  },
  {
   "cell_type": "code",
   "execution_count": 15,
   "id": "d9797717-b5c7-4d1f-9ddc-3cf9144e1a06",
   "metadata": {},
   "outputs": [],
   "source": [
    "#45. Find all unique words in a string."
   ]
  },
  {
   "cell_type": "code",
   "execution_count": 3,
   "id": "c30e80b5-f5f9-49f4-8dae-b070960ccbb2",
   "metadata": {},
   "outputs": [],
   "source": [
    "import re\n",
    "def unique_words(input_string):\n",
    "    \n",
    "    clean_string = re.sub(r'[^\\w\\s]', '', input_string).lower()\n",
    "\n",
    "    words = set(clean_string.split())\n",
    "\n",
    "    return words"
   ]
  },
  {
   "cell_type": "code",
   "execution_count": 4,
   "id": "be82f997-d337-40e1-bb54-78e9b32a635b",
   "metadata": {},
   "outputs": [
    {
     "name": "stdout",
     "output_type": "stream",
     "text": [
      "Unique words: {'world', 'hello', 'there', 'hows', 'the'}\n"
     ]
    }
   ],
   "source": [
    "\n",
    "input_str = \"Hello world, hello there! How's the world?\"\n",
    "\n",
    "unique_word_set = unique_words(input_str)\n",
    "\n",
    "print(\"Unique words:\", unique_word_set)\n"
   ]
  },
  {
   "cell_type": "code",
   "execution_count": 10,
   "id": "4c1bc76b-905b-4d41-8ac0-7d109ce7da24",
   "metadata": {},
   "outputs": [],
   "source": [
    "#46. Count the number of syllables in a string."
   ]
  },
  {
   "cell_type": "code",
   "execution_count": 3,
   "id": "4c7b4668-226c-4cd3-9e82-05e2f74f8eb3",
   "metadata": {},
   "outputs": [
    {
     "name": "stdout",
     "output_type": "stream",
     "text": [
      "3\n"
     ]
    }
   ],
   "source": [
    "def syllables(word):\n",
    "    newword = word\n",
    "    countsyllabus = newword.split('-')\n",
    "    return len(countsyllabus)\n",
    "print(syllables(\"he-llo-h\"))\n"
   ]
  },
  {
   "cell_type": "code",
   "execution_count": null,
   "id": "476e0f6f-8c74-413c-8c98-2a673f0055cb",
   "metadata": {},
   "outputs": [],
   "source": [
    "#47. Check if a string contains any special characters."
   ]
  },
  {
   "cell_type": "code",
   "execution_count": 3,
   "id": "52bdfc99-047e-4583-b000-95bfdf499514",
   "metadata": {},
   "outputs": [],
   "source": [
    "import re\n",
    "def special(inputstr):\n",
    "    pattern = re.compile(r'[!@#$%^&*()_+{}\\[\\]:;<>,.?~\\\\/]')\n",
    "    match = pattern.search(inputstr)\n",
    "    return bool(match)"
   ]
  },
  {
   "cell_type": "code",
   "execution_count": 4,
   "id": "c22aba27-c765-41f8-844c-e209666c42e6",
   "metadata": {},
   "outputs": [
    {
     "name": "stdout",
     "output_type": "stream",
     "text": [
      "'Hii, world!' contains special characters: True\n",
      "'i am good bot' contains special characters: False\n",
      "'Special@Character' contains special characters: True\n"
     ]
    }
   ],
   "source": [
    "string1 = \"Hii, world!\"\n",
    "string2 = \"i am good bot\"\n",
    "string3 = \"Special@Character\"\n",
    "\n",
    "result1 = special(string1)\n",
    "result2 = special(string2)\n",
    "result3 = special(string3)\n",
    "\n",
    "print(f\"'{string1}' contains special characters:\", result1)\n",
    "print(f\"'{string2}' contains special characters:\", result2)\n",
    "print(f\"'{string3}' contains special characters:\", result3)"
   ]
  },
  {
   "cell_type": "code",
   "execution_count": 5,
   "id": "daf18c41-bc19-418d-951b-26ca50d01f09",
   "metadata": {},
   "outputs": [],
   "source": [
    "#48. Remove the nth word from a string."
   ]
  },
  {
   "cell_type": "code",
   "execution_count": null,
   "id": "6141ad1d-2601-4233-8579-207c433d999c",
   "metadata": {},
   "outputs": [],
   "source": [
    "def remove(inputstr, n):\n",
    "    word = inputstr.split()\n",
    "    if n >=1 and n <=len(word):\n",
    "        removeword = word.pop(n-1)\n",
    "        modstr = ' '.join(word)\n",
    "        \n",
    "        return modstr, removeword\n",
    "    else:\n",
    "        return None, None\n"
   ]
  },
  {
   "cell_type": "code",
   "execution_count": 5,
   "id": "338c1d32-7f8a-4fbf-bfb7-6013b57ee164",
   "metadata": {},
   "outputs": [
    {
     "name": "stdout",
     "output_type": "stream",
     "text": [
      "Original string: i am good boy.\n",
      "Modified string: i am good\n",
      "Removed word: boy.\n"
     ]
    }
   ],
   "source": [
    "    \n",
    "inputstr1 = \"i am good boy.\"\n",
    "nth = 4\n",
    "modstr1, removeword = remove(inputstr1, nth)\n",
    "print(\"Original string:\", inputstr1)\n",
    "if modstr1 is not None:\n",
    "    print(\"Modified string:\", modstr1)\n",
    "    print(\"Removed word:\", removeword)\n",
    "else:\n",
    "    print(\"Invalid n value.\")"
   ]
  },
  {
   "cell_type": "code",
   "execution_count": 6,
   "id": "d123e79e-8489-4ab4-a2e9-bb20193f404d",
   "metadata": {},
   "outputs": [],
   "source": [
    "# 49. Insert a word at the nth position in a string."
   ]
  },
  {
   "cell_type": "code",
   "execution_count": 7,
   "id": "4c95495f-0e09-4294-95f9-ad3ccf583425",
   "metadata": {},
   "outputs": [
    {
     "name": "stdout",
     "output_type": "stream",
     "text": [
      "The original string : iamboy\n",
      "The add string : good\n",
      "The string after performing addition : iambgoodoy\n"
     ]
    }
   ],
   "source": [
    "test_string = 'iamboy'\n",
    "add_string = \"good\"\n",
    " \n",
    "print(\"The original string : \" + test_string)\n",
    " \n",
    "print(\"The add string : \" + add_string)\n",
    " \n",
    "N = 4\n",
    "\n",
    "res = test_string[ : N] +  add_string + test_string[N : ]\n",
    "\n",
    "print(\"The string after performing addition : \" + str(res))"
   ]
  },
  {
   "cell_type": "code",
   "execution_count": 8,
   "id": "8de95d37-23c3-43e2-99b0-1bc84908b31a",
   "metadata": {},
   "outputs": [],
   "source": [
    "#50. Convert a CSV string to a list of lists."
   ]
  },
  {
   "cell_type": "code",
   "execution_count": 3,
   "id": "cdd64c36-171b-42ff-9cf2-fff42a1a0689",
   "metadata": {},
   "outputs": [
    {
     "name": "stdout",
     "output_type": "stream",
     "text": [
      "['Name', ' Age', ' Country']\n",
      "['Satyam', ' 24', ' India']\n",
      "['Maya', ' 10', ' UK']\n",
      "['Ben', ' 20', ' iceland']\n"
     ]
    }
   ],
   "source": [
    "def csvstring(csv_string):\n",
    "    lines = csv_string.split('\\n')\n",
    "    result = []\n",
    "\n",
    "    for line in lines:\n",
    "        fields = line.split(',')\n",
    "        result.append(fields)\n",
    "\n",
    "    return result\n",
    "\n",
    "csv_data = \"Name, Age, Country\\nSatyam, 24, India\\nMaya, 10, UK\\nBen, 20, iceland\"\n",
    "list_of_lists = csvstring(csv_data)\n",
    "for row in list_of_lists:\n",
    "    print(row)"
   ]
  },
  {
   "cell_type": "code",
   "execution_count": 1,
   "id": "426df98c-8d6c-4980-8e90-19e10681c6ca",
   "metadata": {},
   "outputs": [],
   "source": [
    "#List based practice problem :"
   ]
  },
  {
   "cell_type": "code",
   "execution_count": 2,
   "id": "64c649a7-4d29-4ef8-bfff-5be98ea0accb",
   "metadata": {},
   "outputs": [],
   "source": [
    "#1. Create a list with integers from 1 to 10."
   ]
  },
  {
   "cell_type": "code",
   "execution_count": 3,
   "id": "365656da-fe07-455c-a404-79993e62a786",
   "metadata": {},
   "outputs": [
    {
     "name": "stdout",
     "output_type": "stream",
     "text": [
      "[1, 2, 3, 4, 5, 6, 7, 8, 9, 10]\n"
     ]
    }
   ],
   "source": [
    "integer = [i for i in range(1, 11)]\n",
    "print(integer)"
   ]
  },
  {
   "cell_type": "code",
   "execution_count": 4,
   "id": "77025bb0-1323-4b46-8945-9450e278db9b",
   "metadata": {},
   "outputs": [],
   "source": [
    "#2. Find the length of a list without using the `len()` function."
   ]
  },
  {
   "cell_type": "code",
   "execution_count": 15,
   "id": "59cdbcfd-eb1d-424c-9cb6-6d415826bab0",
   "metadata": {},
   "outputs": [],
   "source": [
    "testlist = [1, 4, 5, 7, 8]\n",
    "count = 0\n",
    "for i in testlist:\n",
    "    count = count + 1"
   ]
  },
  {
   "cell_type": "code",
   "execution_count": 16,
   "id": "c2a48f96-e2bf-41cf-a7f8-0c673722c24a",
   "metadata": {},
   "outputs": [
    {
     "name": "stdout",
     "output_type": "stream",
     "text": [
      "Length of list without using the : 5\n"
     ]
    }
   ],
   "source": [
    "print(\"Length of list without using the : \" + str(count))"
   ]
  },
  {
   "cell_type": "code",
   "execution_count": 17,
   "id": "eb33c206-9ec7-412d-8f61-febff57b06f2",
   "metadata": {},
   "outputs": [],
   "source": [
    "#3. Append an element to the end of a list."
   ]
  },
  {
   "cell_type": "code",
   "execution_count": 4,
   "id": "c6a31ce1-276a-4c41-85bf-3457d5e9ea86",
   "metadata": {},
   "outputs": [
    {
     "name": "stdout",
     "output_type": "stream",
     "text": [
      "Updated list: [10, 20, 30, 40]\n"
     ]
    }
   ],
   "source": [
    "mylist = [10, 20, 30]\n",
    "new = 40\n",
    "mylist.append(new)\n",
    "print(\"Updated list:\", mylist)"
   ]
  },
  {
   "cell_type": "code",
   "execution_count": 5,
   "id": "f326eb83-e059-4dd0-8059-fcb03aa79a6e",
   "metadata": {},
   "outputs": [],
   "source": [
    "#4. Insert an element at a specific index in a list."
   ]
  },
  {
   "cell_type": "code",
   "execution_count": 6,
   "id": "c0de244d-5d41-4925-8533-9b206a45e02b",
   "metadata": {},
   "outputs": [
    {
     "name": "stdout",
     "output_type": "stream",
     "text": [
      "Updated list: [10, 20, 30, 40, 45, 50]\n"
     ]
    }
   ],
   "source": [
    "mylist = [10, 20, 30, 40, 50]\n",
    "n = 45\n",
    "index = 4\n",
    "mylist.insert(index, n)\n",
    "print(\"Updated list:\", mylist)"
   ]
  },
  {
   "cell_type": "code",
   "execution_count": 7,
   "id": "b9e78667-9678-44ce-bb9d-30f8f7abc668",
   "metadata": {},
   "outputs": [],
   "source": [
    "#5. Remove an element from a list by its value."
   ]
  },
  {
   "cell_type": "code",
   "execution_count": 9,
   "id": "94b371ec-6e9e-4ed9-a7e3-15a97156a947",
   "metadata": {},
   "outputs": [
    {
     "name": "stdout",
     "output_type": "stream",
     "text": [
      "Updated list: [10, 20, 30, 40]\n"
     ]
    }
   ],
   "source": [
    "mylist = [10, 20, 30, 40, 50]\n",
    "remove = 50\n",
    "mylist.remove(remove)\n",
    "print(\"Updated list:\", mylist)"
   ]
  },
  {
   "cell_type": "code",
   "execution_count": 10,
   "id": "fd32c13f-6138-4bc3-b3b0-696c452ccc47",
   "metadata": {},
   "outputs": [],
   "source": [
    "#6. Remove an element from a list by its index."
   ]
  },
  {
   "cell_type": "code",
   "execution_count": 2,
   "id": "55cd1c3a-178a-4de0-a945-d6dee5f18155",
   "metadata": {},
   "outputs": [
    {
     "name": "stdout",
     "output_type": "stream",
     "text": [
      "Updated list: [10, 20, 30, 40]\n",
      "Removed element: 50\n"
     ]
    }
   ],
   "source": [
    "mylist = [10, 20, 30, 40, 50]\n",
    "remove = 4\n",
    "removed_element = mylist.pop(remove)\n",
    "print(\"Updated list:\", mylist)\n",
    "print(\"Removed element:\", removed_element)"
   ]
  },
  {
   "cell_type": "code",
   "execution_count": 3,
   "id": "a98bdfb1-936d-475c-8510-128711851eca",
   "metadata": {},
   "outputs": [],
   "source": [
    "#7. Check if an element exists in a list."
   ]
  },
  {
   "cell_type": "code",
   "execution_count": 6,
   "id": "f64bafc9-2c28-4b13-a9ee-2f133748e992",
   "metadata": {},
   "outputs": [
    {
     "name": "stdout",
     "output_type": "stream",
     "text": [
      "40 exists in the list.\n"
     ]
    }
   ],
   "source": [
    "mylist = [10, 20, 30, 40, 50]\n",
    "element = 40\n",
    "if element in mylist:\n",
    "    print(f\"{element} exists in the list.\")\n",
    "else:\n",
    "    print(f\"{element} does not exist in the list.\")"
   ]
  },
  {
   "cell_type": "code",
   "execution_count": 7,
   "id": "f844a212-05fa-457c-a55d-e576cd1de856",
   "metadata": {},
   "outputs": [],
   "source": [
    "#8. Find the index of the first occurrence of an element in a list."
   ]
  },
  {
   "cell_type": "code",
   "execution_count": 8,
   "id": "8aee251f-733d-4dc3-bbad-23ff165d4ae2",
   "metadata": {},
   "outputs": [
    {
     "name": "stdout",
     "output_type": "stream",
     "text": [
      "The index of 30 is 2\n"
     ]
    }
   ],
   "source": [
    "mylist = [10, 20, 30, 40, 50, 30]\n",
    "element = 30\n",
    "index = my_list.index(element)\n",
    "print(f\"The index of {element} is {index}\")"
   ]
  },
  {
   "cell_type": "code",
   "execution_count": 1,
   "id": "f438ca3f-14aa-4811-beae-81ae86caf19c",
   "metadata": {},
   "outputs": [],
   "source": [
    "#9. Count the occurrences of an element in a list."
   ]
  },
  {
   "cell_type": "code",
   "execution_count": 4,
   "id": "66d76881-c4b6-4b0d-a3ee-d8c2100265c3",
   "metadata": {},
   "outputs": [
    {
     "name": "stdout",
     "output_type": "stream",
     "text": [
      "The element 40 occurs 3 times in the list.\n"
     ]
    }
   ],
   "source": [
    "mylist = [10, 20, 40, 40, 50, 60, 40]\n",
    "element = 40\n",
    "count = mylist.count(element)\n",
    "print(f\"The element {element} occurs {count} times in the list.\")"
   ]
  },
  {
   "cell_type": "code",
   "execution_count": 5,
   "id": "df0fe342-cd31-4480-a1ad-e32996eadcdf",
   "metadata": {},
   "outputs": [],
   "source": [
    "#10. Reverse the order of elements in a list."
   ]
  },
  {
   "cell_type": "code",
   "execution_count": 1,
   "id": "94f93a00-378b-4cfc-b8d0-cbb74441a8c9",
   "metadata": {},
   "outputs": [],
   "source": [
    "mylist = [10, 20, 30, 40, 50]\n",
    "\n",
    "mylist.reverse()\n",
    "\n"
   ]
  },
  {
   "cell_type": "code",
   "execution_count": 4,
   "id": "4ad8a410-48c5-475d-9041-6f3468008134",
   "metadata": {},
   "outputs": [
    {
     "name": "stdout",
     "output_type": "stream",
     "text": [
      "Reversed list: [50, 40, 30, 20, 10]\n"
     ]
    }
   ],
   "source": [
    "print(\"Reversed list:\", mylist)"
   ]
  },
  {
   "cell_type": "code",
   "execution_count": 5,
   "id": "12780a2a-0860-4ba9-9ba0-cd44e8a866c3",
   "metadata": {},
   "outputs": [],
   "source": [
    "#11. Sort a list in ascending order."
   ]
  },
  {
   "cell_type": "code",
   "execution_count": 6,
   "id": "1e51b649-d322-436b-86ce-3ed050487688",
   "metadata": {},
   "outputs": [
    {
     "name": "stdout",
     "output_type": "stream",
     "text": [
      "Sorted list in ascending order: [10, 20, 30, 40, 50]\n"
     ]
    }
   ],
   "source": [
    "mylist = [50, 10, 30, 40, 20]\n",
    "\n",
    "mylist.sort()\n",
    "\n",
    "print(\"Sorted list in ascending order:\", mylist)"
   ]
  },
  {
   "cell_type": "code",
   "execution_count": 7,
   "id": "0ad26e01-c026-4e4a-9206-8fcd2260e804",
   "metadata": {},
   "outputs": [],
   "source": [
    "#12. Sort a list in descending order."
   ]
  },
  {
   "cell_type": "code",
   "execution_count": 8,
   "id": "034849df-a028-451c-9277-1490229c8b8e",
   "metadata": {},
   "outputs": [
    {
     "name": "stdout",
     "output_type": "stream",
     "text": [
      "Sorted list in descending order: [50, 40, 30, 20, 10]\n"
     ]
    }
   ],
   "source": [
    "mylist = [50, 10, 30, 40, 20]\n",
    "\n",
    "mylist.sort(reverse=True)\n",
    "\n",
    "print(\"Sorted list in descending order:\", mylist)"
   ]
  },
  {
   "cell_type": "code",
   "execution_count": 9,
   "id": "27bbfc6e-3942-4fd5-8a15-f55238370905",
   "metadata": {},
   "outputs": [],
   "source": [
    "#13. Create a list of even numbers from 1 to 20."
   ]
  },
  {
   "cell_type": "code",
   "execution_count": 11,
   "id": "67f04a5e-fa02-4992-93c7-1bd044bc8ca3",
   "metadata": {},
   "outputs": [
    {
     "name": "stdout",
     "output_type": "stream",
     "text": [
      "List of even numbers: [2, 4, 6, 8, 10, 12, 14, 16, 18, 20]\n"
     ]
    }
   ],
   "source": [
    "even = [i for i in range(2, 21, 2)]\n",
    "\n",
    "print(\"List of even numbers:\", even)"
   ]
  },
  {
   "cell_type": "code",
   "execution_count": 12,
   "id": "dea00e67-e4df-4146-a5e8-1d95c82bb98b",
   "metadata": {},
   "outputs": [],
   "source": [
    "#14. Create a list of odd numbers from 1 to 20."
   ]
  },
  {
   "cell_type": "code",
   "execution_count": 13,
   "id": "166cd495-9491-4721-b988-a7d13055f165",
   "metadata": {},
   "outputs": [
    {
     "name": "stdout",
     "output_type": "stream",
     "text": [
      "List of odd numbers: [1, 3, 5, 7, 9, 11, 13, 15, 17, 19]\n"
     ]
    }
   ],
   "source": [
    "odd = [i for i in range(1, 21, 2)]\n",
    "\n",
    "print(\"List of odd numbers:\", odd)"
   ]
  },
  {
   "cell_type": "code",
   "execution_count": 14,
   "id": "aefb958e-b9c8-4465-8bb9-b8cf527ffc40",
   "metadata": {},
   "outputs": [],
   "source": [
    "#15. Find the sum of all elements in a list."
   ]
  },
  {
   "cell_type": "code",
   "execution_count": 15,
   "id": "00e30881-5de6-4307-bd0d-a76c7ee92da5",
   "metadata": {},
   "outputs": [
    {
     "name": "stdout",
     "output_type": "stream",
     "text": [
      "Sum of elements: 150\n"
     ]
    }
   ],
   "source": [
    "mylist = [10, 20, 30, 40, 50]\n",
    "\n",
    "total = sum(mylist)\n",
    "\n",
    "print(\"Sum of elements:\", total)"
   ]
  },
  {
   "cell_type": "code",
   "execution_count": 16,
   "id": "0c70d6d5-8aa5-438b-8cf1-dd418face4bd",
   "metadata": {},
   "outputs": [],
   "source": [
    "#16. Find the maximum value in a list."
   ]
  },
  {
   "cell_type": "code",
   "execution_count": 19,
   "id": "cf3d95c7-030f-4509-9d2c-979c8ad43896",
   "metadata": {},
   "outputs": [
    {
     "name": "stdout",
     "output_type": "stream",
     "text": [
      "Maximum value: 70\n"
     ]
    }
   ],
   "source": [
    "mylist = [50, 60, 30, 70, 50]\n",
    "\n",
    "maxvalue = max(mylist)\n",
    "\n",
    "print(\"Maximum value:\", maxvalue)"
   ]
  },
  {
   "cell_type": "code",
   "execution_count": 20,
   "id": "b8b92bcd-5c0f-46ca-9deb-0a0347814398",
   "metadata": {},
   "outputs": [],
   "source": [
    "#17. Find the minimum value in a list."
   ]
  },
  {
   "cell_type": "code",
   "execution_count": 21,
   "id": "253fbf07-80d9-40a1-9ae1-4047dcd5f2b9",
   "metadata": {},
   "outputs": [
    {
     "name": "stdout",
     "output_type": "stream",
     "text": [
      "Minimum value: 30\n"
     ]
    }
   ],
   "source": [
    "mylist = [50, 60, 30, 70, 50]\n",
    "\n",
    "value = min(mylist)\n",
    "\n",
    "print(\"Minimum value:\", value)"
   ]
  },
  {
   "cell_type": "code",
   "execution_count": 22,
   "id": "f860105d-e381-402a-954b-4c3ae38e4d0a",
   "metadata": {},
   "outputs": [],
   "source": [
    "#18. Create a list of squares of numbers from 1 to 10."
   ]
  },
  {
   "cell_type": "code",
   "execution_count": 23,
   "id": "518a1ebf-002c-428b-b965-8df2bca66e0d",
   "metadata": {},
   "outputs": [
    {
     "name": "stdout",
     "output_type": "stream",
     "text": [
      "List of squares: [1, 4, 9, 16, 25, 36, 49, 64, 81, 100]\n"
     ]
    }
   ],
   "source": [
    "squares = [i ** 2 for i in range(1, 11)]\n",
    "\n",
    "print(\"List of squares:\", squares)"
   ]
  },
  {
   "cell_type": "code",
   "execution_count": 24,
   "id": "ea48d3cc-6627-417e-a29b-60cb63f0f465",
   "metadata": {},
   "outputs": [],
   "source": [
    "#19. Create a list of random numbers."
   ]
  },
  {
   "cell_type": "code",
   "execution_count": 26,
   "id": "6163c34b-7400-4f1c-a1ea-ba04995e822d",
   "metadata": {},
   "outputs": [
    {
     "name": "stdout",
     "output_type": "stream",
     "text": [
      "List of random integers: [29, 30, 69, 84, 88, 9, 96, 69, 16, 6]\n"
     ]
    }
   ],
   "source": [
    "import random\n",
    "\n",
    "n = [random.randint(1, 100) for _ in range(10)]\n",
    "\n",
    "print(\"List of random integers:\", n)"
   ]
  },
  {
   "cell_type": "code",
   "execution_count": 30,
   "id": "6389c6e9-bc2a-4a4d-ba95-a0c8008ee184",
   "metadata": {},
   "outputs": [],
   "source": [
    "#20. Remove duplicates from a list."
   ]
  },
  {
   "cell_type": "code",
   "execution_count": 31,
   "id": "caebb52b-418e-49d2-874b-cf61d1fca05a",
   "metadata": {},
   "outputs": [
    {
     "name": "stdout",
     "output_type": "stream",
     "text": [
      "List without duplicates: [70, 50, 60, 30]\n"
     ]
    }
   ],
   "source": [
    "mylist = [50, 60, 30, 70, 50]\n",
    "\n",
    "unique = list(set(mylist))\n",
    "\n",
    "print(\"List without duplicates:\", unique)"
   ]
  },
  {
   "cell_type": "code",
   "execution_count": 32,
   "id": "6bf77d98-76bb-48eb-a5e4-46d08412994d",
   "metadata": {},
   "outputs": [],
   "source": [
    "#21. Find the common elements between two lists."
   ]
  },
  {
   "cell_type": "code",
   "execution_count": 45,
   "id": "a5fd0a25-fa26-4f2a-a9fc-a518a8fcc589",
   "metadata": {},
   "outputs": [
    {
     "name": "stdout",
     "output_type": "stream",
     "text": [
      "Difference between lists: [50, 20, 30]\n"
     ]
    }
   ],
   "source": [
    "list1 = [10, 20, 30, 40, 50]\n",
    "list2 = [50, 20, 30, 70, 50]\n",
    "\n",
    "elements = list(set(list1).intersection(list2))\n",
    "\n",
    "print(\"Difference between lists:\", elements)"
   ]
  },
  {
   "cell_type": "code",
   "execution_count": 46,
   "id": "a114c44b-9fed-4207-9c24-bd1c273267d7",
   "metadata": {},
   "outputs": [],
   "source": [
    "#22. Find the difference between two lists."
   ]
  },
  {
   "cell_type": "code",
   "execution_count": 47,
   "id": "8d150bc8-16bd-4b65-abe1-a6103f9b0eee",
   "metadata": {},
   "outputs": [
    {
     "name": "stdout",
     "output_type": "stream",
     "text": [
      "Difference between lists: [40, 10]\n"
     ]
    }
   ],
   "source": [
    "list1 = [10, 20, 30, 40, 50]\n",
    "list2 = [50, 20, 30, 70, 50]\n",
    "\n",
    "difference = list(set(list1).difference(list2))\n",
    "\n",
    "print(\"Difference between lists:\", difference)"
   ]
  },
  {
   "cell_type": "code",
   "execution_count": 48,
   "id": "9ea77f91-e0a9-45a5-a17f-59b7e554745a",
   "metadata": {},
   "outputs": [],
   "source": [
    "#23. Merge two lists."
   ]
  },
  {
   "cell_type": "code",
   "execution_count": 49,
   "id": "dc8174a2-9f30-4d54-b692-825adb6c48ae",
   "metadata": {},
   "outputs": [
    {
     "name": "stdout",
     "output_type": "stream",
     "text": [
      "Merged list: [10, 20, 30, 70, 80, 90]\n"
     ]
    }
   ],
   "source": [
    "list1 = [10, 20, 30]\n",
    "list2 = [70, 80, 90]\n",
    "\n",
    "difference = list1 + list2\n",
    "\n",
    "print(\"Merged list:\", difference)"
   ]
  },
  {
   "cell_type": "code",
   "execution_count": 50,
   "id": "dceb9ce3-2585-402c-afee-755b277ab0f1",
   "metadata": {},
   "outputs": [],
   "source": [
    "#24. Multiply all elements in a list by 2."
   ]
  },
  {
   "cell_type": "code",
   "execution_count": 52,
   "id": "0bd41f16-4ba8-48ff-8ec0-5c88f54fa283",
   "metadata": {},
   "outputs": [
    {
     "name": "stdout",
     "output_type": "stream",
     "text": [
      "Multiplied list: [20, 40, 60, 80, 100]\n"
     ]
    }
   ],
   "source": [
    "mylist = [10, 20, 30, 40, 50]\n",
    "\n",
    "multiplied = [i * 2 for i in mylist]\n",
    "\n",
    "print(\"Multiplied list:\", multiplied)"
   ]
  },
  {
   "cell_type": "code",
   "execution_count": 53,
   "id": "7fc2876d-7e96-4b20-ab9e-94883e82980f",
   "metadata": {},
   "outputs": [],
   "source": [
    "#25. Filter out all even numbers from a list."
   ]
  },
  {
   "cell_type": "code",
   "execution_count": 59,
   "id": "e1422cb3-e0d0-4460-ae11-34e1b75c6307",
   "metadata": {},
   "outputs": [
    {
     "name": "stdout",
     "output_type": "stream",
     "text": [
      "[]\n"
     ]
    }
   ],
   "source": [
    "mylist = [10, 20, 30, 40, 50, 77 , 44]\n",
    "res = []\n",
    "\n",
    "for n in mylist:\n",
    "   if n % 2 == 0:\n",
    "      res.append(n)\n",
    "print(res)"
   ]
  },
  {
   "cell_type": "code",
   "execution_count": 62,
   "id": "5a6da23e-968f-40ec-b160-1f060f7248b8",
   "metadata": {},
   "outputs": [],
   "source": [
    "#26. Convert a list of strings to a list of integers."
   ]
  },
  {
   "cell_type": "code",
   "execution_count": 65,
   "id": "cc2be5d3-2f68-4416-a12f-744a4171cb8c",
   "metadata": {},
   "outputs": [
    {
     "name": "stdout",
     "output_type": "stream",
     "text": [
      "List of integers: [10, 20, 30, 40, 50]\n"
     ]
    }
   ],
   "source": [
    "stringlist = [\"10\", \"20\", \"30\", \"40\", \"50\"]\n",
    "\n",
    "integerlist = [int(x) for x in stringlist]\n",
    "\n",
    "print(\"List of integers:\", integerlist)"
   ]
  },
  {
   "cell_type": "code",
   "execution_count": 66,
   "id": "c35d16c0-1d41-494b-9e54-bda39a0d256a",
   "metadata": {},
   "outputs": [],
   "source": [
    "#27. Convert a list of integers to a list of strings."
   ]
  },
  {
   "cell_type": "code",
   "execution_count": 67,
   "id": "cd1ebfa7-7d3b-4c99-8bf6-de4db2282f0a",
   "metadata": {},
   "outputs": [
    {
     "name": "stdout",
     "output_type": "stream",
     "text": [
      "List of strings: ['10', '20', '30', '40', '50']\n"
     ]
    }
   ],
   "source": [
    "integer_list = [10, 20, 30, 40, 50]\n",
    "\n",
    "string_list = [str(x) for x in integer_list]\n",
    "\n",
    "print(\"List of strings:\", string_list)"
   ]
  },
  {
   "cell_type": "code",
   "execution_count": 68,
   "id": "6cf36081-82f1-407a-ab22-8b1875e6369a",
   "metadata": {},
   "outputs": [],
   "source": [
    "#28. Flatten a nested list."
   ]
  },
  {
   "cell_type": "code",
   "execution_count": 70,
   "id": "4bda0abc-1b03-4377-b4a7-6787d55ab645",
   "metadata": {},
   "outputs": [
    {
     "name": "stdout",
     "output_type": "stream",
     "text": [
      "List [[11, 22, 33, 44], [55, 66, 77], [88, 99, 100]]\n",
      "Flat List [11, 22, 33, 44, 55, 66, 77, 88, 99, 100]\n"
     ]
    }
   ],
   "source": [
    "def flat(lis):\n",
    "    flatList = []\n",
    "    for element in lis:\n",
    "        if type(element) is list:\n",
    "            for item in element:\n",
    "                flatList.append(item)\n",
    "        else:\n",
    "            flatList.append(element)\n",
    "    return flatList\n",
    " \n",
    "     \n",
    "lis = [[11, 22, 33, 44], [55, 66, 77], [88, 99, 100]]\n",
    "print('List', lis)\n",
    "print('Flat List', flat(lis))"
   ]
  },
  {
   "cell_type": "code",
   "execution_count": 71,
   "id": "6a9ee1be-bc54-43f2-9df6-2501b2affe9f",
   "metadata": {},
   "outputs": [],
   "source": [
    "#29. Create a list of the first 10 Fibonacci numbers."
   ]
  },
  {
   "cell_type": "code",
   "execution_count": 2,
   "id": "967cbd2b-7db4-4afe-aa17-ff9c172367e7",
   "metadata": {},
   "outputs": [
    {
     "name": "stdout",
     "output_type": "stream",
     "text": [
      "First 10 Fibonacci numbers: [0, 1, 1, 2, 3, 5, 8, 13, 21, 34]\n"
     ]
    }
   ],
   "source": [
    "def generate_fibonacci(n):\n",
    "    fibonaccilist = [0, 1] \n",
    "    for i in range(2, n):\n",
    "        next_fibonacci = fibonaccilist[i - 1] + fibonaccilist[i - 2]\n",
    "        fibonaccilist.append(next_fibonacci)\n",
    "\n",
    "    return fibonaccilist\n",
    "\n",
    "fibonacci_numbers = generate_fibonacci(10)\n",
    "\n",
    "print(\"First 10 Fibonacci numbers:\", fibonacci_numbers)"
   ]
  },
  {
   "cell_type": "code",
   "execution_count": 8,
   "id": "9f7da01a-367b-4c10-acc0-be77ab1724e3",
   "metadata": {},
   "outputs": [],
   "source": [
    "#30. Check if a list is sorted."
   ]
  },
  {
   "cell_type": "code",
   "execution_count": 9,
   "id": "54617493-f744-43f0-9254-4362ba3364c7",
   "metadata": {},
   "outputs": [
    {
     "name": "stdout",
     "output_type": "stream",
     "text": [
      "The list is sorted in ascending order.\n",
      "The list is not sorted in ascending order.\n"
     ]
    }
   ],
   "source": [
    "def ascending(lst):\n",
    "    for i in range(1, len(lst)):\n",
    "        if lst[i] < lst[i - 1]:\n",
    "            return False\n",
    "    return True\n",
    "\n",
    "ascending_list = [10, 20, 30, 40, 50]\n",
    "ascending_list1 = [80, 20, 90, 40, 50]\n",
    "\n",
    "if ascending(ascending_list):\n",
    "    print(\"The list is sorted in ascending order.\")\n",
    "else:\n",
    "    print(\"The list is not sorted in ascending order.\")\n",
    "if ascending(ascending_list1):\n",
    "    print(\"The list is sorted in ascending order.\")\n",
    "else:\n",
    "    print(\"The list is not sorted in ascending order.\")"
   ]
  },
  {
   "cell_type": "code",
   "execution_count": 10,
   "id": "19d2ae26-f250-48c0-8daa-7053d4c10c5b",
   "metadata": {},
   "outputs": [],
   "source": [
    "#31. Rotate a list to the left by `n` positions."
   ]
  },
  {
   "cell_type": "code",
   "execution_count": 14,
   "id": "87066b88-197e-47b5-8746-43c00ee2ba02",
   "metadata": {},
   "outputs": [
    {
     "name": "stdout",
     "output_type": "stream",
     "text": [
      "Rotated list: [3, 4, 5, 6, 1, 2]\n"
     ]
    }
   ],
   "source": [
    "def rotate_left(lst, n):\n",
    "    n = n % len(lst)\n",
    "    rotated = lst[n:] + lst[:n]\n",
    "    return rotated\n",
    "\n",
    "my_list = [1, 2, 3, 4, 5, 6]\n",
    "n = 2\n",
    "rotated_list = rotate_left(my_list, n)\n",
    "\n",
    "print(\"Rotated list:\", rotated_list)"
   ]
  },
  {
   "cell_type": "code",
   "execution_count": 15,
   "id": "42891f37-6163-40b2-b083-cecc386a87bb",
   "metadata": {},
   "outputs": [],
   "source": [
    "#32. Rotate a list to the right by `n` positions."
   ]
  },
  {
   "cell_type": "code",
   "execution_count": 16,
   "id": "c62d3ba0-dac4-4504-af35-b07f1ddf8f84",
   "metadata": {},
   "outputs": [
    {
     "name": "stdout",
     "output_type": "stream",
     "text": [
      "Rotated list: [5, 6, 1, 2, 3, 4]\n"
     ]
    }
   ],
   "source": [
    "def rotate_right(lst, n):\n",
    "    n = n % len(lst) \n",
    "    rotated = lst[-n:] + lst[:-n]\n",
    "    return rotated\n",
    "\n",
    "my_list = [1, 2, 3, 4, 5, 6]\n",
    "n = 2\n",
    "rotated_list = rotate_right(my_list, n)\n",
    "\n",
    "print(\"Rotated list:\", rotated_list)"
   ]
  },
  {
   "cell_type": "code",
   "execution_count": 17,
   "id": "c0b3a5cd-4cc0-47c6-b0db-101fe55a76fd",
   "metadata": {},
   "outputs": [],
   "source": [
    "#33. Create a list of prime numbers up to 50."
   ]
  },
  {
   "cell_type": "code",
   "execution_count": 20,
   "id": "9d9dfd5d-05fd-49f9-8a30-5a972ea8e6db",
   "metadata": {},
   "outputs": [
    {
     "name": "stdout",
     "output_type": "stream",
     "text": [
      "[2, 3, 5, 7, 11, 13, 17, 19, 23, 29, 31, 37, 41, 43, 47]\n"
     ]
    }
   ],
   "source": [
    "def prime_numbers(n):\n",
    "    primes = []\n",
    "    for i in range(2, n + 1):\n",
    "        for j in range(2, int(i ** 0.5) + 1):\n",
    "            if i%j == 0:\n",
    "                break\n",
    "        else:\n",
    "            primes.append(i)\n",
    "    return primes\n",
    "\n",
    "prime_list = prime_numbers(50)\n",
    "print(prime_list)"
   ]
  },
  {
   "cell_type": "code",
   "execution_count": 22,
   "id": "43063055-2340-421e-a536-f7d2a8a9f8b1",
   "metadata": {},
   "outputs": [],
   "source": [
    "#34. Split a list into chunks of size `n`."
   ]
  },
  {
   "cell_type": "code",
   "execution_count": 26,
   "id": "afa49b80-a844-4b70-9c39-fc104eda27c8",
   "metadata": {},
   "outputs": [
    {
     "name": "stdout",
     "output_type": "stream",
     "text": [
      "[['good', 'for', 'bad', 'like'], ['men', 'bad', 'gud', 'life'], ['questions', 'words']]\n"
     ]
    }
   ],
   "source": [
    "my_list = ['good', 'for', 'bad', 'like', \n",
    "           'men','bad', 'gud', 'life', \n",
    "               'questions','words'] \n",
    "\n",
    "def divide_chunks(l, n): \n",
    "      \n",
    "    for i in range(0, len(l), n):  \n",
    "        yield l[i:i + n]    \n",
    "n = 4\n",
    "  \n",
    "x = list(divide_chunks(my_list, n)) \n",
    "print (x) "
   ]
  },
  {
   "cell_type": "code",
   "execution_count": 27,
   "id": "2527a1d9-5451-48f8-8bce-8ea6197ebf19",
   "metadata": {},
   "outputs": [],
   "source": [
    "#35. Find the second largest number in a list."
   ]
  },
  {
   "cell_type": "code",
   "execution_count": 28,
   "id": "87078c65-32d2-4933-b8d4-f13b3fe84375",
   "metadata": {},
   "outputs": [
    {
     "name": "stdout",
     "output_type": "stream",
     "text": [
      "Second largest number: 25\n"
     ]
    }
   ],
   "source": [
    "my_list = [10, 5, 20, 15, 30, 25]\n",
    "\n",
    "# Remove duplicates and sort the list in ascending order\n",
    "sorted_list = sorted(set(my_list))\n",
    "\n",
    "# Find the second largest number\n",
    "if len(sorted_list) >= 2:\n",
    "    second_largest = sorted_list[-2]\n",
    "    print(\"Second largest number:\", second_largest)\n",
    "else:\n",
    "    print(\"The list does not contain enough elements.\")"
   ]
  },
  {
   "cell_type": "code",
   "execution_count": 1,
   "id": "32d3baa5-6663-4be0-84cc-cd83e8bbac4e",
   "metadata": {},
   "outputs": [],
   "source": [
    "#36. Replace every element in a list with its square."
   ]
  },
  {
   "cell_type": "code",
   "execution_count": 4,
   "id": "af9de55c-d53a-4130-bf7c-06af76ef3685",
   "metadata": {},
   "outputs": [
    {
     "name": "stdout",
     "output_type": "stream",
     "text": [
      "Squared list: [4, 16, 36, 64, 100]\n"
     ]
    }
   ],
   "source": [
    "mylist = [3, 6, 9, 12, 15]\n",
    "\n",
    "squared = [x ** 2 for x in my_list]\n",
    "\n",
    "print(\"Squared list:\", squared)\n"
   ]
  },
  {
   "cell_type": "code",
   "execution_count": 6,
   "id": "cda60cac-20d5-4ce9-8d46-0243bd48ab95",
   "metadata": {},
   "outputs": [],
   "source": [
    "#37. Convert a list to a dictionary where list elements become keys and their indices become values."
   ]
  },
  {
   "cell_type": "code",
   "execution_count": 3,
   "id": "a7d1b9bd-e266-43f8-9472-65be85444e71",
   "metadata": {},
   "outputs": [
    {
     "name": "stdout",
     "output_type": "stream",
     "text": [
      "Converted dictionary: {'Raj': 0, 'shyam': 1, 'arjun': 2, 'monika': 3, 'satyam': 4}\n"
     ]
    }
   ],
   "source": [
    "mylist = ['Raj', 'shyam', 'arjun', 'monika', 'satyam']\n",
    "\n",
    "mydict = {element: index for index, element in enumerate(mylist)}\n",
    "\n",
    "print(\"Converted dictionary:\", mydict)"
   ]
  },
  {
   "cell_type": "code",
   "execution_count": 4,
   "id": "d484bb07-303a-423f-8e18-d58032a5845f",
   "metadata": {},
   "outputs": [],
   "source": [
    "#38. Shuffle the elements of a list randomly."
   ]
  },
  {
   "cell_type": "code",
   "execution_count": 5,
   "id": "1b856d74-0c79-4f2e-a572-1ce115bd3c1b",
   "metadata": {},
   "outputs": [
    {
     "name": "stdout",
     "output_type": "stream",
     "text": [
      "Shuffled list: [9, 2, 5, 6, 1, 4, 10, 7, 3, 8]\n"
     ]
    }
   ],
   "source": [
    "import random\n",
    "\n",
    "mylist = [1, 2, 3, 4, 5, 6, 7, 8, 9, 10]\n",
    "\n",
    "random.shuffle(mylist)\n",
    "\n",
    "print(\"Shuffled list:\", mylist)"
   ]
  },
  {
   "cell_type": "code",
   "execution_count": 6,
   "id": "7e4e1bb7-e835-41f1-8dfc-38cd6a417bfc",
   "metadata": {},
   "outputs": [],
   "source": [
    "#39. Create a list of the first 10 factorial numbers."
   ]
  },
  {
   "cell_type": "code",
   "execution_count": 9,
   "id": "6611f13d-f387-4e02-be10-5ed576de66bc",
   "metadata": {},
   "outputs": [
    {
     "name": "stdout",
     "output_type": "stream",
     "text": [
      "List of the first 10 factorial numbers: [1, 1, 2, 6, 24, 120, 720, 5040, 40320, 362880]\n"
     ]
    }
   ],
   "source": [
    "def factorial(n):\n",
    "    if n == 0 or n == 1:\n",
    "        return 1\n",
    "    else:\n",
    "        return n * factorial(n - 1)\n",
    "\n",
    "# Create a list of the first 10 factorial numbers\n",
    "n = [factorial(i) for i in range(10)]\n",
    "\n",
    "# Print the list of factorial numbers\n",
    "print(\"List of the first 10 factorial numbers:\", n)"
   ]
  },
  {
   "cell_type": "code",
   "execution_count": 10,
   "id": "b46ff38c-d758-495e-bdc7-96623b3e5b46",
   "metadata": {},
   "outputs": [],
   "source": [
    "#40Check if two lists have at least one element in common."
   ]
  },
  {
   "cell_type": "code",
   "execution_count": 13,
   "id": "aae79412-3cef-4ac8-a58d-55b52425c758",
   "metadata": {},
   "outputs": [
    {
     "name": "stdout",
     "output_type": "stream",
     "text": [
      "The lists have at least one common element.\n",
      "The lists do not have any common elements.\n"
     ]
    }
   ],
   "source": [
    "def common(list1, list2):\n",
    "    for item in list1:\n",
    "        if item in list2:\n",
    "            return True\n",
    "    return False\n",
    "\n",
    "list1 = [1, 2, 3, 4, 5]\n",
    "list2 = [4, 5, 6, 7, 8]\n",
    "\n",
    "a = [1, 2, 3, 4, 5]\n",
    "b = [6, 7, 8, 9]\n",
    "\n",
    "if common(list1, list2):\n",
    "    print(\"The lists have at least one common element.\")\n",
    "else:\n",
    "    print(\"The lists do not have any common elements.\")\n",
    "if common(a, b):\n",
    "    print(\"The lists have at least one common element.\")\n",
    "else:\n",
    "    print(\"The lists do not have any common elements.\")    "
   ]
  },
  {
   "cell_type": "code",
   "execution_count": 12,
   "id": "edff111f-3687-4856-9d72-31d016091b92",
   "metadata": {},
   "outputs": [],
   "source": [
    "#41. Remove all elements from a list."
   ]
  },
  {
   "cell_type": "code",
   "execution_count": 15,
   "id": "e5897900-c1d3-482f-bd2f-227a90bdc4f4",
   "metadata": {},
   "outputs": [
    {
     "name": "stdout",
     "output_type": "stream",
     "text": [
      "Empty list: []\n"
     ]
    }
   ],
   "source": [
    "my = [1, 2, 3, 4, 5]\n",
    "\n",
    "mylist.clear()\n",
    "\n",
    "print(\"Empty list:\", mylist)"
   ]
  },
  {
   "cell_type": "code",
   "execution_count": 16,
   "id": "77232136-c66c-43e6-b9cd-ed2a6ab4438d",
   "metadata": {},
   "outputs": [],
   "source": [
    "#42Replace negative numbers in a list with 0."
   ]
  },
  {
   "cell_type": "code",
   "execution_count": 1,
   "id": "bfa003b6-90ed-4da0-83f7-1d4822b44b33",
   "metadata": {},
   "outputs": [
    {
     "name": "stdout",
     "output_type": "stream",
     "text": [
      "List after replacing negative numbers with 0: [10, 0, 120, 0, 30, 0, 56, 90]\n"
     ]
    }
   ],
   "source": [
    "mylist = [10, -15, 120, -1, 30, -25,56 , 90 ]\n",
    "\n",
    "for i in range(len(mylist)):\n",
    "    if mylist[i] < 0:\n",
    "        mylist[i] = 0\n",
    "\n",
    "print(\"List after replacing negative numbers with 0:\", mylist)\n"
   ]
  },
  {
   "cell_type": "code",
   "execution_count": 2,
   "id": "7ea56e2f-d446-41a9-ba47-1aadc7270cdf",
   "metadata": {},
   "outputs": [],
   "source": [
    "#43Convert a string into a list of words."
   ]
  },
  {
   "cell_type": "code",
   "execution_count": 4,
   "id": "5fe42157-9e65-4d75-af63-1af2738c5ef4",
   "metadata": {},
   "outputs": [
    {
     "name": "stdout",
     "output_type": "stream",
     "text": [
      "List of words: ['i', 'am', 'good', 'boy']\n"
     ]
    }
   ],
   "source": [
    "my_string = \"i am good boy\"\n",
    "\n",
    "word = my_string.split()\n",
    "\n",
    "print(\"List of words:\", word)"
   ]
  },
  {
   "cell_type": "code",
   "execution_count": 5,
   "id": "00eaec25-9e4c-4679-8eed-49b841559b58",
   "metadata": {},
   "outputs": [],
   "source": [
    "#44 Convert a list of words into a string"
   ]
  },
  {
   "cell_type": "code",
   "execution_count": 6,
   "id": "a4769f41-380b-427a-92f4-37e1ee7c8677",
   "metadata": {},
   "outputs": [
    {
     "name": "stdout",
     "output_type": "stream",
     "text": [
      "Converted string: i am good boy.\n"
     ]
    }
   ],
   "source": [
    "word = [\"i\", \"am\", \"good\", \"boy.\"]\n",
    "\n",
    "my_string = \" \".join(word)\n",
    "\n",
    "print(\"Converted string:\", my_string)"
   ]
  },
  {
   "cell_type": "code",
   "execution_count": 7,
   "id": "35568c2e-2a43-4283-8e1a-e899b46f970a",
   "metadata": {},
   "outputs": [],
   "source": [
    "#45Create a list of the first `n` powers of 2."
   ]
  },
  {
   "cell_type": "code",
   "execution_count": 8,
   "id": "913be8fc-7310-4bd3-b8fb-8bc9411e0eb1",
   "metadata": {},
   "outputs": [
    {
     "name": "stdout",
     "output_type": "stream",
     "text": [
      "List of the first 5 powers of 2: [1, 2, 4, 8, 16]\n"
     ]
    }
   ],
   "source": [
    "n = 5\n",
    "\n",
    "power = [2 ** i for i in range(n)]\n",
    "\n",
    "print(\"List of the first\", n, \"powers of 2:\", power)"
   ]
  },
  {
   "cell_type": "code",
   "execution_count": 9,
   "id": "5f9b7d5a-e5db-45e6-92eb-90957b191434",
   "metadata": {},
   "outputs": [],
   "source": [
    "#46. Find the longest string in a list of strings."
   ]
  },
  {
   "cell_type": "code",
   "execution_count": 12,
   "id": "a446308b-eb7f-411a-a601-201558b2f154",
   "metadata": {},
   "outputs": [
    {
     "name": "stdout",
     "output_type": "stream",
     "text": [
      "Longest string: satyams\n"
     ]
    }
   ],
   "source": [
    "string_list = ['Raj', 'shyam', 'arjun', 'monika', 'satyams']\n",
    "longest = \"\"\n",
    "for s in string_list:\n",
    "    if len(s) > len(longest):\n",
    "        longest = s\n",
    "\n",
    "# Print the longest string\n",
    "print(\"Longest string:\", longest)"
   ]
  },
  {
   "cell_type": "code",
   "execution_count": 1,
   "id": "1b230df8-8ada-4b7c-82c0-dae927a70ea1",
   "metadata": {},
   "outputs": [],
   "source": [
    "#47. Find the shortest string in a list of strings."
   ]
  },
  {
   "cell_type": "code",
   "execution_count": 2,
   "id": "e5a34bb1-06d7-4135-b023-20d7269f8af5",
   "metadata": {},
   "outputs": [
    {
     "name": "stdout",
     "output_type": "stream",
     "text": [
      "Shortest string: Raj\n"
     ]
    }
   ],
   "source": [
    "string_list = ['Raj', 'shyam', 'arjun', 'monika', 'satyams']\n",
    "shortest = string_list[0] \n",
    "for s in string_list:\n",
    "    if len(s) < len(shortest):\n",
    "        shortest_string = s\n",
    "\n",
    "# Print the shortest string\n",
    "print(\"Shortest string:\", shortest)"
   ]
  },
  {
   "cell_type": "code",
   "execution_count": 3,
   "id": "75e5fd3a-4ac0-4c9b-b638-9aaa45d36326",
   "metadata": {},
   "outputs": [],
   "source": [
    "#48. Create a list of the first `n` triangular numbers."
   ]
  },
  {
   "cell_type": "code",
   "execution_count": 5,
   "id": "90bd78f6-cff3-4fe4-aca2-81ce2a0d3f6c",
   "metadata": {},
   "outputs": [
    {
     "name": "stdout",
     "output_type": "stream",
     "text": [
      "List of the first 10 triangular numbers: [1, 3, 6, 10, 15, 21, 28, 36, 45, 55]\n"
     ]
    }
   ],
   "source": [
    "def triangular(n):\n",
    "    return [i * (i + 1) // 2 for i in range(1, n + 1)]\n",
    "\n",
    "n = 10\n",
    "\n",
    "triangularlist = triangular(n)\n",
    "\n",
    "print(\"List of the first\", n, \"triangular numbers:\", triangularlist)"
   ]
  },
  {
   "cell_type": "code",
   "execution_count": 6,
   "id": "32bbd9c3-907f-44ad-b013-ef986fdb3e0f",
   "metadata": {},
   "outputs": [],
   "source": [
    "#49. Check if a list contains another list as a subsequence."
   ]
  },
  {
   "cell_type": "code",
   "execution_count": 1,
   "id": "66da2464-a43b-48dd-8e41-1ec09d158882",
   "metadata": {},
   "outputs": [
    {
     "name": "stdout",
     "output_type": "stream",
     "text": [
      "True\n"
     ]
    }
   ],
   "source": [
    "def is_sublist(A, B):\n",
    "    if not A:\n",
    "        return True\n",
    "    if not B:\n",
    "        return False\n",
    "    if A[0] == B[0]:\n",
    "        return is_sublist(A[1:], B[1:])\n",
    "    return is_sublist(A, B[1:])\n",
    " \n",
    "A = [1, 2]\n",
    "B = [1, 2, 3, 1, 1, 2, 2]\n",
    " \n",
    "res = is_sublist(A, B)\n",
    " \n",
    "print(res)"
   ]
  },
  {
   "cell_type": "code",
   "execution_count": 2,
   "id": "0edc8c1f-3b3c-402a-9896-5c9d3cde508c",
   "metadata": {},
   "outputs": [],
   "source": [
    "#50. Swap two elements in a list by their indices."
   ]
  },
  {
   "cell_type": "code",
   "execution_count": 4,
   "id": "feb0c387-fba4-49d1-98b7-77d51867ccce",
   "metadata": {},
   "outputs": [
    {
     "name": "stdout",
     "output_type": "stream",
     "text": [
      "List after swapping elements: [6, 7, 8, 0, 9]\n"
     ]
    }
   ],
   "source": [
    "mylist = [6, 7, 8, 9, 0]\n",
    "\n",
    "index1 = 3\n",
    "index2 = 4\n",
    "\n",
    "temp = mylist[index1]\n",
    "mylist[index1] = mylist[index2]\n",
    "mylist[index2] = temp\n",
    "\n",
    "print(\"List after swapping elements:\", mylist)\n"
   ]
  },
  {
   "cell_type": "code",
   "execution_count": null,
   "id": "a8a6f7f1-468e-482b-99f3-c672c2282d05",
   "metadata": {},
   "outputs": [],
   "source": []
  }
 ],
 "metadata": {
  "kernelspec": {
   "display_name": "Python 3 (ipykernel)",
   "language": "python",
   "name": "python3"
  },
  "language_info": {
   "codemirror_mode": {
    "name": "ipython",
    "version": 3
   },
   "file_extension": ".py",
   "mimetype": "text/x-python",
   "name": "python",
   "nbconvert_exporter": "python",
   "pygments_lexer": "ipython3",
   "version": "3.10.8"
  }
 },
 "nbformat": 4,
 "nbformat_minor": 5
}
